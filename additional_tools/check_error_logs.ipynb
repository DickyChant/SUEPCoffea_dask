{
 "cells": [
  {
   "cell_type": "code",
   "execution_count": 1,
   "id": "6fb952ab-6d9c-4c24-80ec-a86b9a5afd29",
   "metadata": {},
   "outputs": [],
   "source": [
    "import os, sys, subprocess\n",
    "import glob"
   ]
  },
  {
   "cell_type": "markdown",
   "id": "014ff3c5-124b-4899-9a54-03ca818c5f84",
   "metadata": {},
   "source": [
    "`base_dir`: where the logs are stored.<br>\n",
    "`identifier`: all dirs with this in their names will be selected.<br>\n",
    "`excluders`: all dirs with these in their names will be excluded.<br>\n",
    "`job_num`: check one job num or all. (`*`).<br>\n",
    "`err`: error to select files based on."
   ]
  },
  {
   "cell_type": "code",
   "execution_count": 21,
   "id": "e0ec2cbd-ab53-48ac-9e0a-7895d2610829",
   "metadata": {},
   "outputs": [],
   "source": [
    "base_dir = '/work/submit/lavezzo/SUEP/logs/'\n",
    "identifiers = ['inf', '20UL17']\n",
    "excluders = ['inf_data']\n",
    "err = '\"A process in the process pool was terminated abruptly\"'\n",
    "job_num = '*'      # set to * for any"
   ]
  },
  {
   "cell_type": "code",
   "execution_count": 22,
   "id": "8d7ec520-b2e9-459b-bb34-b3fd0dc0b800",
   "metadata": {
    "tags": []
   },
   "outputs": [
    {
     "data": {
      "text/plain": [
       "['jobs_inf_2016_2017_QCD_Pt_3200toInf_TuneCP5_13TeV_pythia8+RunIISummer20UL17MiniAODv2-106X_mc2017_realistic_v9-v1+MINIAODSIM',\n",
       " 'jobs_inf_2016_2017_QCD_HT50to100_TuneCP5_PSWeights_13TeV-madgraph-pythia8+RunIISummer20UL17MiniAODv2-106X_mc2017_realistic_v9-v1+MINIAODSIM',\n",
       " 'jobs_inf_2016_2017_QCD_Pt_50to80_TuneCP5_13TeV_pythia8+RunIISummer20UL17MiniAODv2-106X_mc2017_realistic_v9-v1+MINIAODSIM',\n",
       " 'jobs_inf_2016_2017_QCD_HT1500to2000_TuneCP5_PSWeights_13TeV-madgraph-pythia8+RunIISummer20UL17MiniAODv2-106X_mc2017_realistic_v9-v1+MINIAODSIM',\n",
       " 'jobs_inf_2016_2017_QCD_Pt_120to170_TuneCP5_13TeV_pythia8+RunIISummer20UL17MiniAODv2-106X_mc2017_realistic_v9-v1+MINIAODSIM',\n",
       " 'jobs_inf_2016_2017_QCD_HT300to500_TuneCP5_PSWeights_13TeV-madgraph-pythia8+RunIISummer20UL17MiniAODv2-106X_mc2017_realistic_v9-v1+MINIAODSIM',\n",
       " 'jobs_inf_2016_2017_QCD_Pt_170to300_TuneCP5_13TeV_pythia8+RunIISummer20UL17MiniAODv2-106X_mc2017_realistic_v9-v1+MINIAODSIM',\n",
       " 'jobs_inf_2016_2017_QCD_Pt_1400to1800_TuneCP5_13TeV_pythia8+RunIISummer20UL17MiniAODv2-106X_mc2017_realistic_v9-v1+MINIAODSIM',\n",
       " 'jobs_inf_2016_2017_QCD_Pt_80to120_TuneCP5_13TeV_pythia8+RunIISummer20UL17MiniAODv2-106X_mc2017_realistic_v9-v1+MINIAODSIM',\n",
       " 'jobs_inf_2016_2017_QCD_Pt_600to800_TuneCP5_13TeV_pythia8+RunIISummer20UL17MiniAODv2-106X_mc2017_realistic_v9-v1+MINIAODSIM',\n",
       " 'jobs_inf_2016_2017_QCD_HT500to700_TuneCP5_PSWeights_13TeV-madgraph-pythia8+RunIISummer20UL17MiniAODv2-106X_mc2017_realistic_v9-v1+MINIAODSIM',\n",
       " 'jobs_inf_2016_2017_QCD_HT1000to1500_TuneCP5_PSWeights_13TeV-madgraph-pythia8+RunIISummer20UL17MiniAODv2-106X_mc2017_realistic_v9-v1+MINIAODSIM',\n",
       " 'jobs_inf_2016_2017_QCD_HT700to1000_TuneCP5_PSWeights_13TeV-madgraph-pythia8+RunIISummer20UL17MiniAODv2-106X_mc2017_realistic_v9-v1+MINIAODSIM',\n",
       " 'jobs_inf_2016_2017_QCD_Pt_2400to3200_TuneCP5_13TeV_pythia8+RunIISummer20UL17MiniAODv2-106X_mc2017_realistic_v9-v1+MINIAODSIM',\n",
       " 'jobs_inf_2016_2017_QCD_Pt_1800to2400_TuneCP5_13TeV_pythia8+RunIISummer20UL17MiniAODv2-106X_mc2017_realistic_v9-v1+MINIAODSIM',\n",
       " 'jobs_inf_2016_2017_QCD_Pt_1000to1400_TuneCP5_13TeV_pythia8+RunIISummer20UL17MiniAODv2-106X_mc2017_realistic_v9-v1+MINIAODSIM',\n",
       " 'jobs_inf_2016_2017_QCD_Pt_470to600_TuneCP5_13TeV_pythia8+RunIISummer20UL17MiniAODv2-106X_mc2017_realistic_v9-v1+MINIAODSIM',\n",
       " 'jobs_inf_2016_2017_QCD_Pt_800to1000_TuneCP5_13TeV_pythia8+RunIISummer20UL17MiniAODv2-106X_mc2017_realistic_v9-v1+MINIAODSIM',\n",
       " 'jobs_inf_2016_2017_QCD_Pt_30to50_TuneCP5_13TeV_pythia8+RunIISummer20UL17MiniAODv2-106X_mc2017_realistic_v9-v1+MINIAODSIM',\n",
       " 'jobs_inf_2016_2017_QCD_HT200to300_TuneCP5_PSWeights_13TeV-madgraph-pythia8+RunIISummer20UL17MiniAODv2-106X_mc2017_realistic_v9-v1+MINIAODSIM',\n",
       " 'jobs_inf_2016_2017_QCD_HT100to200_TuneCP5_PSWeights_13TeV-madgraph-pythia8+RunIISummer20UL17MiniAODv2-106X_mc2017_realistic_v9-v1+MINIAODSIM',\n",
       " 'jobs_inf_2016_2017_QCD_Pt_15to30_TuneCP5_13TeV_pythia8+RunIISummer20UL17MiniAODv2-106X_mc2017_realistic_v9-v1+MINIAODSIM',\n",
       " 'jobs_inf_2016_2017_QCD_HT2000toInf_TuneCP5_PSWeights_13TeV-madgraph-pythia8+RunIISummer20UL17MiniAODv2-106X_mc2017_realistic_v9-v1+MINIAODSIM',\n",
       " 'jobs_inf_2016_2017_QCD_Pt_300to470_TuneCP5_13TeV_pythia8+RunIISummer20UL17MiniAODv2-106X_mc2017_realistic_v9-v1+MINIAODSIM']"
      ]
     },
     "execution_count": 22,
     "metadata": {},
     "output_type": "execute_result"
    }
   ],
   "source": [
    "dirs = [name for name in os.listdir(base_dir) if all([i in name for i in identifiers])]\n",
    "dirs = [name for name in dirs if not any([excl in name for excl in excluders])]\n",
    "# these are the directories selected to be analyzed\n",
    "dirs"
   ]
  },
  {
   "cell_type": "code",
   "execution_count": 8,
   "id": "d7ad4bdb-38bc-47fe-b43e-b869a04f43ee",
   "metadata": {},
   "outputs": [],
   "source": [
    "for d in dirs:\n",
    "    from_dir = d\n",
    "    d = d.split(\"jobs_inf_\")[-1]\n",
    "    to_dir = 'jobs_inf_2016_2017_' + d\n",
    "    os.system(\"mv \" + base_dir + from_dir + \" \" + base_dir + to_dir)"
   ]
  },
  {
   "cell_type": "code",
   "execution_count": 9,
   "id": "2316f0f1-5ab5-4c8a-9bce-47b34c8df814",
   "metadata": {},
   "outputs": [
    {
     "name": "stdout",
     "output_type": "stream",
     "text": [
      "jobs_inf_2016_2017_2016_2017_QCD_Pt_1400to1800_TuneCP5_13TeV_pythia8+RunIISummer20UL16MiniAODv2-106X_mcRun2_asymptotic_v17-v1+MINIAODSIM\n"
     ]
    },
    {
     "ename": "IndexError",
     "evalue": "list index out of range",
     "output_type": "error",
     "traceback": [
      "\u001b[0;31m---------------------------------------------------------------------------\u001b[0m",
      "\u001b[0;31mIndexError\u001b[0m                                Traceback (most recent call last)",
      "Input \u001b[0;32mIn [9]\u001b[0m, in \u001b[0;36m<cell line: 2>\u001b[0;34m()\u001b[0m\n\u001b[1;32m      6\u001b[0m logs \u001b[38;5;241m=\u001b[39m \u001b[38;5;28mlist\u001b[39m(\u001b[38;5;28mset\u001b[39m(logs))\n\u001b[1;32m      7\u001b[0m logs\u001b[38;5;241m.\u001b[39msort()\n\u001b[0;32m----> 8\u001b[0m last_job \u001b[38;5;241m=\u001b[39m \u001b[43mlogs\u001b[49m\u001b[43m[\u001b[49m\u001b[38;5;241;43m-\u001b[39;49m\u001b[38;5;241;43m1\u001b[39;49m\u001b[43m]\u001b[49m\n\u001b[1;32m      9\u001b[0m job_num \u001b[38;5;241m=\u001b[39m \u001b[38;5;28mstr\u001b[39m(last_job)\n\u001b[1;32m     10\u001b[0m error_files \u001b[38;5;241m=\u001b[39m os\u001b[38;5;241m.\u001b[39mpopen(\u001b[38;5;124m'\u001b[39m\u001b[38;5;124mgrep \u001b[39m\u001b[38;5;124m'\u001b[39m\u001b[38;5;241m+\u001b[39m err \u001b[38;5;241m+\u001b[39m \u001b[38;5;124m'\u001b[39m\u001b[38;5;124m \u001b[39m\u001b[38;5;124m'\u001b[39m \u001b[38;5;241m+\u001b[39m base_dir \u001b[38;5;241m+\u001b[39m dir_name \u001b[38;5;241m+\u001b[39m\u001b[38;5;124m'\u001b[39m\u001b[38;5;124m/\u001b[39m\u001b[38;5;124m'\u001b[39m \u001b[38;5;241m+\u001b[39m job_num \u001b[38;5;241m+\u001b[39m \u001b[38;5;124m'\u001b[39m\u001b[38;5;124m.*.err\u001b[39m\u001b[38;5;124m'\u001b[39m)\u001b[38;5;241m.\u001b[39mreadlines()\n",
      "\u001b[0;31mIndexError\u001b[0m: list index out of range"
     ]
    }
   ],
   "source": [
    "# How many files have this error\n",
    "for i,dir_name in enumerate(dirs):\n",
    "    print(dir_name)\n",
    "    logs = glob.glob(base_dir+dir_name+\"/*.err\")\n",
    "    logs = [int(l.split('/')[-1].split('.')[0]) for l in logs]\n",
    "    logs = list(set(logs))\n",
    "    logs.sort()\n",
    "    last_job = logs[-1]\n",
    "    job_num = str(last_job)\n",
    "    error_files = os.popen('grep '+ err + ' ' + base_dir + dir_name +'/' + job_num + '.*.err').readlines()\n",
    "    print(len(error_files))"
   ]
  },
  {
   "cell_type": "markdown",
   "id": "8e64f3b4-0821-45de-b19f-de1b88d0f0f9",
   "metadata": {},
   "source": [
    "`WARNING`: this cell will **delete** files.<br>\n",
    "This will find all files with the specific error in the .err, and delete the correspdoning HDF5 file.<br>\n",
    "This might need to be adjusted based on the error / log files outputs. First run it dry to make sure it works."
   ]
  },
  {
   "cell_type": "code",
   "execution_count": 12,
   "id": "90de0546-aafa-487b-bcaf-8cd15da33bda",
   "metadata": {
    "tags": []
   },
   "outputs": [
    {
     "name": "stdout",
     "output_type": "stream",
     "text": [
      "jobs_inf_2016_2017_2016_2017_QCD_Pt_1400to1800_TuneCP5_13TeV_pythia8+RunIISummer20UL16MiniAODv2-106X_mcRun2_asymptotic_v17-v1+MINIAODSIM\n",
      "0\n",
      "jobs_inf_2016_2017_2016_2017_QCD_HT50to100_TuneCP5_PSWeights_13TeV-madgraphMLM-pythia8+RunIISummer20UL16MiniAODAPVv2-106X_mcRun2_asymptotic_preVFP_v11-v1+MINIAODSIM\n",
      "0\n",
      "jobs_inf_2016_2017_2016_2017_QCD_Pt_80to120_TuneCP5_13TeV_pythia8+RunIISummer20UL16MiniAODAPVv2-106X_mcRun2_asymptotic_preVFP_v11-v1+MINIAODSIM\n",
      "0\n",
      "jobs_inf_2016_2017_2016_2017_QCD_Pt_470to600_TuneCP5_13TeV_pythia8+RunIISummer20UL16MiniAODv2-106X_mcRun2_asymptotic_v17-v1+MINIAODSIM\n",
      "0\n",
      "jobs_inf_2016_2017_2016_2017_QCD_HT2000toInf_TuneCP5_PSWeights_13TeV-madgraphMLM-pythia8+RunIISummer20UL16MiniAODAPVv2-106X_mcRun2_asymptotic_preVFP_v11-v1+MINIAODSIM\n",
      "0\n",
      "jobs_inf_2016_2017_2016_2017_QCD_Pt_470to600_TuneCP5_13TeV_pythia8+RunIISummer20UL16MiniAODAPVv2-106X_mcRun2_asymptotic_preVFP_v11-v1+MINIAODSIM\n",
      "0\n",
      "jobs_inf_2016_2017_2016_2017_QCD_Pt_1000to1400_TuneCP5_13TeV_pythia8+RunIISummer20UL16MiniAODAPVv2-106X_mcRun2_asymptotic_preVFP_v11-v1+MINIAODSIM\n",
      "0\n",
      "jobs_inf_2016_2017_2016_2017_QCD_HT1000to1500_TuneCP5_PSWeights_13TeV-madgraphMLM-pythia8+RunIISummer20UL16MiniAODv2-106X_mcRun2_asymptotic_v17-v1+MINIAODSIM\n",
      "0\n",
      "jobs_inf_2016_2017_2016_2017_QCD_Pt_120to170_TuneCP5_13TeV_pythia8+RunIISummer20UL16MiniAODv2-106X_mcRun2_asymptotic_v17-v1+MINIAODSIM\n",
      "0\n",
      "jobs_inf_2016_2017_2016_2017_QCD_Pt_30to50_TuneCP5_13TeV_pythia8+RunIISummer20UL16MiniAODv2-106X_mcRun2_asymptotic_v17-v1+MINIAODSIM\n",
      "0\n",
      "jobs_inf_2016_2017_2016_2017_QCD_Pt_600to800_TuneCP5_13TeV_pythia8+RunIISummer20UL16MiniAODv2-106X_mcRun2_asymptotic_v17-v1+MINIAODSIM\n",
      "0\n",
      "jobs_inf_2016_2017_2016_2017_QCD_Pt_1000to1400_TuneCP5_13TeV_pythia8+RunIISummer20UL16MiniAODv2-106X_mcRun2_asymptotic_v17-v1+MINIAODSIM\n",
      "0\n",
      "jobs_inf_2016_2017_2016_2017_QCD_HT500to700_TuneCP5_PSWeights_13TeV-madgraphMLM-pythia8+RunIISummer20UL16MiniAODv2-106X_mcRun2_asymptotic_v17-v1+MINIAODSIM\n",
      "0\n",
      "jobs_inf_2016_2017_2016_2017_QCD_HT2000toInf_TuneCP5_PSWeights_13TeV-madgraphMLM-pythia8+RunIISummer20UL16MiniAODv2-106X_mcRun2_asymptotic_v17-v1+MINIAODSIM\n",
      "0\n",
      "jobs_inf_2016_2017_2016_2017_QCD_Pt_800to1000_TuneCP5_13TeV_pythia8+RunIISummer20UL16MiniAODAPVv2-106X_mcRun2_asymptotic_preVFP_v11-v1+MINIAODSIM\n",
      "0\n",
      "jobs_inf_2016_2017_2016_2017_QCD_Pt_15to30_TuneCP5_13TeV_pythia8+RunIISummer20UL16MiniAODAPVv2-106X_mcRun2_asymptotic_preVFP_v11-v1+MINIAODSIM\n",
      "0\n",
      "jobs_inf_2016_2017_2016_2017_QCD_Pt_120to170_TuneCP5_13TeV_pythia8+RunIISummer20UL16MiniAODAPVv2-106X_mcRun2_asymptotic_preVFP_v11-v1+MINIAODSIM\n",
      "0\n",
      "jobs_inf_2016_2017_2016_2017_QCD_Pt_170to300_TuneCP5_13TeV_pythia8+RunIISummer20UL16MiniAODAPVv2-106X_mcRun2_asymptotic_preVFP_v11-v1+MINIAODSIM\n",
      "0\n",
      "jobs_inf_2016_2017_2016_2017_QCD_HT700to1000_TuneCP5_PSWeights_13TeV-madgraphMLM-pythia8+RunIISummer20UL16MiniAODAPVv2-106X_mcRun2_asymptotic_preVFP_v11-v1+MINIAODSIM\n",
      "0\n",
      "jobs_inf_2016_2017_2016_2017_QCD_Pt_50to80_TuneCP5_13TeV_pythia8+RunIISummer20UL16MiniAODv2-106X_mcRun2_asymptotic_v17-v1+MINIAODSIM\n",
      "0\n",
      "jobs_inf_2016_2017_2016_2017_QCD_Pt_170to300_TuneCP5_13TeV_pythia8+RunIISummer20UL16MiniAODv2-106X_mcRun2_asymptotic_v17-v1+MINIAODSIM\n",
      "0\n",
      "jobs_inf_2016_2017_2016_2017_QCD_HT300to500_TuneCP5_PSWeights_13TeV-madgraphMLM-pythia8+RunIISummer20UL16MiniAODAPVv2-106X_mcRun2_asymptotic_preVFP_v11-v2+MINIAODSIM\n",
      "0\n",
      "jobs_inf_2016_2017_2016_2017_QCD_HT1000to1500_TuneCP5_PSWeights_13TeV-madgraphMLM-pythia8+RunIISummer20UL16MiniAODAPVv2-106X_mcRun2_asymptotic_preVFP_v11-v1+MINIAODSIM\n",
      "0\n",
      "jobs_inf_2016_2017_2016_2017_QCD_HT1500to2000_TuneCP5_PSWeights_13TeV-madgraphMLM-pythia8+RunIISummer20UL16MiniAODv2-106X_mcRun2_asymptotic_v17-v1+MINIAODSIM\n",
      "0\n",
      "jobs_inf_2016_2017_2016_2017_QCD_HT100to200_TuneCP5_PSWeights_13TeV-madgraphMLM-pythia8+RunIISummer20UL16MiniAODv2-106X_mcRun2_asymptotic_v17-v1+MINIAODSIM\n",
      "0\n",
      "jobs_inf_2016_2017_2016_2017_QCD_Pt_80to120_TuneCP5_13TeV_pythia8+RunIISummer20UL16MiniAODv2-106X_mcRun2_asymptotic_v17-v1+MINIAODSIM\n",
      "0\n",
      "jobs_inf_2016_2017_2016_2017_QCD_Pt_1800to2400_TuneCP5_13TeV_pythia8+RunIISummer20UL16MiniAODAPVv2-106X_mcRun2_asymptotic_preVFP_v11-v1+MINIAODSIM\n",
      "0\n",
      "jobs_inf_2016_2017_2016_2017_QCD_Pt_15to30_TuneCP5_13TeV_pythia8+RunIISummer20UL16MiniAODv2-106X_mcRun2_asymptotic_v17-v1+MINIAODSIM\n",
      "0\n",
      "jobs_inf_2016_2017_2016_2017_QCD_Pt_50to80_TuneCP5_13TeV_pythia8+RunIISummer20UL16MiniAODAPVv2-106X_mcRun2_asymptotic_preVFP_v11-v1+MINIAODSIM\n",
      "0\n",
      "jobs_inf_2016_2017_2016_2017_QCD_HT300to500_TuneCP5_PSWeights_13TeV-madgraphMLM-pythia8+RunIISummer20UL16MiniAODv2-106X_mcRun2_asymptotic_v17-v1+MINIAODSIM\n",
      "0\n",
      "jobs_inf_2016_2017_2016_2017_QCD_HT100to200_TuneCP5_PSWeights_13TeV-madgraphMLM-pythia8+RunIISummer20UL16MiniAODAPVv2-106X_mcRun2_asymptotic_preVFP_v11-v1+MINIAODSIM\n",
      "0\n",
      "jobs_inf_2016_2017_2016_2017_QCD_Pt_600to800_TuneCP5_13TeV_pythia8+RunIISummer20UL16MiniAODAPVv2-106X_mcRun2_asymptotic_preVFP_v11-v1+MINIAODSIM\n",
      "0\n",
      "jobs_inf_2016_2017_2016_2017_QCD_Pt_300to470_TuneCP5_13TeV_pythia8+RunIISummer20UL16MiniAODv2-106X_mcRun2_asymptotic_v17-v1+MINIAODSIM\n",
      "0\n",
      "jobs_inf_2016_2017_2016_2017_QCD_Pt_3200toInf_TuneCP5_13TeV_pythia8+RunIISummer20UL16MiniAODv2-106X_mcRun2_asymptotic_v17-v1+MINIAODSIM\n",
      "0\n",
      "jobs_inf_2016_2017_2016_2017_QCD_Pt_30to50_TuneCP5_13TeV_pythia8+RunIISummer20UL16MiniAODAPVv2-106X_mcRun2_asymptotic_preVFP_v11-v1+MINIAODSIM\n",
      "0\n",
      "jobs_inf_2016_2017_2016_2017_QCD_HT700to1000_TuneCP5_PSWeights_13TeV-madgraphMLM-pythia8+RunIISummer20UL16MiniAODv2-106X_mcRun2_asymptotic_v17-v1+MINIAODSIM\n",
      "0\n",
      "jobs_inf_2016_2017_2016_2017_QCD_HT500to700_TuneCP5_PSWeights_13TeV-madgraphMLM-pythia8+RunIISummer20UL16MiniAODAPVv2-106X_mcRun2_asymptotic_preVFP_v11-v1+MINIAODSIM\n",
      "0\n",
      "jobs_inf_2016_2017_2016_2017_QCD_Pt_3200toInf_TuneCP5_13TeV_pythia8+RunIISummer20UL16MiniAODAPVv2-106X_mcRun2_asymptotic_preVFP_v11-v1+MINIAODSIM\n",
      "0\n",
      "jobs_inf_2016_2017_2016_2017_QCD_Pt_1400to1800_TuneCP5_13TeV_pythia8+RunIISummer20UL16MiniAODAPVv2-106X_mcRun2_asymptotic_preVFP_v11-v1+MINIAODSIM\n",
      "0\n",
      "jobs_inf_2016_2017_2016_2017_QCD_Pt_1800to2400_TuneCP5_13TeV_pythia8+RunIISummer20UL16MiniAODv2-106X_mcRun2_asymptotic_v17-v1+MINIAODSIM\n",
      "0\n",
      "jobs_inf_2016_2017_2016_2017_QCD_Pt_2400to3200_TuneCP5_13TeV_pythia8+RunIISummer20UL16MiniAODAPVv2-106X_mcRun2_asymptotic_preVFP_v11-v1+MINIAODSIM\n",
      "0\n",
      "jobs_inf_2016_2017_2016_2017_QCD_HT50to100_TuneCP5_PSWeights_13TeV-madgraphMLM-pythia8+RunIISummer20UL16MiniAODv2-106X_mcRun2_asymptotic_v17-v1+MINIAODSIM\n",
      "0\n",
      "jobs_inf_2016_2017_2016_2017_QCD_HT200to300_TuneCP5_PSWeights_13TeV-madgraphMLM-pythia8+RunIISummer20UL16MiniAODv2-106X_mcRun2_asymptotic_v17-v1+MINIAODSIM\n",
      "0\n",
      "jobs_inf_2016_2017_2016_2017_QCD_Pt_300to470_TuneCP5_13TeV_pythia8+RunIISummer20UL16MiniAODAPVv2-106X_mcRun2_asymptotic_preVFP_v11-v1+MINIAODSIM\n",
      "0\n",
      "jobs_inf_2016_2017_2016_2017_QCD_Pt_800to1000_TuneCP5_13TeV_pythia8+RunIISummer20UL16MiniAODv2-106X_mcRun2_asymptotic_v17-v1+MINIAODSIM\n",
      "0\n",
      "jobs_inf_2016_2017_2016_2017_QCD_HT1500to2000_TuneCP5_PSWeights_13TeV-madgraphMLM-pythia8+RunIISummer20UL16MiniAODAPVv2-106X_mcRun2_asymptotic_preVFP_v11-v1+MINIAODSIM\n",
      "0\n",
      "jobs_inf_2016_2017_2016_2017_QCD_Pt_2400to3200_TuneCP5_13TeV_pythia8+RunIISummer20UL16MiniAODv2-106X_mcRun2_asymptotic_v17-v1+MINIAODSIM\n",
      "0\n"
     ]
    },
    {
     "name": "stderr",
     "output_type": "stream",
     "text": [
      "grep: /work/submit/lavezzo/SUEP/logs/jobs_inf_2016_2017_2016_2017_QCD_Pt_1400to1800_TuneCP5_13TeV_pythia8+RunIISummer20UL16MiniAODv2-106X_mcRun2_asymptotic_v17-v1+MINIAODSIM/*.*.err: No such file or directory\n",
      "grep: /work/submit/lavezzo/SUEP/logs/jobs_inf_2016_2017_2016_2017_QCD_HT50to100_TuneCP5_PSWeights_13TeV-madgraphMLM-pythia8+RunIISummer20UL16MiniAODAPVv2-106X_mcRun2_asymptotic_preVFP_v11-v1+MINIAODSIM/*.*.err: No such file or directory\n",
      "grep: /work/submit/lavezzo/SUEP/logs/jobs_inf_2016_2017_2016_2017_QCD_Pt_80to120_TuneCP5_13TeV_pythia8+RunIISummer20UL16MiniAODAPVv2-106X_mcRun2_asymptotic_preVFP_v11-v1+MINIAODSIM/*.*.err: No such file or directory\n",
      "grep: /work/submit/lavezzo/SUEP/logs/jobs_inf_2016_2017_2016_2017_QCD_Pt_470to600_TuneCP5_13TeV_pythia8+RunIISummer20UL16MiniAODv2-106X_mcRun2_asymptotic_v17-v1+MINIAODSIM/*.*.err: No such file or directory\n",
      "grep: /work/submit/lavezzo/SUEP/logs/jobs_inf_2016_2017_2016_2017_QCD_HT2000toInf_TuneCP5_PSWeights_13TeV-madgraphMLM-pythia8+RunIISummer20UL16MiniAODAPVv2-106X_mcRun2_asymptotic_preVFP_v11-v1+MINIAODSIM/*.*.err: No such file or directory\n",
      "grep: /work/submit/lavezzo/SUEP/logs/jobs_inf_2016_2017_2016_2017_QCD_Pt_470to600_TuneCP5_13TeV_pythia8+RunIISummer20UL16MiniAODAPVv2-106X_mcRun2_asymptotic_preVFP_v11-v1+MINIAODSIM/*.*.err: No such file or directory\n",
      "grep: /work/submit/lavezzo/SUEP/logs/jobs_inf_2016_2017_2016_2017_QCD_Pt_1000to1400_TuneCP5_13TeV_pythia8+RunIISummer20UL16MiniAODAPVv2-106X_mcRun2_asymptotic_preVFP_v11-v1+MINIAODSIM/*.*.err: No such file or directory\n",
      "grep: /work/submit/lavezzo/SUEP/logs/jobs_inf_2016_2017_2016_2017_QCD_HT1000to1500_TuneCP5_PSWeights_13TeV-madgraphMLM-pythia8+RunIISummer20UL16MiniAODv2-106X_mcRun2_asymptotic_v17-v1+MINIAODSIM/*.*.err: No such file or directory\n",
      "grep: /work/submit/lavezzo/SUEP/logs/jobs_inf_2016_2017_2016_2017_QCD_Pt_120to170_TuneCP5_13TeV_pythia8+RunIISummer20UL16MiniAODv2-106X_mcRun2_asymptotic_v17-v1+MINIAODSIM/*.*.err: No such file or directory\n",
      "grep: /work/submit/lavezzo/SUEP/logs/jobs_inf_2016_2017_2016_2017_QCD_Pt_30to50_TuneCP5_13TeV_pythia8+RunIISummer20UL16MiniAODv2-106X_mcRun2_asymptotic_v17-v1+MINIAODSIM/*.*.err: No such file or directory\n",
      "grep: /work/submit/lavezzo/SUEP/logs/jobs_inf_2016_2017_2016_2017_QCD_Pt_600to800_TuneCP5_13TeV_pythia8+RunIISummer20UL16MiniAODv2-106X_mcRun2_asymptotic_v17-v1+MINIAODSIM/*.*.err: No such file or directory\n",
      "grep: /work/submit/lavezzo/SUEP/logs/jobs_inf_2016_2017_2016_2017_QCD_Pt_1000to1400_TuneCP5_13TeV_pythia8+RunIISummer20UL16MiniAODv2-106X_mcRun2_asymptotic_v17-v1+MINIAODSIM/*.*.err: No such file or directory\n",
      "grep: /work/submit/lavezzo/SUEP/logs/jobs_inf_2016_2017_2016_2017_QCD_HT500to700_TuneCP5_PSWeights_13TeV-madgraphMLM-pythia8+RunIISummer20UL16MiniAODv2-106X_mcRun2_asymptotic_v17-v1+MINIAODSIM/*.*.err: No such file or directory\n",
      "grep: /work/submit/lavezzo/SUEP/logs/jobs_inf_2016_2017_2016_2017_QCD_HT2000toInf_TuneCP5_PSWeights_13TeV-madgraphMLM-pythia8+RunIISummer20UL16MiniAODv2-106X_mcRun2_asymptotic_v17-v1+MINIAODSIM/*.*.err: No such file or directory\n",
      "grep: /work/submit/lavezzo/SUEP/logs/jobs_inf_2016_2017_2016_2017_QCD_Pt_800to1000_TuneCP5_13TeV_pythia8+RunIISummer20UL16MiniAODAPVv2-106X_mcRun2_asymptotic_preVFP_v11-v1+MINIAODSIM/*.*.err: No such file or directory\n",
      "grep: /work/submit/lavezzo/SUEP/logs/jobs_inf_2016_2017_2016_2017_QCD_Pt_15to30_TuneCP5_13TeV_pythia8+RunIISummer20UL16MiniAODAPVv2-106X_mcRun2_asymptotic_preVFP_v11-v1+MINIAODSIM/*.*.err: No such file or directory\n",
      "grep: /work/submit/lavezzo/SUEP/logs/jobs_inf_2016_2017_2016_2017_QCD_Pt_120to170_TuneCP5_13TeV_pythia8+RunIISummer20UL16MiniAODAPVv2-106X_mcRun2_asymptotic_preVFP_v11-v1+MINIAODSIM/*.*.err: No such file or directory\n",
      "grep: /work/submit/lavezzo/SUEP/logs/jobs_inf_2016_2017_2016_2017_QCD_Pt_170to300_TuneCP5_13TeV_pythia8+RunIISummer20UL16MiniAODAPVv2-106X_mcRun2_asymptotic_preVFP_v11-v1+MINIAODSIM/*.*.err: No such file or directory\n",
      "grep: /work/submit/lavezzo/SUEP/logs/jobs_inf_2016_2017_2016_2017_QCD_HT700to1000_TuneCP5_PSWeights_13TeV-madgraphMLM-pythia8+RunIISummer20UL16MiniAODAPVv2-106X_mcRun2_asymptotic_preVFP_v11-v1+MINIAODSIM/*.*.err: No such file or directory\n",
      "grep: /work/submit/lavezzo/SUEP/logs/jobs_inf_2016_2017_2016_2017_QCD_Pt_50to80_TuneCP5_13TeV_pythia8+RunIISummer20UL16MiniAODv2-106X_mcRun2_asymptotic_v17-v1+MINIAODSIM/*.*.err: No such file or directory\n",
      "grep: /work/submit/lavezzo/SUEP/logs/jobs_inf_2016_2017_2016_2017_QCD_Pt_170to300_TuneCP5_13TeV_pythia8+RunIISummer20UL16MiniAODv2-106X_mcRun2_asymptotic_v17-v1+MINIAODSIM/*.*.err: No such file or directory\n",
      "grep: /work/submit/lavezzo/SUEP/logs/jobs_inf_2016_2017_2016_2017_QCD_HT300to500_TuneCP5_PSWeights_13TeV-madgraphMLM-pythia8+RunIISummer20UL16MiniAODAPVv2-106X_mcRun2_asymptotic_preVFP_v11-v2+MINIAODSIM/*.*.err: No such file or directory\n",
      "grep: /work/submit/lavezzo/SUEP/logs/jobs_inf_2016_2017_2016_2017_QCD_HT1000to1500_TuneCP5_PSWeights_13TeV-madgraphMLM-pythia8+RunIISummer20UL16MiniAODAPVv2-106X_mcRun2_asymptotic_preVFP_v11-v1+MINIAODSIM/*.*.err: No such file or directory\n",
      "grep: /work/submit/lavezzo/SUEP/logs/jobs_inf_2016_2017_2016_2017_QCD_HT1500to2000_TuneCP5_PSWeights_13TeV-madgraphMLM-pythia8+RunIISummer20UL16MiniAODv2-106X_mcRun2_asymptotic_v17-v1+MINIAODSIM/*.*.err: No such file or directory\n",
      "grep: /work/submit/lavezzo/SUEP/logs/jobs_inf_2016_2017_2016_2017_QCD_HT100to200_TuneCP5_PSWeights_13TeV-madgraphMLM-pythia8+RunIISummer20UL16MiniAODv2-106X_mcRun2_asymptotic_v17-v1+MINIAODSIM/*.*.err: No such file or directory\n",
      "grep: /work/submit/lavezzo/SUEP/logs/jobs_inf_2016_2017_2016_2017_QCD_Pt_80to120_TuneCP5_13TeV_pythia8+RunIISummer20UL16MiniAODv2-106X_mcRun2_asymptotic_v17-v1+MINIAODSIM/*.*.err: No such file or directory\n",
      "grep: /work/submit/lavezzo/SUEP/logs/jobs_inf_2016_2017_2016_2017_QCD_Pt_1800to2400_TuneCP5_13TeV_pythia8+RunIISummer20UL16MiniAODAPVv2-106X_mcRun2_asymptotic_preVFP_v11-v1+MINIAODSIM/*.*.err: No such file or directory\n",
      "grep: /work/submit/lavezzo/SUEP/logs/jobs_inf_2016_2017_2016_2017_QCD_Pt_15to30_TuneCP5_13TeV_pythia8+RunIISummer20UL16MiniAODv2-106X_mcRun2_asymptotic_v17-v1+MINIAODSIM/*.*.err: No such file or directory\n",
      "grep: /work/submit/lavezzo/SUEP/logs/jobs_inf_2016_2017_2016_2017_QCD_Pt_50to80_TuneCP5_13TeV_pythia8+RunIISummer20UL16MiniAODAPVv2-106X_mcRun2_asymptotic_preVFP_v11-v1+MINIAODSIM/*.*.err: No such file or directory\n",
      "grep: /work/submit/lavezzo/SUEP/logs/jobs_inf_2016_2017_2016_2017_QCD_HT300to500_TuneCP5_PSWeights_13TeV-madgraphMLM-pythia8+RunIISummer20UL16MiniAODv2-106X_mcRun2_asymptotic_v17-v1+MINIAODSIM/*.*.err: No such file or directory\n",
      "grep: /work/submit/lavezzo/SUEP/logs/jobs_inf_2016_2017_2016_2017_QCD_HT100to200_TuneCP5_PSWeights_13TeV-madgraphMLM-pythia8+RunIISummer20UL16MiniAODAPVv2-106X_mcRun2_asymptotic_preVFP_v11-v1+MINIAODSIM/*.*.err: No such file or directory\n",
      "grep: /work/submit/lavezzo/SUEP/logs/jobs_inf_2016_2017_2016_2017_QCD_Pt_600to800_TuneCP5_13TeV_pythia8+RunIISummer20UL16MiniAODAPVv2-106X_mcRun2_asymptotic_preVFP_v11-v1+MINIAODSIM/*.*.err: No such file or directory\n",
      "grep: /work/submit/lavezzo/SUEP/logs/jobs_inf_2016_2017_2016_2017_QCD_Pt_300to470_TuneCP5_13TeV_pythia8+RunIISummer20UL16MiniAODv2-106X_mcRun2_asymptotic_v17-v1+MINIAODSIM/*.*.err: No such file or directory\n",
      "grep: /work/submit/lavezzo/SUEP/logs/jobs_inf_2016_2017_2016_2017_QCD_Pt_3200toInf_TuneCP5_13TeV_pythia8+RunIISummer20UL16MiniAODv2-106X_mcRun2_asymptotic_v17-v1+MINIAODSIM/*.*.err: No such file or directory\n",
      "grep: /work/submit/lavezzo/SUEP/logs/jobs_inf_2016_2017_2016_2017_QCD_Pt_30to50_TuneCP5_13TeV_pythia8+RunIISummer20UL16MiniAODAPVv2-106X_mcRun2_asymptotic_preVFP_v11-v1+MINIAODSIM/*.*.err: No such file or directory\n",
      "grep: /work/submit/lavezzo/SUEP/logs/jobs_inf_2016_2017_2016_2017_QCD_HT700to1000_TuneCP5_PSWeights_13TeV-madgraphMLM-pythia8+RunIISummer20UL16MiniAODv2-106X_mcRun2_asymptotic_v17-v1+MINIAODSIM/*.*.err: No such file or directory\n",
      "grep: /work/submit/lavezzo/SUEP/logs/jobs_inf_2016_2017_2016_2017_QCD_HT500to700_TuneCP5_PSWeights_13TeV-madgraphMLM-pythia8+RunIISummer20UL16MiniAODAPVv2-106X_mcRun2_asymptotic_preVFP_v11-v1+MINIAODSIM/*.*.err: No such file or directory\n",
      "grep: /work/submit/lavezzo/SUEP/logs/jobs_inf_2016_2017_2016_2017_QCD_Pt_3200toInf_TuneCP5_13TeV_pythia8+RunIISummer20UL16MiniAODAPVv2-106X_mcRun2_asymptotic_preVFP_v11-v1+MINIAODSIM/*.*.err: No such file or directory\n",
      "grep: /work/submit/lavezzo/SUEP/logs/jobs_inf_2016_2017_2016_2017_QCD_Pt_1400to1800_TuneCP5_13TeV_pythia8+RunIISummer20UL16MiniAODAPVv2-106X_mcRun2_asymptotic_preVFP_v11-v1+MINIAODSIM/*.*.err: No such file or directory\n",
      "grep: /work/submit/lavezzo/SUEP/logs/jobs_inf_2016_2017_2016_2017_QCD_Pt_1800to2400_TuneCP5_13TeV_pythia8+RunIISummer20UL16MiniAODv2-106X_mcRun2_asymptotic_v17-v1+MINIAODSIM/*.*.err: No such file or directory\n",
      "grep: /work/submit/lavezzo/SUEP/logs/jobs_inf_2016_2017_2016_2017_QCD_Pt_2400to3200_TuneCP5_13TeV_pythia8+RunIISummer20UL16MiniAODAPVv2-106X_mcRun2_asymptotic_preVFP_v11-v1+MINIAODSIM/*.*.err: No such file or directory\n",
      "grep: /work/submit/lavezzo/SUEP/logs/jobs_inf_2016_2017_2016_2017_QCD_HT50to100_TuneCP5_PSWeights_13TeV-madgraphMLM-pythia8+RunIISummer20UL16MiniAODv2-106X_mcRun2_asymptotic_v17-v1+MINIAODSIM/*.*.err: No such file or directory\n",
      "grep: /work/submit/lavezzo/SUEP/logs/jobs_inf_2016_2017_2016_2017_QCD_HT200to300_TuneCP5_PSWeights_13TeV-madgraphMLM-pythia8+RunIISummer20UL16MiniAODv2-106X_mcRun2_asymptotic_v17-v1+MINIAODSIM/*.*.err: No such file or directory\n",
      "grep: /work/submit/lavezzo/SUEP/logs/jobs_inf_2016_2017_2016_2017_QCD_Pt_300to470_TuneCP5_13TeV_pythia8+RunIISummer20UL16MiniAODAPVv2-106X_mcRun2_asymptotic_preVFP_v11-v1+MINIAODSIM/*.*.err: No such file or directory\n",
      "grep: /work/submit/lavezzo/SUEP/logs/jobs_inf_2016_2017_2016_2017_QCD_Pt_800to1000_TuneCP5_13TeV_pythia8+RunIISummer20UL16MiniAODv2-106X_mcRun2_asymptotic_v17-v1+MINIAODSIM/*.*.err: No such file or directory\n",
      "grep: /work/submit/lavezzo/SUEP/logs/jobs_inf_2016_2017_2016_2017_QCD_HT1500to2000_TuneCP5_PSWeights_13TeV-madgraphMLM-pythia8+RunIISummer20UL16MiniAODAPVv2-106X_mcRun2_asymptotic_preVFP_v11-v1+MINIAODSIM/*.*.err: No such file or directory\n",
      "grep: /work/submit/lavezzo/SUEP/logs/jobs_inf_2016_2017_2016_2017_QCD_Pt_2400to3200_TuneCP5_13TeV_pythia8+RunIISummer20UL16MiniAODv2-106X_mcRun2_asymptotic_v17-v1+MINIAODSIM/*.*.err: No such file or directory\n"
     ]
    }
   ],
   "source": [
    "base_out_dir = '/mnt/T3_US_MIT/hadoop/scratch/lavezzo/SUEP/inf/'\n",
    "dry = False\n",
    "\n",
    "for i, dir_name in enumerate(dirs):\n",
    "    print(dir_name)\n",
    "    # find .err files with error\n",
    "    # logs = glob.glob(base_dir+dir_name+\"/*.err\")\n",
    "    # logs = [int(l.split('/')[-1].split('.')[0]) for l in logs]\n",
    "    # logs = list(set(logs))\n",
    "    # logs.sort()\n",
    "    # last_job = logs[-1]\n",
    "    # job_num = str(last_job)\n",
    "    error_files = os.popen('grep '+ err + ' ' + base_dir + dir_name +'/' + job_num + '.*.err').readlines()\n",
    "    print(len(error_files))\n",
    "    for f in error_files:\n",
    "        \n",
    "        # find corresponding .out files\n",
    "        outfile = f.split(\":\")[0][:-3]+\"out\"\n",
    "        \n",
    "        # grab name of .root file\n",
    "        file_hdf = os.popen('grep \"xrdcp root\" ' + outfile).readlines()[0].split(\"/\")[-1].split(\" \")[0]\n",
    "        file_hdf = file_hdf.split(\".root\")[0]+\".hdf5\"\n",
    "        \n",
    "        # run it dry to make sure you are deleting what you want to delete\n",
    "        if dry:\n",
    "            print(['rm',base_out_dir+dir_name.split('jobs_inf_')[-1]+\"/\"+file_hdf])\n",
    "            break\n",
    "            \n",
    "        # delete the hdf5 file\n",
    "        else:\n",
    "            try: \n",
    "                _ = subprocess.run(['rm',base_out_dir+dir_name.split('jobs_inf_')[-1]+\"/\"+file_hdf],\n",
    "                              stdout=subprocess.PIPE, stderr=subprocess.STDOUT)\n",
    "            except:\n",
    "                continue"
   ]
  },
  {
   "cell_type": "code",
   "execution_count": 8,
   "id": "3e90d443-98e9-41e1-8226-426cbe901298",
   "metadata": {},
   "outputs": [
    {
     "name": "stdout",
     "output_type": "stream",
     "text": [
      "jobs_2018_data_V6_JetHT+Run2018B-UL2018_MiniAODv2-v1+MINIAOD\n",
      "['t3btch042.mit.edu'] \n",
      "\n"
     ]
    }
   ],
   "source": [
    "bad_hosts = []\n",
    "for dir_name in dirs:\n",
    "    print(dir_name)\n",
    "    \n",
    "    error_files = os.popen('grep '+ err + ' ' + base_dir + dir_name +'/' + job_num + '.*').readlines()\n",
    "    \n",
    "    hosts = []\n",
    "    for entry in error_files:\n",
    "        if 'os.popen' in entry: continue\n",
    "        current_file = entry.split('.err')[0]+'.out'\n",
    "        f2 = open(current_file, \"r\")\n",
    "        lines = f2.readlines()\n",
    "        for line in lines:\n",
    "            if 'Running on:' not in line: continue\n",
    "            hostname = line[len(\"Running on:  \"):-1]\n",
    "            if hostname not in hosts: hosts.append(hostname)\n",
    "    \n",
    "    print(hosts, '\\n')\n",
    "    \n",
    "    for host in hosts:\n",
    "        if host not in bad_hosts: bad_hosts.append(host)"
   ]
  },
  {
   "cell_type": "code",
   "execution_count": 42,
   "id": "ac765040-a763-4e1d-ba43-e1dd7d6ef2ef",
   "metadata": {},
   "outputs": [
    {
     "name": "stdout",
     "output_type": "stream",
     "text": [
      "jobs_2018_MC_V6_QCD_Pt_170to300_TuneCP5_13TeV_pythia8+RunIISummer20UL18MiniAODv2-106X_upgrade2018_realistic_v16_L1v1-v1+MINIAODSIM\n",
      "[]\n",
      "jobs_2018_MC_V6_QCD_Pt_2400to3200_TuneCP5_13TeV_pythia8+RunIISummer20UL18MiniAODv2-106X_upgrade2018_realistic_v16_L1v1-v1+MINIAODSIM\n",
      "[]\n",
      "jobs_2018_MC_V6_QCD_Pt_30to50_TuneCP5_13TeV_pythia8+RunIISummer20UL18MiniAODv2-106X_upgrade2018_realistic_v16_L1v1-v1+MINIAODSIM\n",
      "[]\n",
      "jobs_2018_MC_V6_QCD_Pt_3200toInf_TuneCP5_13TeV_pythia8+RunIISummer20UL18MiniAODv2-pilot_106X_upgrade2018_realistic_v16_L1v1-v1+MINIAODSIM\n",
      "[]\n",
      "jobs_2018_MC_V6_QCD_Pt_50to80_TuneCP5_13TeV_pythia8+RunIISummer20UL18MiniAODv2-106X_upgrade2018_realistic_v16_L1v1-v1+MINIAODSIM\n",
      "[]\n",
      "jobs_2018_MC_V6_QCD_Pt_1000to1400_TuneCP5_13TeV_pythia8+RunIISummer20UL18MiniAODv2-106X_upgrade2018_realistic_v16_L1v1-v1+MINIAODSIM\n",
      "[]\n",
      "jobs_2018_MC_V6_QCD_Pt_120to170_TuneCP5_13TeV_pythia8+RunIISummer20UL18MiniAODv2-106X_upgrade2018_realistic_v16_L1v1-v2+MINIAODSIM\n",
      "[]\n",
      "jobs_2018_MC_V6_QCD_Pt_1400to1800_TuneCP5_13TeV_pythia8+RunIISummer20UL18MiniAODv2-106X_upgrade2018_realistic_v16_L1v1-v1+MINIAODSIM\n",
      "[]\n",
      "jobs_2018_MC_V6_QCD_Pt_15to30_TuneCP5_13TeV_pythia8+RunIISummer20UL18MiniAODv2-106X_upgrade2018_realistic_v16_L1v1-v1+MINIAODSIM\n",
      "[]\n",
      "jobs_2018_MC_V6_QCD_Pt_1800to2400_TuneCP5_13TeV_pythia8+RunIISummer20UL18MiniAODv2-106X_upgrade2018_realistic_v16_L1v1-v1+MINIAODSIM\n",
      "[]\n",
      "jobs_2018_MC_V6_QCD_Pt_300to470_TuneCP5_13TeV_pythia8+RunIISummer20UL18MiniAODv2-106X_upgrade2018_realistic_v16_L1v1-v1+MINIAODSIM\n",
      "[]\n",
      "jobs_2018_MC_V6_QCD_Pt_3200toInf_TuneCP5_13TeV_pythia8+RunIISummer20UL18MiniAODv2-106X_upgrade2018_realistic_v16_L1v1-v1+MINIAODSIM\n",
      "[]\n",
      "jobs_2018_MC_V6_QCD_Pt_470to600_TuneCP5_13TeV_pythia8+RunIISummer20UL18MiniAODv2-106X_upgrade2018_realistic_v16_L1v1-v1+MINIAODSIM\n",
      "[]\n",
      "jobs_2018_MC_V6_SUEP-m1000-darkPhoHad+RunIIAutumn18-private+MINIAODSIM\n",
      "[]\n",
      "jobs_2018_MC_V6_SUEP-m1000-darkPho+RunIIAutumn18-private+MINIAODSIM\n",
      "[]\n",
      "jobs_2018_MC_V6_SUEP-m125-darkPhoHad+RunIIAutumn18-private+MINIAODSIM\n",
      "[]\n",
      "jobs_2018_MC_V6_SUEP-m125-generic+RunIIAutumn18-private+MINIAODSIM\n",
      "[]\n",
      "jobs_2018_MC_V6_SUEP-m750-darkPhoHad+RunIIAutumn18-private+MINIAODSIM\n",
      "[]\n",
      "jobs_2018_MC_V6_QCD_Pt_600to800_TuneCP5_13TeV_pythia8+RunIISummer20UL18MiniAODv2-106X_upgrade2018_realistic_v16_L1v1-v1+MINIAODSIM\n",
      "[]\n",
      "jobs_2018_MC_V6_QCD_Pt_800to1000_TuneCP5_13TeV_pythia8+RunIISummer20UL18MiniAODv2-106X_upgrade2018_realistic_v16_L1v1-v1+MINIAODSIM\n",
      "[]\n",
      "jobs_2018_MC_V6_QCD_Pt_80to120_TuneCP5_13TeV_pythia8+RunIISummer20UL18MiniAODv2-106X_upgrade2018_realistic_v16_L1v1-v1+MINIAODSIM\n",
      "[]\n",
      "jobs_2018_MC_V6_SUEP-m400-darkPhoHad+RunIIAutumn18-private+MINIAODSIM\n",
      "[]\n",
      "jobs_2018_MC_V6_SUEP-m400-generic+RunIIAutumn18-private+MINIAODSIM\n",
      "[]\n",
      "jobs_2018_MC_V6_SUEP-m750-darkPho+RunIIAutumn18-private+MINIAODSIM\n",
      "[]\n",
      "jobs_2018_MC_V6_SUEP-m750-generic+RunIIAutumn18-private+MINIAODSIM\n",
      "[]\n",
      "jobs_2018_MC_V6_SUEP-m1000-generic+RunIIAutumn18-private+MINIAODSIM\n",
      "[]\n",
      "jobs_2018_MC_V6_SUEP-m125-darkPho+RunIIAutumn18-private+MINIAODSIM\n",
      "[]\n",
      "jobs_2018_MC_V6_SUEP-m400-darkPho+RunIIAutumn18-private+MINIAODSIM\n",
      "[]\n"
     ]
    }
   ],
   "source": [
    "good_hosts = []\n",
    "for dir_name in dirs:\n",
    "    print(dir_name)\n",
    "    \n",
    "    error_files = os.popen('grep  Tau_jetIdx' + base_dir + dir_name +'/' + job_num + '.*').readlines()\n",
    "\n",
    "    hosts = []\n",
    "    for entry in error_files:\n",
    "        if 'os.popen' in entry: continue\n",
    "        current_file = entry.split('.err')[0]+'.out'\n",
    "        f2 = open(current_file, \"r\")\n",
    "        lines = f2.readlines()\n",
    "        for line in lines:\n",
    "            if 'Running on:' not in line: continue\n",
    "            hostname = line[len(\"Running on:  \"):-1]\n",
    "            if hostname not in hosts: hosts.append(hostname)\n",
    "        \n",
    "    for host in hosts:\n",
    "        if host not in good_hosts: good_hosts.append(host)"
   ]
  },
  {
   "cell_type": "code",
   "execution_count": 54,
   "id": "5827b78c-ffec-4560-b4d9-be6295eb9e4b",
   "metadata": {},
   "outputs": [
    {
     "name": "stdout",
     "output_type": "stream",
     "text": [
      "['t2bat0270.cmsaf.mit.edu', 't2bat0256.cmsaf.mit.edu', 't2bat0465.cmsaf.mit.edu', 't2bat0500.cmsaf.mit.edu', 't2bat0461.cmsaf.mit.edu', 't2bat0490.cmsaf.mit.edu', 't2bat0498.cmsaf.mit.edu', 't2bat0497.cmsaf.mit.edu', 't2bat0202.cmsaf.mit.edu', 't2bat0485.cmsaf.mit.edu', 't2bat0079.cmsaf.mit.edu', 't2bat0486.cmsaf.mit.edu', 't2bat0494.cmsaf.mit.edu', 't2bat0240.cmsaf.mit.edu']\n"
     ]
    }
   ],
   "source": [
    "print(bad_hosts)"
   ]
  },
  {
   "cell_type": "code",
   "execution_count": 41,
   "id": "428708e1-19bc-4e64-9585-1c7a3cf1f64a",
   "metadata": {},
   "outputs": [
    {
     "name": "stdout",
     "output_type": "stream",
     "text": [
      "[]\n"
     ]
    }
   ],
   "source": [
    "print(good_hosts)"
   ]
  },
  {
   "cell_type": "code",
   "execution_count": 40,
   "id": "0d606cd4-2bc9-4210-90ef-9ada30635bdf",
   "metadata": {},
   "outputs": [
    {
     "data": {
      "text/plain": [
       "set()"
      ]
     },
     "execution_count": 40,
     "metadata": {},
     "output_type": "execute_result"
    }
   ],
   "source": [
    "# is there any overlap between machines where the jobs\n",
    "# that ran succesfully and those where they failed?\n",
    "set(good_hosts).intersection(all_hosts)"
   ]
  },
  {
   "cell_type": "code",
   "execution_count": 28,
   "id": "11bbecfa-e92d-4a74-98e0-a3c5fdc414ef",
   "metadata": {},
   "outputs": [],
   "source": []
  },
  {
   "cell_type": "code",
   "execution_count": null,
   "id": "a9ab9bc8-4760-4c78-b2ce-54f8517835d8",
   "metadata": {},
   "outputs": [],
   "source": []
  }
 ],
 "metadata": {
  "kernelspec": {
   "display_name": "suep",
   "language": "python",
   "name": "suep"
  },
  "language_info": {
   "codemirror_mode": {
    "name": "ipython",
    "version": 3
   },
   "file_extension": ".py",
   "mimetype": "text/x-python",
   "name": "python",
   "nbconvert_exporter": "python",
   "pygments_lexer": "ipython3",
   "version": "3.9.10"
  }
 },
 "nbformat": 4,
 "nbformat_minor": 5
}
