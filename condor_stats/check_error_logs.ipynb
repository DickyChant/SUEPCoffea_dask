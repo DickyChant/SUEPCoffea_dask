{
 "cells": [
  {
   "cell_type": "code",
   "execution_count": 9,
   "id": "6fb952ab-6d9c-4c24-80ec-a86b9a5afd29",
   "metadata": {},
   "outputs": [],
   "source": [
    "import os, sys, subprocess"
   ]
  },
  {
   "cell_type": "markdown",
   "id": "014ff3c5-124b-4899-9a54-03ca818c5f84",
   "metadata": {},
   "source": [
    "`base_dir`: where the logs are stored.<br>\n",
    "`identifier`: all dirs with this in their names will be selected.<br>\n",
    "`excluders`: all dirs with these in their names will be excluded.<br>\n",
    "`job_num`: check one job num or all. (`*`).<br>\n",
    "`err`: error to select files based on."
   ]
  },
  {
   "cell_type": "code",
   "execution_count": 10,
   "id": "e0ec2cbd-ab53-48ac-9e0a-7895d2610829",
   "metadata": {},
   "outputs": [],
   "source": [
    "base_dir = '/work/submit/lavezzo/SUEP/logs/'\n",
    "identifiers = ['inf']\n",
    "excluders = ['inf_data', 'inf_data_v2','inf_data_v3', 'QCD']\n",
    "err = '\"A process in the process pool was terminated abruptly\"'\n",
    "job_num = '*'      # set to * for any"
   ]
  },
  {
   "cell_type": "code",
   "execution_count": 11,
   "id": "8d7ec520-b2e9-459b-bb34-b3fd0dc0b800",
   "metadata": {
    "tags": []
   },
   "outputs": [
    {
     "data": {
      "text/plain": [
       "['jobs_inf_SUEP-m750-darkPho+RunIIAutumn18-private+MINIAODSIM',\n",
       " 'jobs_inf_EGamma+Run2018C-UL2018_MiniAODv2-v1+MINIAOD',\n",
       " 'jobs_inf_SUEP-m1000-darkPho+RunIIAutumn18-private+MINIAODSIM',\n",
       " 'jobs_inf_SUEP-m125-generic+RunIIAutumn18-private+MINIAODSIM',\n",
       " 'jobs_inf_SUEP-m1000-darkPhoHad+RunIIAutumn18-private+MINIAODSIM',\n",
       " 'jobs_inf_JetHT+Run2018A-UL2018_MiniAODv2-v1+MINIAOD',\n",
       " 'jobs_inf_SingleMuon+Run2018C-UL2018_MiniAODv2-v2+MINIAOD',\n",
       " 'jobs_inf_JetHT+Run2018B-UL2018_MiniAODv2-v1+MINIAOD',\n",
       " 'jobs_inf_SUEP-m400-generic+RunIIAutumn18-private+MINIAODSIM',\n",
       " 'jobs_inf_SingleMuon+Run2018A-UL2018_MiniAODv2-v3+MINIAOD',\n",
       " 'jobs_inf_EGamma+Run2018B-UL2018_MiniAODv2-v1+MINIAOD',\n",
       " 'jobs_inf_JetHT+Run2018C-UL2018_MiniAODv2-v1+MINIAOD',\n",
       " 'jobs_inf_SingleMuon+Run2018B-UL2018_MiniAODv2-v2+MINIAOD',\n",
       " 'jobs_inf_SUEP-m400-darkPhoHad+RunIIAutumn18-private+MINIAODSIM',\n",
       " 'jobs_inf_SUEP-m1000-generic+RunIIAutumn18-private+MINIAODSIM',\n",
       " 'jobs_inf_SUEP-m750-darkPhoHad+RunIIAutumn18-private+MINIAODSIM',\n",
       " 'jobs_inf_SingleMuon+Run2018D-UL2018_MiniAODv2-v3+MINIAOD',\n",
       " 'jobs_inf_SUEP-m750-generic+RunIIAutumn18-private+MINIAODSIM',\n",
       " 'jobs_inf_JetHT+Run2018D-UL2018_MiniAODv2-v1+MINIAOD',\n",
       " 'jobs_inf_EGamma+Run2018A-UL2018_MiniAODv2-v1+MINIAOD',\n",
       " 'jobs_inf_SUEP-m125-darkPhoHad+RunIIAutumn18-private+MINIAODSIM',\n",
       " 'jobs_inf_SUEP-m400-darkPho+RunIIAutumn18-private+MINIAODSIM',\n",
       " 'jobs_inf_SUEP-m125-darkPho+RunIIAutumn18-private+MINIAODSIM',\n",
       " 'jobs_inf_EGamma+Run2018D-UL2018_MiniAODv2-v2+MINIAOD']"
      ]
     },
     "execution_count": 11,
     "metadata": {},
     "output_type": "execute_result"
    }
   ],
   "source": [
    "dirs = [name for name in os.listdir(base_dir) if all([i in name for i in identifiers])]\n",
    "dirs = [name for name in dirs if not any([excl in name for excl in excluders])]\n",
    "# these are the directories selected to be analyzed\n",
    "dirs"
   ]
  },
  {
   "cell_type": "code",
   "execution_count": 12,
   "id": "2316f0f1-5ab5-4c8a-9bce-47b34c8df814",
   "metadata": {},
   "outputs": [
    {
     "name": "stdout",
     "output_type": "stream",
     "text": [
      "jobs_inf_SUEP-m750-darkPho+RunIIAutumn18-private+MINIAODSIM\n",
      "40\n",
      "jobs_inf_EGamma+Run2018C-UL2018_MiniAODv2-v1+MINIAOD\n",
      "392\n",
      "jobs_inf_SUEP-m1000-darkPho+RunIIAutumn18-private+MINIAODSIM\n"
     ]
    },
    {
     "ename": "KeyboardInterrupt",
     "evalue": "",
     "output_type": "error",
     "traceback": [
      "\u001b[0;31m---------------------------------------------------------------------------\u001b[0m",
      "\u001b[0;31mKeyboardInterrupt\u001b[0m                         Traceback (most recent call last)",
      "Input \u001b[0;32mIn [12]\u001b[0m, in \u001b[0;36m<cell line: 2>\u001b[0;34m()\u001b[0m\n\u001b[1;32m      2\u001b[0m \u001b[38;5;28;01mfor\u001b[39;00m i,dir_name \u001b[38;5;129;01min\u001b[39;00m \u001b[38;5;28menumerate\u001b[39m(dirs):\n\u001b[1;32m      3\u001b[0m     \u001b[38;5;28mprint\u001b[39m(dir_name)\n\u001b[0;32m----> 4\u001b[0m     error_files \u001b[38;5;241m=\u001b[39m \u001b[43mos\u001b[49m\u001b[38;5;241;43m.\u001b[39;49m\u001b[43mpopen\u001b[49m\u001b[43m(\u001b[49m\u001b[38;5;124;43m'\u001b[39;49m\u001b[38;5;124;43mgrep \u001b[39;49m\u001b[38;5;124;43m'\u001b[39;49m\u001b[38;5;241;43m+\u001b[39;49m\u001b[43m \u001b[49m\u001b[43merr\u001b[49m\u001b[43m \u001b[49m\u001b[38;5;241;43m+\u001b[39;49m\u001b[43m \u001b[49m\u001b[38;5;124;43m'\u001b[39;49m\u001b[38;5;124;43m \u001b[39;49m\u001b[38;5;124;43m'\u001b[39;49m\u001b[43m \u001b[49m\u001b[38;5;241;43m+\u001b[39;49m\u001b[43m \u001b[49m\u001b[43mbase_dir\u001b[49m\u001b[43m \u001b[49m\u001b[38;5;241;43m+\u001b[39;49m\u001b[43m \u001b[49m\u001b[43mdir_name\u001b[49m\u001b[43m \u001b[49m\u001b[38;5;241;43m+\u001b[39;49m\u001b[38;5;124;43m'\u001b[39;49m\u001b[38;5;124;43m/\u001b[39;49m\u001b[38;5;124;43m'\u001b[39;49m\u001b[43m \u001b[49m\u001b[38;5;241;43m+\u001b[39;49m\u001b[43m \u001b[49m\u001b[43mjob_num\u001b[49m\u001b[43m \u001b[49m\u001b[38;5;241;43m+\u001b[39;49m\u001b[43m \u001b[49m\u001b[38;5;124;43m'\u001b[39;49m\u001b[38;5;124;43m.*.err\u001b[39;49m\u001b[38;5;124;43m'\u001b[39;49m\u001b[43m)\u001b[49m\u001b[38;5;241;43m.\u001b[39;49m\u001b[43mreadlines\u001b[49m\u001b[43m(\u001b[49m\u001b[43m)\u001b[49m\n\u001b[1;32m      5\u001b[0m     \u001b[38;5;28mprint\u001b[39m(\u001b[38;5;28mlen\u001b[39m(error_files))\n",
      "\u001b[0;31mKeyboardInterrupt\u001b[0m: "
     ]
    }
   ],
   "source": [
    "# How many files have this error\n",
    "for i,dir_name in enumerate(dirs):\n",
    "    print(dir_name)\n",
    "    error_files = os.popen('grep '+ err + ' ' + base_dir + dir_name +'/' + job_num + '.*.err').readlines()\n",
    "    print(len(error_files))"
   ]
  },
  {
   "cell_type": "markdown",
   "id": "c8d42d28-53eb-46ec-968e-c3d7d54695a8",
   "metadata": {},
   "source": [
    "`WARNING`: this cell will **delete** files.<br>\n",
    "This will find all files with the specific error in the .err, and delete the correspdoning HDF5 file.<br>\n",
    "This might need to be adjusted based on the error / log files outputs. First run it dry to make sure it works."
   ]
  },
  {
   "cell_type": "code",
   "execution_count": 13,
   "id": "90de0546-aafa-487b-bcaf-8cd15da33bda",
   "metadata": {
    "tags": []
   },
   "outputs": [
    {
     "name": "stdout",
     "output_type": "stream",
     "text": [
      "jobs_inf_SUEP-m750-darkPho+RunIIAutumn18-private+MINIAODSIM\n",
      "40\n",
      "jobs_inf_EGamma+Run2018C-UL2018_MiniAODv2-v1+MINIAOD\n",
      "392\n",
      "jobs_inf_SUEP-m1000-darkPho+RunIIAutumn18-private+MINIAODSIM\n",
      "54\n",
      "jobs_inf_SUEP-m125-generic+RunIIAutumn18-private+MINIAODSIM\n",
      "4\n",
      "jobs_inf_SUEP-m1000-darkPhoHad+RunIIAutumn18-private+MINIAODSIM\n",
      "82\n",
      "jobs_inf_JetHT+Run2018A-UL2018_MiniAODv2-v1+MINIAOD\n",
      "4\n",
      "jobs_inf_SingleMuon+Run2018C-UL2018_MiniAODv2-v2+MINIAOD\n",
      "12\n",
      "jobs_inf_JetHT+Run2018B-UL2018_MiniAODv2-v1+MINIAOD\n",
      "34\n",
      "jobs_inf_SUEP-m400-generic+RunIIAutumn18-private+MINIAODSIM\n",
      "54\n",
      "jobs_inf_SingleMuon+Run2018A-UL2018_MiniAODv2-v3+MINIAOD\n",
      "468\n",
      "jobs_inf_EGamma+Run2018B-UL2018_MiniAODv2-v1+MINIAOD\n",
      "420\n",
      "jobs_inf_JetHT+Run2018C-UL2018_MiniAODv2-v1+MINIAOD\n",
      "2\n",
      "jobs_inf_SingleMuon+Run2018B-UL2018_MiniAODv2-v2+MINIAOD\n",
      "2\n",
      "jobs_inf_SUEP-m400-darkPhoHad+RunIIAutumn18-private+MINIAODSIM\n",
      "48\n",
      "jobs_inf_SUEP-m1000-generic+RunIIAutumn18-private+MINIAODSIM\n",
      "20\n",
      "jobs_inf_SUEP-m750-darkPhoHad+RunIIAutumn18-private+MINIAODSIM\n",
      "32\n",
      "jobs_inf_SingleMuon+Run2018D-UL2018_MiniAODv2-v3+MINIAOD\n",
      "30\n",
      "jobs_inf_SUEP-m750-generic+RunIIAutumn18-private+MINIAODSIM\n",
      "56\n",
      "jobs_inf_JetHT+Run2018D-UL2018_MiniAODv2-v1+MINIAOD\n",
      "16\n",
      "jobs_inf_EGamma+Run2018A-UL2018_MiniAODv2-v1+MINIAOD\n",
      "48\n",
      "jobs_inf_SUEP-m125-darkPhoHad+RunIIAutumn18-private+MINIAODSIM\n",
      "10\n",
      "jobs_inf_SUEP-m400-darkPho+RunIIAutumn18-private+MINIAODSIM\n",
      "24\n",
      "jobs_inf_SUEP-m125-darkPho+RunIIAutumn18-private+MINIAODSIM\n",
      "8\n",
      "jobs_inf_EGamma+Run2018D-UL2018_MiniAODv2-v2+MINIAOD\n",
      "2488\n"
     ]
    }
   ],
   "source": [
    "base_out_dir = '/mnt/T3_US_MIT/hadoop/scratch/lavezzo/SUEP/inf/'\n",
    "dry = False\n",
    "\n",
    "for i, dir_name in enumerate(dirs):\n",
    "    print(dir_name)\n",
    "    # find .err files with error\n",
    "    error_files = os.popen('grep '+ err + ' ' + base_dir + dir_name +'/' + job_num + '.*.err').readlines()\n",
    "    print(len(error_files))\n",
    "    for f in error_files:\n",
    "        \n",
    "        # find corresponding .out files\n",
    "        outfile = f.split(\":\")[0][:-3]+\"out\"\n",
    "        \n",
    "        # grab name of .root file\n",
    "        file_hdf = os.popen('grep \"xrdcp root\" ' + outfile).readlines()[0].split(\"/\")[-1].split(\" \")[0]\n",
    "        file_hdf = file_hdf.split(\".root\")[0]+\".hdf5\"\n",
    "        \n",
    "        # run it dry to make sure you are deleting what you want to delete\n",
    "        if dry:\n",
    "            print(['rm',base_out_dir+dir_name.split(identifier)[-1][1:]+\"/\"+file_hdf])\n",
    "            break\n",
    "            \n",
    "        # delete the hdf5 file\n",
    "        else:\n",
    "            try: \n",
    "                _ = subprocess.run(['rm',base_out_dir+dir_name.split(identifier)[-1][1:]+\"/\"+file_hdf],\n",
    "                              stdout=subprocess.PIPE, stderr=subprocess.STDOUT)\n",
    "            except:\n",
    "                continue"
   ]
  },
  {
   "cell_type": "code",
   "execution_count": 8,
   "id": "3e90d443-98e9-41e1-8226-426cbe901298",
   "metadata": {},
   "outputs": [
    {
     "name": "stdout",
     "output_type": "stream",
     "text": [
      "jobs_2018_data_V6_JetHT+Run2018B-UL2018_MiniAODv2-v1+MINIAOD\n",
      "['t3btch042.mit.edu'] \n",
      "\n"
     ]
    }
   ],
   "source": [
    "bad_hosts = []\n",
    "for dir_name in dirs:\n",
    "    print(dir_name)\n",
    "    \n",
    "    error_files = os.popen('grep '+ err + ' ' + base_dir + dir_name +'/' + job_num + '.*').readlines()\n",
    "    \n",
    "    hosts = []\n",
    "    for entry in error_files:\n",
    "        if 'os.popen' in entry: continue\n",
    "        current_file = entry.split('.err')[0]+'.out'\n",
    "        f2 = open(current_file, \"r\")\n",
    "        lines = f2.readlines()\n",
    "        for line in lines:\n",
    "            if 'Running on:' not in line: continue\n",
    "            hostname = line[len(\"Running on:  \"):-1]\n",
    "            if hostname not in hosts: hosts.append(hostname)\n",
    "    \n",
    "    print(hosts, '\\n')\n",
    "    \n",
    "    for host in hosts:\n",
    "        if host not in bad_hosts: bad_hosts.append(host)"
   ]
  },
  {
   "cell_type": "code",
   "execution_count": 42,
   "id": "ac765040-a763-4e1d-ba43-e1dd7d6ef2ef",
   "metadata": {},
   "outputs": [
    {
     "name": "stdout",
     "output_type": "stream",
     "text": [
      "jobs_2018_MC_V6_QCD_Pt_170to300_TuneCP5_13TeV_pythia8+RunIISummer20UL18MiniAODv2-106X_upgrade2018_realistic_v16_L1v1-v1+MINIAODSIM\n",
      "[]\n",
      "jobs_2018_MC_V6_QCD_Pt_2400to3200_TuneCP5_13TeV_pythia8+RunIISummer20UL18MiniAODv2-106X_upgrade2018_realistic_v16_L1v1-v1+MINIAODSIM\n",
      "[]\n",
      "jobs_2018_MC_V6_QCD_Pt_30to50_TuneCP5_13TeV_pythia8+RunIISummer20UL18MiniAODv2-106X_upgrade2018_realistic_v16_L1v1-v1+MINIAODSIM\n",
      "[]\n",
      "jobs_2018_MC_V6_QCD_Pt_3200toInf_TuneCP5_13TeV_pythia8+RunIISummer20UL18MiniAODv2-pilot_106X_upgrade2018_realistic_v16_L1v1-v1+MINIAODSIM\n",
      "[]\n",
      "jobs_2018_MC_V6_QCD_Pt_50to80_TuneCP5_13TeV_pythia8+RunIISummer20UL18MiniAODv2-106X_upgrade2018_realistic_v16_L1v1-v1+MINIAODSIM\n",
      "[]\n",
      "jobs_2018_MC_V6_QCD_Pt_1000to1400_TuneCP5_13TeV_pythia8+RunIISummer20UL18MiniAODv2-106X_upgrade2018_realistic_v16_L1v1-v1+MINIAODSIM\n",
      "[]\n",
      "jobs_2018_MC_V6_QCD_Pt_120to170_TuneCP5_13TeV_pythia8+RunIISummer20UL18MiniAODv2-106X_upgrade2018_realistic_v16_L1v1-v2+MINIAODSIM\n",
      "[]\n",
      "jobs_2018_MC_V6_QCD_Pt_1400to1800_TuneCP5_13TeV_pythia8+RunIISummer20UL18MiniAODv2-106X_upgrade2018_realistic_v16_L1v1-v1+MINIAODSIM\n",
      "[]\n",
      "jobs_2018_MC_V6_QCD_Pt_15to30_TuneCP5_13TeV_pythia8+RunIISummer20UL18MiniAODv2-106X_upgrade2018_realistic_v16_L1v1-v1+MINIAODSIM\n",
      "[]\n",
      "jobs_2018_MC_V6_QCD_Pt_1800to2400_TuneCP5_13TeV_pythia8+RunIISummer20UL18MiniAODv2-106X_upgrade2018_realistic_v16_L1v1-v1+MINIAODSIM\n",
      "[]\n",
      "jobs_2018_MC_V6_QCD_Pt_300to470_TuneCP5_13TeV_pythia8+RunIISummer20UL18MiniAODv2-106X_upgrade2018_realistic_v16_L1v1-v1+MINIAODSIM\n",
      "[]\n",
      "jobs_2018_MC_V6_QCD_Pt_3200toInf_TuneCP5_13TeV_pythia8+RunIISummer20UL18MiniAODv2-106X_upgrade2018_realistic_v16_L1v1-v1+MINIAODSIM\n",
      "[]\n",
      "jobs_2018_MC_V6_QCD_Pt_470to600_TuneCP5_13TeV_pythia8+RunIISummer20UL18MiniAODv2-106X_upgrade2018_realistic_v16_L1v1-v1+MINIAODSIM\n",
      "[]\n",
      "jobs_2018_MC_V6_SUEP-m1000-darkPhoHad+RunIIAutumn18-private+MINIAODSIM\n",
      "[]\n",
      "jobs_2018_MC_V6_SUEP-m1000-darkPho+RunIIAutumn18-private+MINIAODSIM\n",
      "[]\n",
      "jobs_2018_MC_V6_SUEP-m125-darkPhoHad+RunIIAutumn18-private+MINIAODSIM\n",
      "[]\n",
      "jobs_2018_MC_V6_SUEP-m125-generic+RunIIAutumn18-private+MINIAODSIM\n",
      "[]\n",
      "jobs_2018_MC_V6_SUEP-m750-darkPhoHad+RunIIAutumn18-private+MINIAODSIM\n",
      "[]\n",
      "jobs_2018_MC_V6_QCD_Pt_600to800_TuneCP5_13TeV_pythia8+RunIISummer20UL18MiniAODv2-106X_upgrade2018_realistic_v16_L1v1-v1+MINIAODSIM\n",
      "[]\n",
      "jobs_2018_MC_V6_QCD_Pt_800to1000_TuneCP5_13TeV_pythia8+RunIISummer20UL18MiniAODv2-106X_upgrade2018_realistic_v16_L1v1-v1+MINIAODSIM\n",
      "[]\n",
      "jobs_2018_MC_V6_QCD_Pt_80to120_TuneCP5_13TeV_pythia8+RunIISummer20UL18MiniAODv2-106X_upgrade2018_realistic_v16_L1v1-v1+MINIAODSIM\n",
      "[]\n",
      "jobs_2018_MC_V6_SUEP-m400-darkPhoHad+RunIIAutumn18-private+MINIAODSIM\n",
      "[]\n",
      "jobs_2018_MC_V6_SUEP-m400-generic+RunIIAutumn18-private+MINIAODSIM\n",
      "[]\n",
      "jobs_2018_MC_V6_SUEP-m750-darkPho+RunIIAutumn18-private+MINIAODSIM\n",
      "[]\n",
      "jobs_2018_MC_V6_SUEP-m750-generic+RunIIAutumn18-private+MINIAODSIM\n",
      "[]\n",
      "jobs_2018_MC_V6_SUEP-m1000-generic+RunIIAutumn18-private+MINIAODSIM\n",
      "[]\n",
      "jobs_2018_MC_V6_SUEP-m125-darkPho+RunIIAutumn18-private+MINIAODSIM\n",
      "[]\n",
      "jobs_2018_MC_V6_SUEP-m400-darkPho+RunIIAutumn18-private+MINIAODSIM\n",
      "[]\n"
     ]
    }
   ],
   "source": [
    "good_hosts = []\n",
    "for dir_name in dirs:\n",
    "    print(dir_name)\n",
    "    \n",
    "    error_files = os.popen('grep  Tau_jetIdx' + base_dir + dir_name +'/' + job_num + '.*').readlines()\n",
    "\n",
    "    hosts = []\n",
    "    for entry in error_files:\n",
    "        if 'os.popen' in entry: continue\n",
    "        current_file = entry.split('.err')[0]+'.out'\n",
    "        f2 = open(current_file, \"r\")\n",
    "        lines = f2.readlines()\n",
    "        for line in lines:\n",
    "            if 'Running on:' not in line: continue\n",
    "            hostname = line[len(\"Running on:  \"):-1]\n",
    "            if hostname not in hosts: hosts.append(hostname)\n",
    "        \n",
    "    for host in hosts:\n",
    "        if host not in good_hosts: good_hosts.append(host)"
   ]
  },
  {
   "cell_type": "code",
   "execution_count": 54,
   "id": "5827b78c-ffec-4560-b4d9-be6295eb9e4b",
   "metadata": {},
   "outputs": [
    {
     "name": "stdout",
     "output_type": "stream",
     "text": [
      "['t2bat0270.cmsaf.mit.edu', 't2bat0256.cmsaf.mit.edu', 't2bat0465.cmsaf.mit.edu', 't2bat0500.cmsaf.mit.edu', 't2bat0461.cmsaf.mit.edu', 't2bat0490.cmsaf.mit.edu', 't2bat0498.cmsaf.mit.edu', 't2bat0497.cmsaf.mit.edu', 't2bat0202.cmsaf.mit.edu', 't2bat0485.cmsaf.mit.edu', 't2bat0079.cmsaf.mit.edu', 't2bat0486.cmsaf.mit.edu', 't2bat0494.cmsaf.mit.edu', 't2bat0240.cmsaf.mit.edu']\n"
     ]
    }
   ],
   "source": [
    "print(bad_hosts)"
   ]
  },
  {
   "cell_type": "code",
   "execution_count": 41,
   "id": "428708e1-19bc-4e64-9585-1c7a3cf1f64a",
   "metadata": {},
   "outputs": [
    {
     "name": "stdout",
     "output_type": "stream",
     "text": [
      "[]\n"
     ]
    }
   ],
   "source": [
    "print(good_hosts)"
   ]
  },
  {
   "cell_type": "code",
   "execution_count": 40,
   "id": "0d606cd4-2bc9-4210-90ef-9ada30635bdf",
   "metadata": {},
   "outputs": [
    {
     "data": {
      "text/plain": [
       "set()"
      ]
     },
     "execution_count": 40,
     "metadata": {},
     "output_type": "execute_result"
    }
   ],
   "source": [
    "# is there any overlap between machines where the jobs\n",
    "# that ran succesfully and those where they failed?\n",
    "set(good_hosts).intersection(all_hosts)"
   ]
  },
  {
   "cell_type": "code",
   "execution_count": 28,
   "id": "11bbecfa-e92d-4a74-98e0-a3c5fdc414ef",
   "metadata": {},
   "outputs": [],
   "source": []
  },
  {
   "cell_type": "code",
   "execution_count": null,
   "id": "a9ab9bc8-4760-4c78-b2ce-54f8517835d8",
   "metadata": {},
   "outputs": [],
   "source": []
  }
 ],
 "metadata": {
  "kernelspec": {
   "display_name": "suep",
   "language": "python",
   "name": "suep"
  },
  "language_info": {
   "codemirror_mode": {
    "name": "ipython",
    "version": 3
   },
   "file_extension": ".py",
   "mimetype": "text/x-python",
   "name": "python",
   "nbconvert_exporter": "python",
   "pygments_lexer": "ipython3",
   "version": "3.9.10"
  }
 },
 "nbformat": 4,
 "nbformat_minor": 5
}
