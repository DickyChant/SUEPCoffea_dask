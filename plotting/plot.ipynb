{
 "cells": [
  {
   "cell_type": "markdown",
   "id": "0ef09744-0338-432a-a1c0-7dba1608e4d7",
   "metadata": {},
   "source": [
    "# Plotting Notebook\n",
    "This notebook displays and manipulates the histograms produced by `make_plots.py`. <br>\n",
    "Please use this is a guide to the type plots that you can create, as examples of the `hist`, `mplhep`, and other packages, as well as the use of the various functions that we have written in `plot_utils.py`. <br>\n",
    "Use the the Table of Contents in Jupyter to view the different sections of the notebook to help navigating it."
   ]
  },
  {
   "cell_type": "code",
   "execution_count": 7,
   "id": "21dc72ed-d0e7-4f05-a8b3-150722a8f2fe",
   "metadata": {},
   "outputs": [],
   "source": [
    "import os, sys, glob\n",
    "import numpy as np\n",
    "import matplotlib.pyplot as plt\n",
    "import matplotlib\n",
    "import hist\n",
    "from hist import Hist\n",
    "import mplhep as hep\n",
    "import math\n",
    "from tabulate import tabulate\n",
    "import warnings\n",
    "import scipy\n",
    "from plot_utils import *\n",
    "import fill_utils\n",
    "\n",
    "warnings.filterwarnings('ignore')\n",
    "matplotlib.rcParams.update({'figure.max_open_warning': 0})\n",
    "matplotlib.rcParams['figure.facecolor'] = 'white'\n",
    "plt.style.use(hep.style.CMS)\n",
    "hep.style.use(\"CMS\")"
   ]
  },
  {
   "cell_type": "markdown",
   "id": "72506236-9f0d-464c-8a7b-0d01e8bcb6a9",
   "metadata": {},
   "source": [
    "## Notebook Parameters\n",
    "The following couple cells define the input and output directories, and load in the desired .pkl files into the `plots` nested dictionary.<br>\n",
    "`output_label`: _str_, saves plots as `<output_label>+<plot_name>.<file_ext>`.<br>\n",
    "`file_ext`: _str_, see above.<br>"
   ]
  },
  {
   "cell_type": "code",
   "execution_count": 2,
   "id": "6a8da96b-3df3-4326-b349-f36b4b8eb07e",
   "metadata": {},
   "outputs": [],
   "source": [
    "# parameters\n",
    "output_label = '/home/submit/lavezzo/public_html/SUEP/analysis/debug/'\n",
    "file_ext = '.png'"
   ]
  },
  {
   "cell_type": "markdown",
   "id": "71e6c078-61d6-4a2d-a93d-b8caa704ecbb",
   "metadata": {
    "tags": []
   },
   "source": [
    "The `plots` dictionary is used to store all the plots imported from the pickle files. Dimensions: (sample) x (plot label) <br>\n",
    "The `loader` function in `plot_utils.py` automatically merges all the QCD HT and QCD pT bins into one sample ('QCD_HT' and 'QCD_Pt'), applies the lumis, and excludes some of the low QCD bins.<br>"
   ]
  },
  {
   "cell_type": "code",
   "execution_count": 29,
   "id": "bf2f9511-21f7-4106-8ed4-0688cdee03d6",
   "metadata": {
    "tags": []
   },
   "outputs": [],
   "source": [
    "# create output dir\n",
    "if not os.path.isdir(output_label): \n",
    "    print(\"Creating\", output_label)\n",
    "    os.mkdir(output_label)\n",
    "\n",
    "# This part is meant to be flxeible, depending on what you want to import\n",
    "# dimensions: (sample) x (plot label)\n",
    "\n",
    "# input .pkl files\n",
    "plotDir = '/work/submit/{}/SUEP/outputs/'.format(os.environ['USER'])\n",
    "infile_names = glob.glob(plotDir+'*.pkl')\n",
    "\n",
    "# generate list of files that you want to merge histograms for\n",
    "offline_files_SUEP = [f for f in infile_names if \"March2023.pkl\" in f and ('GluGlu' in f and 'hadronic' in f and 'T2p0' in f and 'mPhi2.0' in f)]\n",
    "offline_files_2018 = [f for f in infile_names if \"March2023.pkl\" in f and ('20UL18' in f or 'Run2018' in f)]\n",
    "offline_files_2017 = [f for f in infile_names if \"March2023.pkl\" in f and ('20UL17' in f or 'Run2017' in f)]\n",
    "offline_files_2016 = [f for f in infile_names if \"March2023.pkl\" in f and ('20UL16' in f or 'Run2016' in f)]\n",
    "\n",
    "offline_files_2018A = [f for f in infile_names if \"ISR_closure_v2.pkl\" in f and ('Run2018A' in f)]\n",
    "offline_files_2018B = [f for f in infile_names if \"ISR_closure_v2.pkl\" in f and ('Run2018B' in f)]\n",
    "offline_files_2018C = [f for f in infile_names if \"ISR_closure_v2.pkl\" in f and ('Run2018C' in f)]\n",
    "offline_files_2018D = [f for f in infile_names if \"ISR_closure_v2.pkl\" in f and ('Run2018D' in f)]\n",
    "\n",
    "# merge the histograms, apply lumis, exclude low HT bins\n",
    "# plots_SUEP_2018 = loader(offline_files_SUEP, year=2018, exclude_low_bins=True)\n",
    "# plots_SUEP_2017 = loader(offline_files_SUEP, year=2017, exclude_low_bins=True)\n",
    "# plots_SUEP_2016 = loader(offline_files_SUEP, year=2016, exclude_low_bins=True)\n",
    "# plots_2018 = loader(offline_files_2018, auto_lumi=True, exclude_low_bins=True)\n",
    "# plots_2017 = loader(offline_files_2017, auto_lumi=True, exclude_low_bins=True)\n",
    "# plots_2016 = loader(offline_files_2016, auto_lumi=True, exclude_low_bins=True)\n",
    "plots_2018A = loader(offline_files_2018A, auto_lumi=True, exclude_low_bins=True)\n",
    "plots_2018B = loader(offline_files_2018B, auto_lumi=True, exclude_low_bins=True)\n",
    "plots_2018C = loader(offline_files_2018C, auto_lumi=True, exclude_low_bins=True)\n",
    "plots_2018D = loader(offline_files_2018D, auto_lumi=True, exclude_low_bins=True)\n",
    "\n",
    "\n",
    "# put everything in one dictionary\n",
    "plots = {}\n",
    "# for key, sample in zip(plots_SUEP_2018.keys(), offline_files_SUEP): \n",
    "#     sample = sample.split('/')[-1].replace(\".pkl\",\"\")\n",
    "#     sample = sample[:sample.find(\"13TeV\")+5]+'-pythia8'\n",
    "#     xsection = fill_utils.getXSection(sample, '2018_SUEP')\n",
    "#     plots[key+\"_2018\"] = fill_utils.apply_normalization(plots_SUEP_2018[key], xsection)\n",
    "# for key in plots_SUEP_2017.keys(): plots[key+\"_2017\"] = fill_utils.apply_normalization(plots_SUEP_2017[key], fill_utils.getXSection(key + '+RunIIAutumn18-private+MINIAODSIM', '2018', SUEP=True))\n",
    "# for key in plots_SUEP_2016.keys(): plots[key+\"_2016\"] = fill_utils.apply_normalization(plots_SUEP_2016[key], fill_utils.getXSection(key + '+RunIIAutumn18-private+MINIAODSIM', '2018', SUEP=True))\n",
    "#for key in plots_2018.keys(): plots[key+\"_2018\"] = plots_2018[key]\n",
    "#for key in plots_2017.keys(): plots[key+\"_2017\"] = plots_2017[key]\n",
    "#for key in plots_2016.keys(): plots[key+\"_2016\"] = plots_2016[key]\n",
    "for key in plots_2018A.keys(): plots[key+\"_2018A\"] = plots_2018A[key]\n",
    "for key in plots_2018B.keys(): plots[key+\"_2018B\"] = plots_2018B[key]\n",
    "for key in plots_2018C.keys(): plots[key+\"_2018C\"] = plots_2018C[key]\n",
    "for key in plots_2018D.keys(): plots[key+\"_2018D\"] = plots_2018D[key]"
   ]
  },
  {
   "cell_type": "code",
   "execution_count": 30,
   "id": "6c28071f-f873-4ce8-81e1-b8570c2eaa3b",
   "metadata": {},
   "outputs": [
    {
     "ename": "KeyError",
     "evalue": "'QCD_HT_2018'",
     "output_type": "error",
     "traceback": [
      "\u001b[0;31m---------------------------------------------------------------------------\u001b[0m",
      "\u001b[0;31mKeyError\u001b[0m                                  Traceback (most recent call last)",
      "Input \u001b[0;32mIn [30]\u001b[0m, in \u001b[0;36m<cell line: 8>\u001b[0;34m()\u001b[0m\n\u001b[1;32m      5\u001b[0m     \u001b[38;5;28;01mfor\u001b[39;00m key \u001b[38;5;129;01min\u001b[39;00m plots[\u001b[38;5;124m'\u001b[39m\u001b[38;5;124mQCD_HT_\u001b[39m\u001b[38;5;124m'\u001b[39m\u001b[38;5;241m+\u001b[39myear]\u001b[38;5;241m.\u001b[39mkeys():\n\u001b[1;32m      6\u001b[0m         plots[\u001b[38;5;124m'\u001b[39m\u001b[38;5;124mMC_\u001b[39m\u001b[38;5;124m'\u001b[39m\u001b[38;5;241m+\u001b[39myear][key] \u001b[38;5;241m=\u001b[39m plots[\u001b[38;5;124m'\u001b[39m\u001b[38;5;124mQCD_HT_\u001b[39m\u001b[38;5;124m'\u001b[39m\u001b[38;5;241m+\u001b[39myear][key] \u001b[38;5;241m+\u001b[39m plots[\u001b[38;5;124m'\u001b[39m\u001b[38;5;124mTTJets_\u001b[39m\u001b[38;5;124m'\u001b[39m\u001b[38;5;241m+\u001b[39myear][key]\n\u001b[0;32m----> 8\u001b[0m \u001b[38;5;28;01mfor\u001b[39;00m year \u001b[38;5;129;01min\u001b[39;00m [\u001b[38;5;241m2018\u001b[39m, \u001b[38;5;241m2017\u001b[39m, \u001b[38;5;241m2016\u001b[39m]: addMC(year)\n",
      "Input \u001b[0;32mIn [30]\u001b[0m, in \u001b[0;36maddMC\u001b[0;34m(year)\u001b[0m\n\u001b[1;32m      3\u001b[0m year \u001b[38;5;241m=\u001b[39m \u001b[38;5;28mstr\u001b[39m(year)\n\u001b[1;32m      4\u001b[0m plots[\u001b[38;5;124m'\u001b[39m\u001b[38;5;124mMC_\u001b[39m\u001b[38;5;124m'\u001b[39m\u001b[38;5;241m+\u001b[39myear] \u001b[38;5;241m=\u001b[39m {}\n\u001b[0;32m----> 5\u001b[0m \u001b[38;5;28;01mfor\u001b[39;00m key \u001b[38;5;129;01min\u001b[39;00m \u001b[43mplots\u001b[49m\u001b[43m[\u001b[49m\u001b[38;5;124;43m'\u001b[39;49m\u001b[38;5;124;43mQCD_HT_\u001b[39;49m\u001b[38;5;124;43m'\u001b[39;49m\u001b[38;5;241;43m+\u001b[39;49m\u001b[43myear\u001b[49m\u001b[43m]\u001b[49m\u001b[38;5;241m.\u001b[39mkeys():\n\u001b[1;32m      6\u001b[0m     plots[\u001b[38;5;124m'\u001b[39m\u001b[38;5;124mMC_\u001b[39m\u001b[38;5;124m'\u001b[39m\u001b[38;5;241m+\u001b[39myear][key] \u001b[38;5;241m=\u001b[39m plots[\u001b[38;5;124m'\u001b[39m\u001b[38;5;124mQCD_HT_\u001b[39m\u001b[38;5;124m'\u001b[39m\u001b[38;5;241m+\u001b[39myear][key] \u001b[38;5;241m+\u001b[39m plots[\u001b[38;5;124m'\u001b[39m\u001b[38;5;124mTTJets_\u001b[39m\u001b[38;5;124m'\u001b[39m\u001b[38;5;241m+\u001b[39myear][key]\n",
      "\u001b[0;31mKeyError\u001b[0m: 'QCD_HT_2018'"
     ]
    }
   ],
   "source": [
    "# add different MC processes together\n",
    "def addMC(year):\n",
    "    year = str(year)\n",
    "    plots['MC_'+year] = {}\n",
    "    for key in plots['QCD_HT_'+year].keys():\n",
    "        plots['MC_'+year][key] = plots['QCD_HT_'+year][key] + plots['TTJets_'+year][key]\n",
    "\n",
    "for year in [2018, 2017, 2016]: addMC(year)"
   ]
  },
  {
   "cell_type": "markdown",
   "id": "3bccb5e4-d8f4-49a7-b1a4-ab8b8471b9ee",
   "metadata": {},
   "source": [
    "These are all the samples loaded."
   ]
  },
  {
   "cell_type": "code",
   "execution_count": 31,
   "id": "def57046-331c-4c9a-9bf2-093d4ddd86d9",
   "metadata": {},
   "outputs": [
    {
     "name": "stdout",
     "output_type": "stream",
     "text": [
      "MC_2018\n",
      "data_2018A\n",
      "data_2018B\n",
      "data_2018C\n",
      "data_2018D\n"
     ]
    }
   ],
   "source": [
    "keys = list(plots.keys())\n",
    "keys.sort()\n",
    "for k in keys: print(k)"
   ]
  },
  {
   "cell_type": "markdown",
   "id": "23aca9a2-5b30-4b82-a35f-53681bc815f5",
   "metadata": {
    "tags": []
   },
   "source": [
    "## 1D Plots\n",
    "Plot some of the 1D histograms for any number of samples in the same plot.<br>\n",
    "Parameters:<br>\n",
    "`plot_labels`: _list of str_, which plots to show.<br>\n",
    "`samples`: _list of str_, which samples to include in the plot."
   ]
  },
  {
   "cell_type": "code",
   "execution_count": 36,
   "id": "60306334-72b9-4c58-b8bc-7d105692770b",
   "metadata": {
    "tags": []
   },
   "outputs": [
    {
     "data": {
      "image/png": "[encoded data removed]",
      "text/plain": [
       "<Figure size 720x720 with 1 Axes>"
      ]
     },
     "metadata": {},
     "output_type": "display_data"
    }
   ],
   "source": [
    "plot_labels = ['SUEP_phi_Cluster']\n",
    "samples = ['data_2018A', 'data_2018B', 'data_2018C', 'data_2018D'] \n",
    "#samples = [k for k in plots.keys() if 'mS' in k]\n",
    "density = True\n",
    "\n",
    "for plot_label in plot_labels:\n",
    "\n",
    "    plt.figure()\n",
    "    for sample in samples: \n",
    "        h = plots[sample][plot_label][::]\n",
    "        if density: h = h/h.sum().value\n",
    "        hep.histplot(h, yerr=True, label=sample) \n",
    "        \n",
    "    # tweak these by hand, as needed\n",
    "    # plt.ylim(1e4,1e6)\n",
    "    # plt.xlim(-1000,0 )\n",
    "    plt.legend()\n",
    "    plt.yscale(\"log\")\n",
    "\n",
    "    # save and show\n",
    "    plt.savefig(output_label + plot_label + file_ext, bbox_inches='tight')\n",
    "    plt.show()"
   ]
  },
  {
   "cell_type": "markdown",
   "id": "24cd4952-01ff-4c37-9939-14c88699e5ec",
   "metadata": {
    "tags": []
   },
   "source": [
    "## 2D Plots"
   ]
  },
  {
   "cell_type": "markdown",
   "id": "d5c51697-34a1-4425-9abc-e20eb37bd857",
   "metadata": {},
   "source": [
    "Plot some of the 2D histograms for any number of samples in the same plot.<br>\n",
    "Parameters:<br>\n",
    "`plot_label`: _str_, which plot to show.<br>\n",
    "`samples`: _list of str_, which samples to include in the plot.<br>\n",
    "`draw_lines`: _bool_, whether to draw lines in following arguments.<br>\n",
    "`lines_<dimension>`: _list of floats_, draws lines at given values."
   ]
  },
  {
   "cell_type": "code",
   "execution_count": null,
   "id": "1b09b79f-de21-42ec-8a89-50293d9041a8",
   "metadata": {
    "tags": []
   },
   "outputs": [],
   "source": [
    "plot_label = '2D_ISR_S1_vs_single_l5_bPfcand_S1_SUEPtracks_GNNInverted'\n",
    "samples = ['mS1000_T0.35_mPhi1.4_hadronic_2018', 'mS900_T0.35_mPhi1.4_hadronic_2018']\n",
    "#samples += ['SUEP-m125-generic', 'SUEP-m400-generic', 'SUEP-m750-generic', 'SUEP-m1000-generic']\n",
    "draw_lines = False\n",
    "lines_x = [0.35,0.4, 0.5]\n",
    "lines_y = [10,40,80]\n",
    "\n",
    "for sample in samples:\n",
    "    \n",
    "    if plots[sample][plot_label].sum().value == 0:\n",
    "        print(\"Histogram empty for sample\", sample)\n",
    "        continue\n",
    "\n",
    "    hep.hist2dplot(plots[sample][plot_label], \n",
    "               norm=matplotlib.colors.LogNorm(),\n",
    "               label=sample) \n",
    "    \n",
    "    # draw lines to visualize selections, ABCD regions, etc.\n",
    "    if draw_lines:\n",
    "        for y in lines_y: plt.plot([0,10000], [y,y], color='red', linestyle='dashed')\n",
    "        for x in lines_x: plt.plot([x,x], [0,1000], color='red', linestyle='dashed')\n",
    "    \n",
    "    #plt.xlim(0,200)\n",
    "    plt.savefig(output_label + plot_label+ \"_\"+sample+file_ext)\n",
    "    plt.show()"
   ]
  },
  {
   "cell_type": "markdown",
   "id": "1a6f291b-b2d4-4d37-899f-c2ae68f86965",
   "metadata": {},
   "source": [
    "### 2D Hist Slices Stacked\n",
    "Slice a 2D histogram and plot the stacked slices individually."
   ]
  },
  {
   "cell_type": "code",
   "execution_count": null,
   "id": "1e55bf79-4832-4ecb-8601-5a9a2447da57",
   "metadata": {},
   "outputs": [],
   "source": [
    "sample = 'QCD_HT_2018'\n",
    "slice_var = 'y'\n",
    "plot_label = '2D_SUEP_S1_vs_SUEP_nconst_Cluster'\n",
    "\n",
    "regions_list = [[0.0j,20j],[20j,40j],[40j,60j],\n",
    "                [60j,80j],[80j,100j],[100j,300j]]\n",
    "labels = [\"# Const [{},{}]\".format(int(regions[0].imag), int(regions[1].imag)) for regions in regions_list]\n",
    "\n",
    "h = plots[sample][plot_label]\n",
    "fig, ax = plot_sliced_hist2d(h, regions_list, slice_var=slice_var, labels=labels)"
   ]
  },
  {
   "cell_type": "markdown",
   "id": "3063a7f0-7de8-4c11-b7d2-81d348e71b61",
   "metadata": {
    "tags": []
   },
   "source": [
    "## Ratio Plots"
   ]
  },
  {
   "cell_type": "markdown",
   "id": "40c1107c-706a-4d54-bcc6-9d432269d6e8",
   "metadata": {},
   "source": [
    "### Compare Datasets\n",
    "Make ratio plots of different datasets.<br>\n",
    "Parameters:<br>\n",
    "`selection`: _str_, which selection to use, e.g. 'ch', 'mult'.<br>\n",
    "`plot_labels`: _list of str_, which plots to make."
   ]
  },
  {
   "cell_type": "code",
   "execution_count": null,
   "id": "0d4437dd-0333-44b1-a2ec-0729615f2375",
   "metadata": {
    "tags": []
   },
   "outputs": [],
   "source": [
    "selection = 'Cluster70'\n",
    "plot_labels = ['A_SUEP_S1']\n",
    "density = False\n",
    "sample1 = 'data_new'\n",
    "sample2 = 'data_old_new'\n",
    "\n",
    "for plot_label in plot_labels:\n",
    "\n",
    "    plot_label += '_'+selection\n",
    "\n",
    "    h1 = plots[sample1][plot_label][::1j]\n",
    "    h2 = plots[sample2][plot_label][::1j]\n",
    "\n",
    "    # our custom ratio calculates errors differently, more appropriate for plotting densities\n",
    "    if density:\n",
    "        h1 = h1/h1.sum().value\n",
    "        h2 = h2/h2.sum().value\n",
    "        fig, axs, _ = plot_ratio([h1, h2], [r'QCD - $H_T$ Binned', 'Data'])\n",
    "        axs[0].legend()\n",
    "        axs[1].set_ylim(0.5,2.5)\n",
    "        \n",
    "    else:            \n",
    "        fig = plt.figure(figsize=(10, 8))\n",
    "        \n",
    "        _ = h1.plot_ratio(h2,\n",
    "                         rp_num_label=sample1,\n",
    "                         rp_denom_label=sample2)\n",
    "        fig.axes[0].set_yscale(\"log\")\n",
    "        #fig.axes[0].set_xlim(0, 2000)\n",
    "        #fig.axes[0].set_ylim(1e-5, 1e7)\n",
    "        fig.axes[1].set_ylim(0.5,1.5)\n",
    "        fig.axes[1].set_ylabel('MC/data')\n",
    "    \n",
    "    fig.figure.suptitle(plot_label)\n",
    "    plt.savefig(output_label + plot_label + file_ext, bbox_inches='tight')\n",
    "    plt.show()"
   ]
  },
  {
   "cell_type": "markdown",
   "id": "7811966e-0e2e-491d-affe-9e95e280451e",
   "metadata": {},
   "source": [
    "### Ratio Plots: Shared x-axis\n",
    "Make ratio plots for different datasets of all regions combined into one histogram.<br>"
   ]
  },
  {
   "cell_type": "code",
   "execution_count": null,
   "id": "779ff44c-798a-4eb7-a2f9-f5adacb704e0",
   "metadata": {},
   "outputs": [],
   "source": [
    "x = 'ABC'\n",
    "y = 'ACB'\n",
    "plot_labels = ['SUEP_nconst_GNN']\n",
    "sample1 = 'QCD_HT_2018'\n",
    "sample2 = 'data_2018'\n",
    "for plot_label in plot_labels:\n",
    "    fig, (ax1, ax2) = plot_ratio_regions(plots, 'A_'+plot_label, \n",
    "                           sample1, sample2, \n",
    "                           x, density=False)\n",
    "    ax2.set_ylim(0,10)\n",
    "    fig.savefig(output_label + plot_label + file_ext, bbox_inches='tight')"
   ]
  },
  {
   "cell_type": "markdown",
   "id": "ff194bfc-ca8b-4b49-9a37-05e14a7bd4d6",
   "metadata": {},
   "source": [
    "### Compare Variables"
   ]
  },
  {
   "cell_type": "code",
   "execution_count": null,
   "id": "88ae732b-984e-4681-893d-52e4940db557",
   "metadata": {},
   "outputs": [],
   "source": [
    "plot_label1 = \"ht_Cluster70\"\n",
    "plot_label2 = \"ht_JEC_Cluster70\"\n",
    "sample = 'mS200_T0.35_mPhi1.4_hadronic_2018'\n",
    "density = False\n",
    "\n",
    "# QCD hist for ABCD region\n",
    "h1 = plots[sample][plot_label1]\n",
    "h2 = plots[sample][plot_label2]\n",
    "\n",
    "if density:\n",
    "    h1 = h1/h1.sum().value\n",
    "    h2 = h2/h2.sum().value\n",
    "\n",
    "fig = plt.figure(figsize=(10, 8))\n",
    "\n",
    "_ = h1.plot_ratio(h2,\n",
    "                 rp_num_label=plot_label1,\n",
    "                 rp_denom_label=plot_label2)\n",
    "\n",
    "fig.axes[0].set_yscale(\"log\")\n",
    "# fig.axes[0].set_xlabel(\"pT\")\n",
    "#fig.axes[0].set_xlim(0, 2000)\n",
    "#fig.axes[0].set_ylim(1e-5, 1e7)\n",
    "fig.axes[1].set_ylim(0.5,1.5)\n",
    "plt.savefig(output_label + plot_label1 + \"_\" + plot_label2 + file_ext, bbox_inches='tight')\n",
    "plt.show()"
   ]
  },
  {
   "cell_type": "markdown",
   "id": "5baf9a30-cb16-412f-9028-0861f7d0f806",
   "metadata": {},
   "source": [
    "### Ratios of Slices\n",
    "Slice a 2D histogram for both two samples or variables and plot ratio of each of the slices."
   ]
  },
  {
   "cell_type": "code",
   "execution_count": null,
   "id": "f77cb4b8-68a9-47e6-b30d-711bb6f051b7",
   "metadata": {},
   "outputs": [],
   "source": [
    "h1 = plots['QCD_HT_2018'][\"2D_SUEP_nconst_vs_single_l5_bPfcand_S1_GNN\"]\n",
    "h2 = plots['data_2018'][\"2D_SUEP_nconst_vs_single_l5_bPfcand_S1_GNN\"]\n",
    "\n",
    "regions_list = [[0.0j,20j],[20j,40j],[40j,60j],\n",
    "                [60j,80j],[80j,100j],[100j,300j]]\n",
    "h1_slices = slice_hist2d(h1, regions_list, slice_var='x')\n",
    "h2_slices = slice_hist2d(h2, regions_list, slice_var='x')\n",
    "\n",
    "for h1_slice, h2_slice, regions in zip(h1_slices, h2_slices, regions_list):\n",
    "    \n",
    "    h1_slice = h1_slice[:]\n",
    "    h2_slice = h2_slice[:]\n",
    "    \n",
    "    h1_slice = h1_slice/h1_slice.sum().value\n",
    "    h2_slice = h2_slice/h2_slice.sum().value\n",
    "  \n",
    "    fig, axs, _ = plot_ratio(h1_slice, h2_slice, label1='SUEP', label2='ISR')\n",
    "    axs[0].legend()\n",
    "\n",
    "    fig.suptitle(\"# Const. [{},{}]\".format(int(regions[0].imag), int(regions[1].imag)))\n",
    "    plt.show()"
   ]
  },
  {
   "cell_type": "markdown",
   "id": "12d6e6fc-65cd-4292-a7db-0d8fe8e14681",
   "metadata": {},
   "source": [
    "### Weights"
   ]
  },
  {
   "cell_type": "code",
   "execution_count": null,
   "id": "3077275b-0a7b-4e7f-b754-0b5a1297bbee",
   "metadata": {},
   "outputs": [],
   "source": [
    "plot_label = 'SUEP_nconst_CL'\n",
    "regions = x = 'ABCDEFGHI'\n",
    "density = False\n",
    "\n",
    "weights = nested_dict(2, float)\n",
    "for r in regions:\n",
    "    \n",
    "    plot = r + \"_\" + plot_label\n",
    "    \n",
    "    # control regions\n",
    "    if r != 'I':\n",
    "        h1 = plots['QCD_HT'][plot]\n",
    "        h2 = plots['data'][plot]\n",
    "\n",
    "        fig, _, res = plot_ratio(h1, h2)\n",
    "        plt.close()\n",
    "\n",
    "        x = h1.to_numpy()[1]\n",
    "        ratios = res[0]+1\n",
    "\n",
    "        weights[r]['bins'] = x\n",
    "        weights[r]['ratios'] = ratios\n",
    "    \n",
    "    # signal region\n",
    "    else:\n",
    "        \n",
    "        h1 = plots['QCD_HT']['F_'+plot_label]\n",
    "        F = h1.sum().value\n",
    "        G = plots['QCD_HT']['G_'+plot_label].sum().value\n",
    "        C = plots['QCD_HT']['C_'+plot_label].sum().value\n",
    "        A = plots['QCD_HT']['A_'+plot_label].sum().value\n",
    "        H = plots['QCD_HT']['H_'+plot_label].sum().value\n",
    "        E = plots['QCD_HT']['E_'+plot_label].sum().value\n",
    "        D = plots['QCD_HT']['D_'+plot_label].sum().value\n",
    "        B = plots['QCD_HT']['B_'+plot_label].sum().value\n",
    "        \n",
    "        h1 = h1 * F**3 * (G * C / A) * \\\n",
    "                ((H / E)**4) \\\n",
    "                * (G * F / D)**-2 \\\n",
    "                * (H * C / B)**-2\n",
    "        \n",
    "        h2 = plots['data']['F_'+plot_label]\n",
    "        F = h2.sum().value\n",
    "        G = plots['data']['G_'+plot_label].sum().value\n",
    "        C = plots['data']['C_'+plot_label].sum().value\n",
    "        A = plots['data']['A_'+plot_label].sum().value\n",
    "        H = plots['data']['H_'+plot_label].sum().value\n",
    "        E = plots['data']['E_'+plot_label].sum().value\n",
    "        D = plots['data']['D_'+plot_label].sum().value\n",
    "        B = plots['data']['B_'+plot_label].sum().value\n",
    "        \n",
    "        h2 = h2 * F**3 * (G * C / A) * \\\n",
    "                ((H / E)**4) \\\n",
    "                * (G * F / D)**-2 \\\n",
    "                * (H * C / B)**-2\n",
    "        \n",
    "        fig, _, res = plot_ratio(h1, h2, plot, 'QCD_HT', 'data')\n",
    "        plt.close()\n",
    "        \n",
    "        x = h1.to_numpy()[1]\n",
    "        ratios = res[0]+1\n",
    "\n",
    "        weights[r]['bins'] = x\n",
    "        weights[r]['ratios'] = ratios\n",
    "        \n",
    "weights = dict(weights)\n",
    "np.save('nconst_weights', weights)"
   ]
  },
  {
   "cell_type": "markdown",
   "id": "752f8df6-201a-48c5-a15a-ecbffda88f65",
   "metadata": {
    "tags": []
   },
   "source": [
    "## Automatic Plotting\n",
    "Make all plots in the pkl and save them automatically.<br>"
   ]
  },
  {
   "cell_type": "markdown",
   "id": "0be42a07-d93d-495d-88e5-fcf82e47fce1",
   "metadata": {},
   "source": [
    "### All 1D and 2D Plots"
   ]
  },
  {
   "cell_type": "code",
   "execution_count": null,
   "id": "1fcc7e9e-5df2-45cd-923e-7acb3e430e26",
   "metadata": {
    "tags": []
   },
   "outputs": [],
   "source": [
    "outdir = 'allplots/'\n",
    "samples = ['QCD_HT', 'QCD_HT_scout']\n",
    "density = True\n",
    "\n",
    "plot_labels = [k for k in list(plots['QCD_HT'].keys())]\n",
    "if not os.path.isdir(output_label+outdir): os.system(\"mkdir \" + str(output_label+outdir))\n",
    "\n",
    "for plot_label in plot_labels:\n",
    "    \n",
    "    # 2D plots\n",
    "    if '2D' in plot_label:\n",
    "        \n",
    "        print(plot_label, end=\", \")\n",
    "        \n",
    "        for sample in samples:\n",
    "\n",
    "            if plots[sample][plot_label].sum().value == 0:\n",
    "                print(\"Histogram empty for sample\", sample, end=\", \")\n",
    "                continue\n",
    "\n",
    "            h = plots[sample][plot_label]\n",
    "            hep.hist2dplot(h, \n",
    "                       norm=matplotlib.colors.LogNorm(),\n",
    "                       label=sample) \n",
    "            plt.savefig(output_label + outdir + plot_label+ \"_\"+sample+file_ext, bbox_inches='tight')\n",
    "            plt.close()\n",
    "        \n",
    "    # 1D variables\n",
    "    elif '2D' not in plot_label:\n",
    "    \n",
    "        print(plot_label, end=\", \")\n",
    "        \n",
    "        if plots[sample][plot_label].sum().value == 0:\n",
    "                print(\"Histogram empty for sample\", sample, end=\", \")\n",
    "                continue\n",
    "        \n",
    "        # plot everything\n",
    "        for sample in samples:\n",
    "            h = plots[sample][plot_label]\n",
    "            if density: h = h/h.sum().value\n",
    "            hep.histplot(h, yerr=True, label=sample) \n",
    "        plt.legend()\n",
    "        plt.yscale(\"log\")\n",
    "        plt.savefig(output_label + 'allplots/' + plot_label+ \"_all\"+file_ext, bbox_inches='tight')\n",
    "        plt.close()\n",
    "\n",
    "    print()\n",
    "print(\"All done\")"
   ]
  },
  {
   "cell_type": "markdown",
   "id": "1d4cfda6-bcd9-4879-ac15-9f4cc9b3df11",
   "metadata": {},
   "source": [
    "### All Ratios: 1D Plots\n",
    "For each 1D histogram, make a ratio plot between two samples."
   ]
  },
  {
   "cell_type": "code",
   "execution_count": null,
   "id": "56c203bd-d4fa-418d-bddc-7394fa77165d",
   "metadata": {
    "tags": []
   },
   "outputs": [],
   "source": [
    "plot_labels = list(plots['QCD_HT_2018'].keys())\n",
    "density = False\n",
    "combos = [['QCD_HT_2018','data_2018']]\n",
    "\n",
    "for l1, l2 in combos:\n",
    "    \n",
    "    outdir = l1+\"_\"+l2+\"/\"\n",
    "    print(outdir)\n",
    "\n",
    "    if not os.path.isdir(output_label+outdir): \n",
    "        os.system(\"mkdir \" + str(output_label+outdir))\n",
    "\n",
    "    for plot_label in plot_labels:\n",
    "\n",
    "        if '2D' in plot_label: continue\n",
    "\n",
    "        print(plot_label, end=\", \")\n",
    "        h1 = plots[l1][plot_label]\n",
    "        h2 = plots[l2][plot_label]\n",
    "        \n",
    "        if h1.sum().value == 0 or h2.sum().value == 0: continue\n",
    "        \n",
    "        if density: \n",
    "            h1 = h1/h1.sum().value\n",
    "            h2 = h2/h2.sum().value\n",
    "            fig, axs, _ = plot_ratio(h1, h2, label1=l1, label2=l2)\n",
    "            axs[0].legend()\n",
    "        else:\n",
    "            fig = plt.figure(figsize=(10, 8))\n",
    "            _ = h1.plot_ratio(h2,\n",
    "                             rp_num_label=l1,\n",
    "                             rp_denom_label=l2)\n",
    "            fig.axes[0].set_yscale(\"log\")\n",
    "            fig.axes[1].set_ylim(0.4,1.6)\n",
    "            \n",
    "        plt.savefig(output_label + outdir + plot_label +file_ext, bbox_inches='tight')\n",
    "        plt.close()\n",
    "\n",
    "    print(\"All done\")"
   ]
  },
  {
   "cell_type": "markdown",
   "id": "5e05dd20-7e02-40c9-84fc-8158af53ef09",
   "metadata": {},
   "source": [
    "### All Ratios: Combined Regions"
   ]
  },
  {
   "cell_type": "code",
   "execution_count": null,
   "id": "88125e9f-dbb2-424f-8b46-6e85a588f71b",
   "metadata": {
    "tags": []
   },
   "outputs": [],
   "source": [
    "density = True\n",
    "\n",
    "plot_labels = list(plots['QCD_HT_2018'].keys())\n",
    "combos = [['QCD_HT_2018','data_2018']]\n",
    "\n",
    "for l1, l2 in combos:\n",
    "    \n",
    "    outdir = l1+\"_\"+l2+\"_combinedRegions/\"\n",
    "    print(outdir)\n",
    "\n",
    "    if not os.path.isdir(output_label+outdir): \n",
    "        os.system(\"mkdir \" + str(output_label+outdir))\n",
    "\n",
    "    for plot_label in plot_labels:\n",
    "\n",
    "        if \"A_\" not in plot_label: continue\n",
    "        print(plot_label, end=\", \")\n",
    "        \n",
    "        h1 = plots[l1][plot_label.replace(\"A_\", \"\")]\n",
    "        h2 = plots[l2][plot_label.replace(\"A_\", \"\")]\n",
    "        if h1.sum().value == 0 or h2.sum().value == 0:\n",
    "            print(\"Empty\", end=\", \")\n",
    "            continue\n",
    "            \n",
    "        # x or y define order of regions\n",
    "        x = 'ABCDEFGH'\n",
    "        y = 'ADGBEHCF'\n",
    "        _ = plot_ratio_regions(plots, plot_label, l1, l2, x, density=density)\n",
    "        plt.savefig(output_label + outdir + plot_label +file_ext, bbox_inches='tight')\n",
    "        plt.close()"
   ]
  },
  {
   "cell_type": "markdown",
   "id": "0e7b9203-eaa5-45c7-9d4c-9b94aae3d53f",
   "metadata": {
    "tags": []
   },
   "source": [
    "## Binned QCD Plots\n",
    "Make plots with the QCD separated by bins. This won't work if QCD has been marged. <br>\n",
    "Parameters:<br>\n",
    "`selection`: _str_, which selection to use, e.g. 'ch', 'mult'.<br>\n",
    "`plot_labels`: _list_, which plots you want to make.<br>\n",
    "`identifier`: _str_, how to identify the QCD samples, e.g. QCD_HT or QCD_Pt."
   ]
  },
  {
   "cell_type": "code",
   "execution_count": null,
   "id": "15b07307-ca2d-4ddc-aaaf-d29f25bf523b",
   "metadata": {},
   "outputs": [],
   "source": [
    "print(list(plots.keys()))"
   ]
  },
  {
   "cell_type": "code",
   "execution_count": null,
   "id": "c695776d-ffbf-4bde-9633-1fde41cc1de2",
   "metadata": {},
   "outputs": [],
   "source": [
    "plot_labels = ['ht_Cluster']\n",
    "#samples = ['1500to2000', '500to700', '100to200', '200to300', '300to500', '2000toInf', '1000to1500']\n",
    "samples = ['200to300_2017', '1000to1500_2017', '500to700_2017',\n",
    "           '2000toInf_2017', '300to500_2017', '1500to2000_2017']\n",
    "for plot_label in plot_labels:\n",
    "        \n",
    "    # get hists\n",
    "    hlist, labels = [], []\n",
    "    for sample in samples:\n",
    "        print(sample)\n",
    "        hlist.append(plots[sample][plot_label])\n",
    "        labels.append(sample)\n",
    "                        \n",
    "    # not sure why, but they NEED to be color coded appropriately\n",
    "    vals = []\n",
    "    for key in labels:\n",
    "        key = key.split(\"_\")[0]\n",
    "        keyslice = key.split(\"to\")[0]\n",
    "        val = int(keyslice)\n",
    "        vals.append(val)\n",
    "    hlist_sorted, labels_sorted = [], []\n",
    "    for arg in np.argsort(vals)[::-1]:\n",
    "        hlist_sorted.append(hlist[arg])\n",
    "        labels_sorted.append(labels[arg])\n",
    "        \n",
    "    cmap = plt.cm.jet(np.linspace(0, 1, len(labels_sorted)))\n",
    "    \n",
    "    hep.histplot(hlist_sorted, yerr=True, stack=True, histtype ='fill',\n",
    "                 label=labels_sorted, color=cmap)\n",
    "    \n",
    "    plt.legend(fontsize=14, framealpha=1, facecolor='white', shadow=True, bbox_to_anchor=(1.04,1), loc=\"upper left\")\n",
    "    plt.yscale(\"log\")\n",
    "    plt.savefig(output_label + plot_label + file_ext, bbox_inches='tight')\n",
    "    plt.show()"
   ]
  },
  {
   "cell_type": "markdown",
   "id": "55ea1dcd-f698-4bb6-93ea-db6ff7cbeee9",
   "metadata": {
    "tags": []
   },
   "source": [
    "## ABCD\n",
    "Make the ABCD regions by hand from one of the 2D plots.<br>\n",
    "Notation: `hist[v1:v2::sum]` sums along an axis from v1 to v2 (leave either blank to extend the summation bounds arbitrarily)."
   ]
  },
  {
   "cell_type": "markdown",
   "id": "7a6e501f-7424-4ac2-ba64-110594128186",
   "metadata": {},
   "source": [
    "### ABCD Independent Variables Check\n",
    "1D slices of 2D plots, usually used to check the independence of the ABCD method's two variables on the QCD sample. This won't work if QCD has been binned by pt. <br>\n",
    "N.B.: Imaginary numbers are used to access the bin value; using real numbers would access the bin number (see hist documentation for more info).<br>\n",
    "Parameters:<br>\n",
    "`plot_label`:_str_, which plot to analyze.<br>\n",
    "`sample`: _str_, which sample to analyze.<br>\n",
    "`variables`: _str_, variables being sliced, used to pick the slices in the loop.<br>\n",
    "`slices`: _list of lists of floats_, bins of values to be sliced. e.g. for equal slices use np.linspace(start, end, number of bins), if not can specify as [[0,10],[20,40],[40,50],...]."
   ]
  },
  {
   "cell_type": "code",
   "execution_count": null,
   "id": "f56f88a9-2376-4a5a-987f-d95247c21554",
   "metadata": {},
   "outputs": [],
   "source": [
    "# parameters\n",
    "plot_label = '2D_SUEP_S1_vs_single_l5_bPfcand_S1_GNN'\n",
    "sample = 'QCD_HT_2018'\n",
    "variables = ['S1', 'Classifier Output']\n",
    "\n",
    "for i in range(2):\n",
    "    \n",
    "    slice_label = variables[(i+1)%2]\n",
    "    \n",
    "    # some predefined slices\n",
    "    if slice_label == '# Tracks': slices = [[0.0j,40j],[40j,80j],[80j,120j],[120j,140j],[140j,160j],[160j,500j]]\n",
    "    elif slice_label == '# Const': slices = [[0.0j,20j],[20j,40j],[40j,60j],[60j,80j],[80j,300j]]\n",
    "    elif slice_label == 'pT Avg': slices = [[0.0j,20j],[20j,40j],[40j,60j],[60j,80j],[80j,1000j]]\n",
    "    elif slice_label == 'pT Avg b': slices = [[0.0j,2j],[2j,4j],[4j,6j],[6j,10j],[10j,1000j]]\n",
    "    elif slice_label == 'pT Mean Scaled': slices = [[0.0j, 0.1j],[0.1j,0.2j],[0.2j,0.4j],[0.4j,0.6j],[0.6j, 1.0j]]\n",
    "    elif slice_label == 'Classifier Output': slices = [[0.0j,0.05j],[0.05j,0.1j],[0.1j,0.2j],[0.2j,0.4j],[0.4j,0.6j],[0.6j,0.8j],[0.8j,0.9j], [0.9j,1.0j]]\n",
    "    elif slice_label == 'S1': slices = [[0.0j,0.2j],[0.2j,0.4j],[0.4j,0.6j],[0.6j,0.8j],[0.8j,1.0j]]\n",
    "\n",
    "    h = plots[sample][plot_label]\n",
    "    \n",
    "    if i==0:  \n",
    "        h = h[:,:]\n",
    "        hlist = slice_hist2d(h, slices, slice_var='y')\n",
    "    if i==1:  \n",
    "        h = h[:,:]\n",
    "        hlist = slice_hist2d(h, slices, slice_var='x')\n",
    "    \n",
    "    for h, s in zip(hlist, slices):\n",
    "        hep.histplot(h,\n",
    "                     yerr=True, density=True, \n",
    "                     label=slice_label+\" [{0},{1}]\".format(s[0].imag, s[1].imag))    \n",
    "    \n",
    "    plt.legend()\n",
    "    # plt.ylim(1e-5,1e1)\n",
    "    plt.yscale('log')\n",
    "    plt.ylabel(\"Normalized Events\")\n",
    "    plt.xlabel(variables[i])\n",
    "    plt.savefig(output_label + plot_label + \"_\" + slice_label.replace(\"#\",\"n\").replace(\" \",\"_\") + \"_SLICES\" + file_ext,  bbox_inches='tight')\n",
    "    plt.show()"
   ]
  },
  {
   "cell_type": "markdown",
   "id": "c7568606-29f7-4ff2-8200-b402bb971977",
   "metadata": {},
   "source": [
    "### 4 Regions\n",
    "Check closure in D region for one sample."
   ]
  },
  {
   "cell_type": "code",
   "execution_count": null,
   "id": "2fd364db-dc37-452f-9a96-809aa9f52590",
   "metadata": {},
   "outputs": [],
   "source": [
    "plot_label = '2D_SUEP_S1_vs_SUEP_nconst_Cluster'\n",
    "abcd = plots['QCD_HT_2018'][plot_label]\n",
    "xregions = [0.35j, 0.5j, 1.0j]\n",
    "yregions = [10j, 80j, 300j]\n",
    "\n",
    "\n",
    "SR, SR_exp = ABCD_4regions(abcd, xregions, yregions, sum_var='x')\n",
    "\n",
    "nonzero = (SR.values() > 0) | (SR_exp.values() > 0)\n",
    "ks = scipy.stats.ks_2samp(SR.values()[nonzero], SR_exp.values()[nonzero])\n",
    "\n",
    "fig, axs = plot_ratio([SR_exp, SR], labels=[\"$SR_{obs}$\", \"$SR_{exp}$\"])\n",
    "_ = axs[0].plot([],[],' ',label='KS p-value: {}'.format(round(ks.pvalue,3)))\n",
    "_ = axs[1].set_ylim(0,2)\n",
    "_ = axs[0].legend()\n",
    "\n",
    "plt.savefig(output_label+\"ABCD_\"+plot_label+file_ext)"
   ]
  },
  {
   "cell_type": "markdown",
   "id": "82a44db9-0d31-4519-815e-f595e8843aa8",
   "metadata": {},
   "source": [
    "### 6 Regions"
   ]
  },
  {
   "cell_type": "code",
   "execution_count": null,
   "id": "2e119adf-2627-4410-ba5d-489559c0ace3",
   "metadata": {},
   "outputs": [],
   "source": [
    "plot_label = '2D_SUEP_S1_vs_single_l5_bPfcand_S1_SUEPtracks_GNN'\n",
    "abcd = plots['QCD_HT_2018'][plot_label]\n",
    "\n",
    "xregions = [0.3j, 0.4j, 0.5j, 1.0j]\n",
    "yregions = [0.3j, 0.5j, 1.0j]\n",
    "\n",
    "SR, SR_exp = ABCD_6regions(abcd, xregions, yregions, sum_var='x')\n",
    "\n",
    "fig = plt.figure(figsize=(10, 8))\n",
    "main, sub = SR.plot_ratio(SR_exp,\n",
    "                rp_num_label='SR observed',\n",
    "                rp_denom_label='SR expected',\n",
    "                rp_uncert_draw_type=\"bar\")\n",
    "fig.axes[0].set_yscale(\"log\")\n",
    "fig.axes[1].set_ylim(0.4,1.6)\n",
    "plt.savefig(output_label+\"ABCD_6regions_\"+plot_label+file_ext)"
   ]
  },
  {
   "cell_type": "markdown",
   "id": "f2dacdee-6704-48de-9999-5fbd766d19b5",
   "metadata": {},
   "source": [
    "### 9 Regions with error propagation"
   ]
  },
  {
   "cell_type": "code",
   "execution_count": null,
   "id": "f2c8988a-d7c5-493e-8a20-8df8920906ef",
   "metadata": {},
   "outputs": [],
   "source": [
    "plot_label = '2D_SUEP_S1_vs_SUEP_nconst_Cluster70'\n",
    "abcd = plots['QCD_HT_2018'][plot_label]\n",
    "#abcd += plots['TTJets_2018'][plot_label]\n",
    "new_bins = [70, 90, 120, 300]\n",
    "rebin = True\n",
    "\n",
    "# 2D_SUEP_S1_vs_SUEP_nconst_Cluster\n",
    "# 2D_ISR_S1_vs_ISR_nconst_ClusterInverted\n",
    "xregions = [0.3j, 0.4j, 0.5j, 1.0j]\n",
    "yregions = [30j, 50j, 70j, 300j]\n",
    "\n",
    "# 2D_SUEP_S1_vs_SUEP_nconst_Cluster\n",
    "# 2D_ISR_S1_vs_ISR_nconst_ClusterInverted\n",
    "# xregions = [0.35j, 0.4j, 0.5j, 1.0j]\n",
    "# yregions = [20j, 40j, 60j, 300j]\n",
    "\n",
    "# 2D_ISR_S1_ISR_nconst_CL\n",
    "# xregions = [0.35j, 0.4j, 0.5j, 1.0j]\n",
    "# yregions = [0.0j, 30j, 60j, 300j]\n",
    "\n",
    "# 2D_SUEP_S1_SUEP_nconst_CL (scouting)\n",
    "# xregions = [0.35j, 0.4j, 0.5j, 1.0j]\n",
    "# yregions = [10.0j, 35j, 60j, 300j]\n",
    "\n",
    "SR, SR_exp, alpha, sigma_alpha = ABCD_9regions_errorProp(abcd, xregions, yregions, sum_var='x')\n",
    "if rebin:\n",
    "    edges = SR.axes[0].edges\n",
    "    SR = rebin_piecewise(SR, new_bins)\n",
    "    SR_exp = rebin_piecewise(SR_exp, new_bins)\n",
    "    \n",
    "print(\"Scaling factor alpha:\", alpha)\n",
    "print(\"Sigma alpha:\", sigma_alpha)\n",
    "\n",
    "nonzero = (SR.values() > 0) | (SR_exp.values() > 0) # don't consider empty bins for KS test\n",
    "ks = scipy.stats.ks_2samp(SR.values()[nonzero], SR_exp.values()[nonzero])\n",
    "\n",
    "fig, axs = plot_ratio([SR, SR_exp], labels=[\"$SR_{obs}$\", \"$SR_{exp}$\"])\n",
    "axs[0].set_title(r\"QCD + $t\\bar{t}$\")\n",
    "#axs[0].set_title(r\"QCD\")\n",
    "_ = axs[0].plot([],[],' ',label='KS p-value: {}'.format(round(ks.pvalue,3)))\n",
    "_ = axs[1].set_ylim(0.5,1.5)\n",
    "_ = axs[0].legend()\n",
    "print(axs[1].lines[0].get_ydata())\n",
    "print(axs[0].lines[0].get_ydata())"
   ]
  },
  {
   "cell_type": "code",
   "execution_count": null,
   "id": "b88af971-987c-48da-9b1c-6f7c1ed55176",
   "metadata": {},
   "outputs": [],
   "source": [
    "plot_label = '2D_SUEP_S1_vs_SUEP_nconst_Cluster70'\n",
    "abcd = plots['QCD_HT_2018'][plot_label]\n",
    "\n",
    "# QCD only\n",
    "SR, SR_exp, _, _ = ABCD_9regions_errorProp(abcd, xregions, yregions, sum_var='x')\n",
    "edges = SR.axes[0].edges\n",
    "SR = rebin_piecewise(SR, new_bins)\n",
    "SR_exp = rebin_piecewise(SR_exp, new_bins)\n",
    "    \n",
    "abcd += plots['TTJets_2018'][plot_label]\n",
    "\n",
    "# combined\n",
    "SRc, SR_expc, _, _ = ABCD_9regions_errorProp(abcd, xregions, yregions, sum_var='x')\n",
    "SRc = rebin_piecewise(SRc, new_bins)\n",
    "SR_expc = rebin_piecewise(SR_expc, new_bins)\n",
    "\n",
    "fig, axs = plot_ratio([SR, SR_exp, SRc, SR_expc], labels=[\"$SR_{obs}$ - QCD\", \"$SR_{exp}$ - QCD\", \n",
    "                                                         r\"$SR_{obs}$ - QCD + $t\\bar{t}$\", r\"$SR_{exp}$ - QCD + $t\\bar{t}$\"])\n",
    "print(axs[1].lines[0].get_ydata())\n",
    "print(axs[1].lines[1].get_ydata())\n",
    "print(axs[1].lines[2].get_ydata())\n",
    "print(axs[1].lines[3].get_ydata())"
   ]
  },
  {
   "cell_type": "code",
   "execution_count": null,
   "id": "ec9b7ea5-bd3e-4a73-ab5b-8d1488b7feff",
   "metadata": {},
   "outputs": [],
   "source": [
    "plot_label = '2D_SUEP_S1_vs_SUEP_nconst_Cluster'\n",
    "samples = ['QCD_HT_2018', 'SUEP-m125-generic', 'SUEP-m125-generic-htcut', 'SUEP-m400-generic', 'SUEP-m750-generic', 'SUEP-m1000-generic']\n",
    "\n",
    "# 2D_SUEP_S1_vs_SUEP_nconst_Cluster\n",
    "# 2D_ISR_S1_vs_ISR_nconst_ClusterInverted\n",
    "xregions = [0.35j, 0.4j, 0.5j, 1.0j]\n",
    "yregions = [10j, 40j, 80j, 300j]\n",
    "\n",
    "hlist = []\n",
    "for sample in samples:\n",
    "    abcd = plots[sample][plot_label]\n",
    "    SR = abcd[xregions[-2]:xregions[-1], yregions[-2]:yregions[-1]]\n",
    "    hlist.append(SR)\n",
    "\n",
    "import uproot \n",
    "# save to root\n",
    "with uproot.recreate('SR_2018.root') as froot:\n",
    "    for l, h in zip(labels, samples):\n",
    "        froot[l] = h"
   ]
  },
  {
   "cell_type": "markdown",
   "id": "a8b3e4c9-1c12-4c2a-97b5-eee9bce276d3",
   "metadata": {},
   "source": [
    "### Residuals"
   ]
  },
  {
   "cell_type": "code",
   "execution_count": null,
   "id": "b0cca8fc-99ed-4cd7-83d5-2e6ee6bcadf9",
   "metadata": {},
   "outputs": [],
   "source": [
    "plot_label = '2D_SUEP_S1_ntracks_IRM'\n",
    "var_label = 'S1'\n",
    "sample1 = 'QCD_HT'\n",
    "sample2 = 'data'\n",
    "\n",
    "abcd = plots[sample1][plot_label]\n",
    "A = abcd[0.35j:0.5j,0j:100j:sum]\n",
    "B = abcd[0.35j:0.5j,100j::sum]\n",
    "C = abcd[0.5j:1.0j,0j:100j:sum]\n",
    "D_exp = C * B.sum().value / A.sum().value\n",
    "\n",
    "abcd2 = plots[sample2][plot_label]\n",
    "A2 = abcd2[0.35j:0.5j,0j:100j:sum]\n",
    "B2 = abcd2[0.35j:0.5j,100j::sum]\n",
    "C2 = abcd2[0.5j:1.0j,0j:100j:sum]\n",
    "D_exp2 = C2 * B2.sum().value / A2.sum().value\n",
    "\n",
    "hists, hists2  = [A,B,C,D_exp], [A2, B2, C2, D_exp2]\n",
    "labels = ['A','B','C','D_exp']\n",
    "avgs, errs = [], []\n",
    "for h1, h2, label in zip(hists, hists2, labels):\n",
    "    \n",
    "    h1 = h1/h1.sum().value\n",
    "    h2 = h1/h2.sum().value\n",
    "    fig, _, res = plot_ratio(h1, h2, var_label, sample1, sample2)\n",
    "    plt.close()\n",
    "    \n",
    "    residuals = res[0]\n",
    "    residual_stddevs = []\n",
    "    for e1, e2 in zip(res[1][0], res[1][1]):\n",
    "        if np.isinf(e1) and np.isinf(e2):\n",
    "            print(\"well well well\")\n",
    "        elif np.isinf(e2):\n",
    "            residual_stddevs.append(e1)\n",
    "        elif np.isinf(e1):\n",
    "            residual_stddevs.append(e1)\n",
    "        else:\n",
    "            residual_stddevs.append(max(e1,e2))\n",
    "    residual_vars = np.array(residual_stddevs)**2\n",
    "    residuals = abs(residuals[~np.isnan(residual_vars)])\n",
    "    residual_vars = residual_vars[~np.isnan(residual_vars)]\n",
    "    \n",
    "    # Using Hist's fancy tools\n",
    "    # wmean.value equivalent to np.sum(residuals/residual_vars) / np.sum(1/residual_vars)\n",
    "    wmean = hist.accumulators.WeightedMean().fill(residuals, weight=1/residual_vars)\n",
    "    \n",
    "    # why is this difference from np.sqrt(wmean.variance)\n",
    "    #test2 = 1/np.sqrt(np.sum(1/residual_vars))\n",
    "    #print(test2, np.sqrt(wmean.variance))\n",
    "    \n",
    "    avgs.append(wmean.value)\n",
    "    errs.append(np.sqrt(wmean.variance))\n",
    "    \n",
    "from IPython.display import display, Latex\n",
    "for i in range(len(labels)):\n",
    "    display(Latex(labels[i] + ' ' + str(round(avgs[i],3)) + '$\\pm$' + str(round(errs[i],3))))"
   ]
  },
  {
   "cell_type": "markdown",
   "id": "1ec821e6-2e3e-40db-a4fb-9a006c8a9762",
   "metadata": {},
   "source": [
    "## Systematics"
   ]
  },
  {
   "cell_type": "code",
   "execution_count": null,
   "id": "cc69adc7-1ff7-4312-bccb-cb447c95787c",
   "metadata": {},
   "outputs": [],
   "source": [
    "plot_label = 'SUEP_nconst_Cluster'\n",
    "sample = 'SUEP-m400-generic'\n",
    "sys = ['', '_JER_up', '_JER_down']\n",
    "labels = ['Nominal', 'JEC JER Up', 'JEC JER Down']\n",
    "\n",
    "hlist = []\n",
    "for s, l in zip(sys, labels):\n",
    "    h = plots[sample][plot_label + s][::10j]\n",
    "    hlist.append(h)\n",
    "fig, axs = plot_ratio(hlist, labels)\n",
    "axs[1].set_ylim(0.9,1.1)"
   ]
  },
  {
   "cell_type": "markdown",
   "id": "667981a7-0316-47c2-9aef-88d5a0baec17",
   "metadata": {},
   "source": [
    "### GNN"
   ]
  },
  {
   "cell_type": "code",
   "execution_count": null,
   "id": "7d70f3cb-52b4-490c-9c9d-eb2a6c094aa3",
   "metadata": {},
   "outputs": [],
   "source": [
    "# parameters\n",
    "plot_label = '2D_ISR_S1_vs_single_l5_bPfcand_S1_SUEPtracks_GNNInverted'\n",
    "sample1 = 'QCD_HT_2018'\n",
    "sample2 = 'QCD_HT_2018'\n",
    "\n",
    "h1 = plots[sample1][plot_label]\n",
    "h2 = plots[sample2][plot_label]\n",
    "\n",
    "h1 = h1[0.0j::sum, 0.0j::20j]\n",
    "h2 = h2[0.0j::sum, 0.0j::20j]\n",
    "\n",
    "fig = plt.figure(figsize=(10, 8))\n",
    "      \n",
    "fig, axs, _ = new_plot_ratio(h1, h2, label1=r'QCD - $H_T$ Binned', label2 = 'Data')\n",
    "axs[0].legend()\n",
    "axs[1].set_ylim(0.5,2.5)\n",
    "#axs[0].set_yscale(\"linear\")"
   ]
  },
  {
   "cell_type": "code",
   "execution_count": null,
   "id": "104d63bb-85b5-4779-a035-1e26522ee6c4",
   "metadata": {},
   "outputs": [],
   "source": [
    "# parameters\n",
    "plot_label = 'single_l5_bPfcand_S1_SUEPtracks_GNN'\n",
    "sample = 'QCD_HT_2018'\n",
    "\n",
    "h1 = plots[sample][plot_label]\n",
    "h2 = plots[sample][plot_label + \"_down_GNN\"]\n",
    "h3 = plots[sample][plot_label + \"_up_GNN\"]\n",
    "\n",
    "\n",
    "fig = plt.figure(figsize=(10, 8))\n",
    "      \n",
    "hep.histplot(h1, label='Nominal')\n",
    "hep.histplot(h2, label=\"GNN Sys. Down\")\n",
    "hep.histplot(h3, label=\"GNN Sys. Up\")\n",
    "\n",
    "plt.legend()\n",
    "plt.yscale(\"log\")"
   ]
  },
  {
   "cell_type": "code",
   "execution_count": null,
   "id": "cfb19f26-951d-4e03-b95d-68530e7e8320",
   "metadata": {},
   "outputs": [],
   "source": [
    "[k for k in plots['QCD_HT_2018'] if 'single' in k]"
   ]
  },
  {
   "cell_type": "markdown",
   "id": "53ab01e8-b1b5-48e7-b2cf-a1a2c2526fa2",
   "metadata": {
    "tags": []
   },
   "source": [
    "## Calculate Yields\n",
    "Integrate histograms to calculate yields.<br>\n",
    "Parameters:<br>\n",
    "`lumi`: _float_, scales MC data.<br>\n",
    "`plot_label`: _str_, which plot you want to integrate."
   ]
  },
  {
   "cell_type": "code",
   "execution_count": null,
   "id": "24f333b0-bdd9-4a6f-bd4c-1106f37fb31b",
   "metadata": {},
   "outputs": [],
   "source": [
    "plot_label = 'single_l5_bPfcand_S1_SUEPtracks_GNN'\n",
    "samples = ['QCD_HT_2018']\n",
    "samples += ['SUEP-m125-generic', 'SUEP-m400-generic',\n",
    "           'SUEP-m750-generic', 'SUEP-m1000-generic']\n",
    "# samples += ['SUEP-m125-darkPho', 'SUEP-m400-darkPho',\n",
    "#            'SUEP-m750-darkPho', 'SUEP-m1000-darkPho']\n",
    "# samples += ['SUEP-m125-darkPhoHad', 'SUEP-m400-darkPhoHad',\n",
    "#            'SUEP-m750-darkPhoHad', 'SUEP-m1000-darkPhoHad']\n",
    "\n",
    "for sample in samples:\n",
    "    h = plots[sample][plot_label]\n",
    "    passing = h[0.5j:].sum().value\n",
    "    total = h.sum().value\n",
    "    print(sample, round(passing/total, 3))"
   ]
  },
  {
   "cell_type": "markdown",
   "id": "4d4285e7-350b-4281-bc4d-50f8b5e5e7ef",
   "metadata": {},
   "source": [
    "## ROC Curve"
   ]
  },
  {
   "cell_type": "code",
   "execution_count": null,
   "id": "25672935-db27-4cac-99c7-858c4ee19599",
   "metadata": {},
   "outputs": [],
   "source": [
    "from sklearn.metrics import roc_curve\n",
    "\n",
    "def roc_from_hists(h_sig, h_bkg, max_value=None, steps=100000):\n",
    "    \n",
    "    TPRs, FPRs = [], []\n",
    "    if max_value is None:\n",
    "        h_sig_max = h_sig.to_numpy()[1][-1]\n",
    "        h_bkg_max = h_bkg.to_numpy()[1][-1]\n",
    "        max_value = max(h_sig_max, h_bkg_max)\n",
    "    for threshold in np.linspace(0, max_value, steps):\n",
    "        TPR = integrate(h_sig, threshold*1j, 10000000j)[0] / h_sig.sum().value\n",
    "        FPR = integrate(h_bkg, threshold*1j, 10000000j)[0] / h_bkg.sum().value\n",
    "        TPRs.append(TPR)\n",
    "        FPRs.append(FPR)\n",
    "\n",
    "    return TPRs, FPRs\n",
    "\n",
    "\n",
    "\"\"\"\n",
    "SUEP-m400-md2-t0.5-generic\n",
    "SUEP-m400-md2-t1-generic\n",
    "SUEP-m400-md2-t2-generic\n",
    "SUEP-m400-md2-t3-generic\n",
    "SUEP-m400-md2-t4-generic\n",
    "SUEP-m400-md3-t1.5-generic\n",
    "SUEP-m400-md3-t3-generic\n",
    "SUEP-m400-md3-t6-generic\n",
    "SUEP-m400-md5-t1-generic\n",
    "SUEP-m400-md5-t10-generic\n",
    "SUEP-m400-md5-t5-generic\n",
    "\"\"\"\n",
    "\n",
    "\n",
    "\n",
    "sample_sig = 'SUEP-m400-md3-t6-generic'\n",
    "sample_bkg = 'QCD_HT_2018'\n",
    "classifiers = ['SUEP_nconst_GNN', 'single_l5_bPfcand_S1_GNN']\n",
    "\n",
    "fig = plt.figure()\n",
    "ax = fig.subplots()\n",
    "\n",
    "for plot in classifiers:\n",
    "    print(plot)\n",
    "    h_bkg = plots[sample_bkg][plot]\n",
    "    h_sig = plots[sample_sig][plot]\n",
    "    TPRs, FPRs = roc_from_hists(h_sig, h_bkg, steps=1000)\n",
    "    TPRs, FPRs = roc_from_hists(h_sig, h_bkg, steps=1000)\n",
    "    ax.plot(FPRs, TPRs, label=plot)\n",
    "    \n",
    "ax.set_xlim(0,1)\n",
    "ax.set_ylim(0,1.0)\n",
    "ax.legend()\n",
    "ax.set_xlabel(\"FPR\")\n",
    "ax.set_ylabel(\"TPR\")"
   ]
  },
  {
   "cell_type": "markdown",
   "id": "320b86cf-5bc2-419f-8e46-6b91648bcd32",
   "metadata": {
    "tags": []
   },
   "source": [
    "## Table\n",
    "\n",
    "Make comparison table by running next cells. The output is meant to be in Latex format.<br>\n",
    "The `stats` nested dictionary stores the number of events and variances in each region for real data and MC data when the plots are made, and is used to make the comparison table. Dimensions: (real or MC) x (plot label) x (value or error on the value)"
   ]
  },
  {
   "cell_type": "code",
   "execution_count": null,
   "id": "35c253b7-8cee-4866-8fd1-bc06c7de1a97",
   "metadata": {},
   "outputs": [],
   "source": [
    "# dimensions: (sample) x (plot label) x (value or error on the value)\n",
    "stats = nested_dict(4,float)\n",
    "selection = 'ch'\n",
    "\n",
    "for plot_label in ['A','B','C','D_exp']:\n",
    "    \n",
    "    plot_label+=\"_\"+selection\n",
    "    \n",
    "    # QCD hist for ABCD region\n",
    "    hdata = plots['data'][plot_label]\n",
    "    hQCD_MC = plots['QCD_MC'][plot_label]\n",
    "        \n",
    "    # fill these up for the table\n",
    "    stats['data'][plot_label][\"value\"] = hdata.sum().value\n",
    "    stats['data'][plot_label][\"err\"] = hdata.sum().variance\n",
    "    stats['QCD_MC'][plot_label][\"value\"] = hQCD_MC.sum().value\n",
    "    stats['QCD_MC'][plot_label][\"err\"] = hQCD_MC.sum().variance"
   ]
  },
  {
   "cell_type": "code",
   "execution_count": null,
   "id": "c21690a8-b9a5-4964-a0ab-1478291227d8",
   "metadata": {},
   "outputs": [],
   "source": [
    "table = []\n",
    "for i in range(len(list(stats.keys()))):\n",
    "    label = list(stats.keys())[i]\n",
    "    line = []\n",
    "    line.append(label)\n",
    "    \n",
    "    for r in ['A_'+selection,'B_'+selection,'C_'+selection,'D_exp_'+selection,'D_obs_'+selection]:\n",
    "        if 'QCD_MC' in label:\n",
    "            line.append(\"{:0.0f} \".format(stats[label][r]['value']) + r'$\\pm$' + \" {:0.0f}\".format(stats[label][r]['err']))\n",
    "        else:\n",
    "            line.append(\"{:0.2f} \".format(stats[label][r]['value']) + r'$\\pm$' + \" {:0.2f}\".format(stats[label][r]['err']))\n",
    "        \n",
    "    if 'QCD_MC' in label:\n",
    "        line.append(round((stats[label]['D_exp_'+selection]['value']-stats[label]['D_obs_'+selection]['value'])/stats[label]['D_exp_'+selection]['value'],2))\n",
    "        line.append(0)\n",
    "    else:\n",
    "        line.append(0)\n",
    "        line.append(stats[label]['D_obs_'+selection]['value']/math.sqrt(stats[label]['D_obs_'+selection]['value']+stats[label]['D_exp_'+selection]['value']+stats[label]['D_obs_'+selection]['err']+stats['QCD_MC']['D_exp_'+selection]['err']))\n",
    "    table.append(line)                                                         "
   ]
  },
  {
   "cell_type": "code",
   "execution_count": null,
   "id": "c16f2f24-18ed-41ce-a995-a77abfac9818",
   "metadata": {},
   "outputs": [],
   "source": [
    "t = tabulate(table,tablefmt ='latex',\n",
    "               headers=['Process', 'A', 'B', 'C', 'D_{exp}', 'D_{obs}', 'D_{exp}-D_{obs}/D_{exp}', 'S/$\\sqrt(S+B+\\sigma_{S}+\\sigma_{B}$)'])\n",
    "with open('table.txt', 'w') as f:\n",
    "    f.write(t)\n",
    "t"
   ]
  },
  {
   "cell_type": "code",
   "execution_count": null,
   "id": "bb6f908c-e6fb-4c68-a042-29cc01b17a66",
   "metadata": {},
   "outputs": [],
   "source": [
    "def convert2LatexString(s):\n",
    "    r = r'(\\^\\{\\})'; s = re.sub(r, \"^\", s)\n",
    "    s = re.sub(r'\\\\([\\$\\_\\{\\}\\^])', r'\\1', s)\n",
    "    s = re.sub(r'(\\\\textbackslash{})', r'\\\\', s)\n",
    "    return s\n",
    "\n",
    "t = convert2LatexString(t)\n",
    "with open('table.txt', 'w') as f:\n",
    "    f.write(t)\n",
    "t"
   ]
  },
  {
   "cell_type": "code",
   "execution_count": null,
   "id": "8ba5dea0-f996-48a3-b418-71f1d8ed6be3",
   "metadata": {},
   "outputs": [],
   "source": [
    "isr2d = plots['QCD_HT_2018']['2D_ISR_S1_vs_ISR_nconst_ClusterInverted']\n",
    "suep2d = plots['QCD_HT_2018']['2D_SUEP_S1_vs_SUEP_nconst_Cluster']"
   ]
  },
  {
   "cell_type": "code",
   "execution_count": null,
   "id": "c9edf4a2-1da0-4974-945e-465246f47219",
   "metadata": {},
   "outputs": [],
   "source": [
    "slices = []\n",
    "for ybin in range(isr2d.shape[1] - 1):\n",
    "    isr_slice = isr2d[:,ybin:ybin+1:sum]\n",
    "    suep_slice = suep2d[:,ybin:ybin+1:sum]\n",
    "    if isr_slice.sum().value == 0: continue\n",
    "    ratio = suep_slice.sum().value/isr_slice.sum().value\n",
    "    \n",
    "    slices.append(isr_slice.view().value * ratio)"
   ]
  },
  {
   "cell_type": "code",
   "execution_count": null,
   "id": "9c3f6800-4ebc-4828-bfe3-7bc467c3d98d",
   "metadata": {},
   "outputs": [],
   "source": [
    "hISR_S1 = Hist.new.Reg(100, 0, 1.0, name=\"ISR_S1\", label='$Sph_1$').Weight()"
   ]
  },
  {
   "cell_type": "code",
   "execution_count": null,
   "id": "19fff4cf-e107-43e8-b73f-2e9e61961e23",
   "metadata": {},
   "outputs": [],
   "source": [
    "for s in slices: hISR_S1.view().value += s"
   ]
  },
  {
   "cell_type": "code",
   "execution_count": null,
   "id": "4ee1121a-3e2c-4cea-84d2-93a010be206e",
   "metadata": {},
   "outputs": [],
   "source": [
    "fig = plt.figure(figsize=(10, 8))\n",
    "_ = hISR_S1.plot_ratio(suep2d[:,::sum],\n",
    "                      rp_num_label='ISR',\n",
    "                      rp_denom_label='SUEP')\n",
    "fig.axes[0].set_yscale(\"log\")\n",
    "_ = fig.axes[0].legend()\n",
    "_ = fig.axes[1].set_ylim(0.8,1.2)"
   ]
  },
  {
   "cell_type": "code",
   "execution_count": null,
   "id": "c57c2996-d8da-4c0e-8212-61f1c007826c",
   "metadata": {},
   "outputs": [],
   "source": []
  }
 ],
 "metadata": {
  "kernelspec": {
   "display_name": "suep",
   "language": "python",
   "name": "suep"
  },
  "language_info": {
   "codemirror_mode": {
    "name": "ipython",
    "version": 3
   },
   "file_extension": ".py",
   "mimetype": "text/x-python",
   "name": "python",
   "nbconvert_exporter": "python",
   "pygments_lexer": "ipython3",
   "version": "3.9.15"
  },
  "toc-autonumbering": false,
  "toc-showmarkdowntxt": false,
  "toc-showtags": false
 },
 "nbformat": 4,
 "nbformat_minor": 5
}
