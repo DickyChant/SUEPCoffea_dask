{
 "cells": [
  {
   "cell_type": "markdown",
   "id": "26c7f632",
   "metadata": {},
   "source": [
    "## Check HDF5 File\n",
    "Utility notebook used when make_plots.py isn't working as expected.<br>\n",
    "Open an HDF5 output of workflows/SUEP_coffea.py and check out its contents."
   ]
  },
  {
   "cell_type": "code",
   "execution_count": 1,
   "id": "8db74d48",
   "metadata": {},
   "outputs": [],
   "source": [
    "import pandas as pd\n",
    "import matplotlib.pyplot as plt\n",
    "import numpy as np"
   ]
  },
  {
   "cell_type": "code",
   "execution_count": 2,
   "id": "b1db9d32",
   "metadata": {},
   "outputs": [],
   "source": [
    "def h5load(ifile, label):\n",
    "    with pd.HDFStore(ifile, 'r') as store:\n",
    "        data = store[label] \n",
    "        metadata = store.get_storer(label).attrs.metadata\n",
    "        return data, metadata"
   ]
  },
  {
   "cell_type": "code",
   "execution_count": 6,
   "id": "7f91befb-2ae7-489d-8267-9ac949b3775c",
   "metadata": {},
   "outputs": [],
   "source": [
    "f = '../out.hdf5'\n",
    "event_vars, m = h5load(f,'vars')"
   ]
  },
  {
   "cell_type": "code",
   "execution_count": 7,
   "id": "3b607264-da52-43a4-97c4-b3653515e3da",
   "metadata": {},
   "outputs": [
    {
     "data": {
      "text/html": [
       "<div>\n",
       "<style scoped>\n",
       "    .dataframe tbody tr th:only-of-type {\n",
       "        vertical-align: middle;\n",
       "    }\n",
       "\n",
       "    .dataframe tbody tr th {\n",
       "        vertical-align: top;\n",
       "    }\n",
       "\n",
       "    .dataframe thead th {\n",
       "        text-align: right;\n",
       "    }\n",
       "</style>\n",
       "<table border=\"1\" class=\"dataframe\">\n",
       "  <thead>\n",
       "    <tr style=\"text-align: right;\">\n",
       "      <th></th>\n",
       "      <th>ntracks_track_down</th>\n",
       "      <th>ngood_fastjets_track_down</th>\n",
       "      <th>SUEP_genMass_track_down</th>\n",
       "      <th>SUEP_genPt_track_down</th>\n",
       "      <th>SUEP_nconst_CL_track_down</th>\n",
       "      <th>SUEP_pt_avg_b_CL_track_down</th>\n",
       "      <th>SUEP_S1_CL_track_down</th>\n",
       "      <th>SUEP_pt_avg_CL_track_down</th>\n",
       "      <th>SUEP_pt_CL_track_down</th>\n",
       "      <th>SUEP_eta_CL_track_down</th>\n",
       "      <th>...</th>\n",
       "      <th>SUEP_delta_mass_genMass_CL</th>\n",
       "      <th>SUEP_delta_pt_genPt_CL</th>\n",
       "      <th>ISR_nconst_CL</th>\n",
       "      <th>ISR_pt_avg_b_CL</th>\n",
       "      <th>ISR_S1_CL</th>\n",
       "      <th>ISR_pt_avg_CL</th>\n",
       "      <th>ISR_pt_CL</th>\n",
       "      <th>ISR_eta_CL</th>\n",
       "      <th>ISR_phi_CL</th>\n",
       "      <th>ISR_mass_CL</th>\n",
       "    </tr>\n",
       "  </thead>\n",
       "  <tbody>\n",
       "    <tr>\n",
       "      <th>0</th>\n",
       "      <td>291</td>\n",
       "      <td>2</td>\n",
       "      <td>708.0</td>\n",
       "      <td>390.0</td>\n",
       "      <td>165.0</td>\n",
       "      <td>1.225350</td>\n",
       "      <td>0.811300</td>\n",
       "      <td>2.215658</td>\n",
       "      <td>306.934283</td>\n",
       "      <td>0.302770</td>\n",
       "      <td>...</td>\n",
       "      <td>-429.841741</td>\n",
       "      <td>-73.612811</td>\n",
       "      <td>90.0</td>\n",
       "      <td>2.389244</td>\n",
       "      <td>0.465007</td>\n",
       "      <td>4.259505</td>\n",
       "      <td>318.542623</td>\n",
       "      <td>0.377796</td>\n",
       "      <td>-3.041095</td>\n",
       "      <td>233.331590</td>\n",
       "    </tr>\n",
       "    <tr>\n",
       "      <th>1</th>\n",
       "      <td>242</td>\n",
       "      <td>2</td>\n",
       "      <td>948.0</td>\n",
       "      <td>334.0</td>\n",
       "      <td>136.0</td>\n",
       "      <td>1.673468</td>\n",
       "      <td>0.580739</td>\n",
       "      <td>2.735021</td>\n",
       "      <td>293.557033</td>\n",
       "      <td>-1.203553</td>\n",
       "      <td>...</td>\n",
       "      <td>-607.503212</td>\n",
       "      <td>-37.045274</td>\n",
       "      <td>67.0</td>\n",
       "      <td>2.214670</td>\n",
       "      <td>0.537998</td>\n",
       "      <td>5.345236</td>\n",
       "      <td>334.366842</td>\n",
       "      <td>-0.698152</td>\n",
       "      <td>0.686149</td>\n",
       "      <td>170.983745</td>\n",
       "    </tr>\n",
       "    <tr>\n",
       "      <th>2</th>\n",
       "      <td>296</td>\n",
       "      <td>2</td>\n",
       "      <td>798.0</td>\n",
       "      <td>600.0</td>\n",
       "      <td>199.0</td>\n",
       "      <td>1.130493</td>\n",
       "      <td>0.791406</td>\n",
       "      <td>2.181042</td>\n",
       "      <td>370.470588</td>\n",
       "      <td>0.824667</td>\n",
       "      <td>...</td>\n",
       "      <td>-482.739736</td>\n",
       "      <td>-224.260948</td>\n",
       "      <td>48.0</td>\n",
       "      <td>2.756537</td>\n",
       "      <td>0.338916</td>\n",
       "      <td>7.060567</td>\n",
       "      <td>310.764769</td>\n",
       "      <td>-0.689116</td>\n",
       "      <td>2.966043</td>\n",
       "      <td>169.907086</td>\n",
       "    </tr>\n",
       "    <tr>\n",
       "      <th>3</th>\n",
       "      <td>322</td>\n",
       "      <td>2</td>\n",
       "      <td>872.0</td>\n",
       "      <td>678.0</td>\n",
       "      <td>208.0</td>\n",
       "      <td>1.207714</td>\n",
       "      <td>0.850189</td>\n",
       "      <td>2.111251</td>\n",
       "      <td>361.332391</td>\n",
       "      <td>0.958346</td>\n",
       "      <td>...</td>\n",
       "      <td>-525.915289</td>\n",
       "      <td>-311.912500</td>\n",
       "      <td>61.0</td>\n",
       "      <td>2.834885</td>\n",
       "      <td>0.468744</td>\n",
       "      <td>7.193567</td>\n",
       "      <td>413.565385</td>\n",
       "      <td>0.009840</td>\n",
       "      <td>-2.658283</td>\n",
       "      <td>186.630884</td>\n",
       "    </tr>\n",
       "    <tr>\n",
       "      <th>4</th>\n",
       "      <td>13</td>\n",
       "      <td>1</td>\n",
       "      <td>1420.0</td>\n",
       "      <td>520.0</td>\n",
       "      <td>NaN</td>\n",
       "      <td>NaN</td>\n",
       "      <td>NaN</td>\n",
       "      <td>NaN</td>\n",
       "      <td>NaN</td>\n",
       "      <td>NaN</td>\n",
       "      <td>...</td>\n",
       "      <td>NaN</td>\n",
       "      <td>NaN</td>\n",
       "      <td>NaN</td>\n",
       "      <td>NaN</td>\n",
       "      <td>NaN</td>\n",
       "      <td>NaN</td>\n",
       "      <td>NaN</td>\n",
       "      <td>NaN</td>\n",
       "      <td>NaN</td>\n",
       "      <td>NaN</td>\n",
       "    </tr>\n",
       "    <tr>\n",
       "      <th>5</th>\n",
       "      <td>434</td>\n",
       "      <td>3</td>\n",
       "      <td>908.0</td>\n",
       "      <td>784.0</td>\n",
       "      <td>253.0</td>\n",
       "      <td>1.878329</td>\n",
       "      <td>0.531204</td>\n",
       "      <td>2.657607</td>\n",
       "      <td>462.298498</td>\n",
       "      <td>-0.560779</td>\n",
       "      <td>...</td>\n",
       "      <td>-221.957094</td>\n",
       "      <td>-301.714467</td>\n",
       "      <td>62.0</td>\n",
       "      <td>2.135028</td>\n",
       "      <td>0.400178</td>\n",
       "      <td>5.020130</td>\n",
       "      <td>285.015972</td>\n",
       "      <td>1.706138</td>\n",
       "      <td>-0.676484</td>\n",
       "      <td>211.484999</td>\n",
       "    </tr>\n",
       "    <tr>\n",
       "      <th>6</th>\n",
       "      <td>348</td>\n",
       "      <td>3</td>\n",
       "      <td>650.0</td>\n",
       "      <td>694.0</td>\n",
       "      <td>235.0</td>\n",
       "      <td>1.385431</td>\n",
       "      <td>0.850140</td>\n",
       "      <td>2.727751</td>\n",
       "      <td>562.127368</td>\n",
       "      <td>-1.240927</td>\n",
       "      <td>...</td>\n",
       "      <td>-239.771983</td>\n",
       "      <td>-121.401101</td>\n",
       "      <td>45.0</td>\n",
       "      <td>5.990077</td>\n",
       "      <td>0.171382</td>\n",
       "      <td>12.667372</td>\n",
       "      <td>504.882186</td>\n",
       "      <td>0.109833</td>\n",
       "      <td>-1.456395</td>\n",
       "      <td>299.777127</td>\n",
       "    </tr>\n",
       "    <tr>\n",
       "      <th>7</th>\n",
       "      <td>493</td>\n",
       "      <td>2</td>\n",
       "      <td>364.0</td>\n",
       "      <td>1264.0</td>\n",
       "      <td>471.0</td>\n",
       "      <td>1.089929</td>\n",
       "      <td>0.885986</td>\n",
       "      <td>8.034591</td>\n",
       "      <td>3749.427860</td>\n",
       "      <td>-0.520642</td>\n",
       "      <td>...</td>\n",
       "      <td>363.520565</td>\n",
       "      <td>2508.830167</td>\n",
       "      <td>15.0</td>\n",
       "      <td>1.908887</td>\n",
       "      <td>0.395928</td>\n",
       "      <td>50.327273</td>\n",
       "      <td>754.383459</td>\n",
       "      <td>0.425889</td>\n",
       "      <td>-2.118094</td>\n",
       "      <td>30.035567</td>\n",
       "    </tr>\n",
       "  </tbody>\n",
       "</table>\n",
       "<p>8 rows × 59 columns</p>\n",
       "</div>"
      ],
      "text/plain": [
       "   ntracks_track_down  ngood_fastjets_track_down  SUEP_genMass_track_down  \\\n",
       "0                 291                          2                    708.0   \n",
       "1                 242                          2                    948.0   \n",
       "2                 296                          2                    798.0   \n",
       "3                 322                          2                    872.0   \n",
       "4                  13                          1                   1420.0   \n",
       "5                 434                          3                    908.0   \n",
       "6                 348                          3                    650.0   \n",
       "7                 493                          2                    364.0   \n",
       "\n",
       "   SUEP_genPt_track_down  SUEP_nconst_CL_track_down  \\\n",
       "0                  390.0                      165.0   \n",
       "1                  334.0                      136.0   \n",
       "2                  600.0                      199.0   \n",
       "3                  678.0                      208.0   \n",
       "4                  520.0                        NaN   \n",
       "5                  784.0                      253.0   \n",
       "6                  694.0                      235.0   \n",
       "7                 1264.0                      471.0   \n",
       "\n",
       "   SUEP_pt_avg_b_CL_track_down  SUEP_S1_CL_track_down  \\\n",
       "0                     1.225350               0.811300   \n",
       "1                     1.673468               0.580739   \n",
       "2                     1.130493               0.791406   \n",
       "3                     1.207714               0.850189   \n",
       "4                          NaN                    NaN   \n",
       "5                     1.878329               0.531204   \n",
       "6                     1.385431               0.850140   \n",
       "7                     1.089929               0.885986   \n",
       "\n",
       "   SUEP_pt_avg_CL_track_down  SUEP_pt_CL_track_down  SUEP_eta_CL_track_down  \\\n",
       "0                   2.215658             306.934283                0.302770   \n",
       "1                   2.735021             293.557033               -1.203553   \n",
       "2                   2.181042             370.470588                0.824667   \n",
       "3                   2.111251             361.332391                0.958346   \n",
       "4                        NaN                    NaN                     NaN   \n",
       "5                   2.657607             462.298498               -0.560779   \n",
       "6                   2.727751             562.127368               -1.240927   \n",
       "7                   8.034591            3749.427860               -0.520642   \n",
       "\n",
       "   ...  SUEP_delta_mass_genMass_CL  SUEP_delta_pt_genPt_CL  ISR_nconst_CL  \\\n",
       "0  ...                 -429.841741              -73.612811           90.0   \n",
       "1  ...                 -607.503212              -37.045274           67.0   \n",
       "2  ...                 -482.739736             -224.260948           48.0   \n",
       "3  ...                 -525.915289             -311.912500           61.0   \n",
       "4  ...                         NaN                     NaN            NaN   \n",
       "5  ...                 -221.957094             -301.714467           62.0   \n",
       "6  ...                 -239.771983             -121.401101           45.0   \n",
       "7  ...                  363.520565             2508.830167           15.0   \n",
       "\n",
       "   ISR_pt_avg_b_CL  ISR_S1_CL  ISR_pt_avg_CL   ISR_pt_CL  ISR_eta_CL  \\\n",
       "0         2.389244   0.465007       4.259505  318.542623    0.377796   \n",
       "1         2.214670   0.537998       5.345236  334.366842   -0.698152   \n",
       "2         2.756537   0.338916       7.060567  310.764769   -0.689116   \n",
       "3         2.834885   0.468744       7.193567  413.565385    0.009840   \n",
       "4              NaN        NaN            NaN         NaN         NaN   \n",
       "5         2.135028   0.400178       5.020130  285.015972    1.706138   \n",
       "6         5.990077   0.171382      12.667372  504.882186    0.109833   \n",
       "7         1.908887   0.395928      50.327273  754.383459    0.425889   \n",
       "\n",
       "   ISR_phi_CL  ISR_mass_CL  \n",
       "0   -3.041095   233.331590  \n",
       "1    0.686149   170.983745  \n",
       "2    2.966043   169.907086  \n",
       "3   -2.658283   186.630884  \n",
       "4         NaN          NaN  \n",
       "5   -0.676484   211.484999  \n",
       "6   -1.456395   299.777127  \n",
       "7   -2.118094    30.035567  \n",
       "\n",
       "[8 rows x 59 columns]"
      ]
     },
     "execution_count": 7,
     "metadata": {},
     "output_type": "execute_result"
    }
   ],
   "source": [
    "event_vars"
   ]
  },
  {
   "cell_type": "code",
   "execution_count": 8,
   "id": "13b1321c-4427-47f8-a861-3ce5603ba100",
   "metadata": {},
   "outputs": [
    {
     "name": "stdout",
     "output_type": "stream",
     "text": [
      "PSWeight_ISR_up\n",
      "PSWeight_ISR_down\n",
      "PSWeight_FSR_up\n",
      "PSWeight_FSR_down\n"
     ]
    }
   ],
   "source": [
    "for key in event_vars:\n",
    "    if \"PS\" not in key: continue\n",
    "    print(key)"
   ]
  },
  {
   "cell_type": "code",
   "execution_count": 8,
   "id": "bf447ba6",
   "metadata": {},
   "outputs": [
    {
     "data": {
      "text/plain": [
       "0    0.999991\n",
       "1    1.000000\n",
       "2    0.999988\n",
       "3    0.999999\n",
       "4    1.000000\n",
       "Name: resnet_SUEP_pred_model126, dtype: float32"
      ]
     },
     "execution_count": 8,
     "metadata": {},
     "output_type": "execute_result"
    }
   ],
   "source": [
    "event_vars['resnet_SUEP_pred_model126']"
   ]
  },
  {
   "cell_type": "code",
   "execution_count": 33,
   "id": "433a1629",
   "metadata": {},
   "outputs": [],
   "source": [
    "jets = event_vars['ngood_fastjets']\n",
    "htloose = event_vars['ht_loose']\n",
    "httight = event_vars['ht_tight']"
   ]
  },
  {
   "cell_type": "code",
   "execution_count": 34,
   "id": "a13db0d9",
   "metadata": {},
   "outputs": [
    {
     "data": {
      "text/plain": [
       "(array([1.4600e+02, 0.0000e+00, 4.4440e+03, 0.0000e+00, 3.6554e+04,\n",
       "        0.0000e+00, 2.6530e+03, 0.0000e+00, 7.7000e+01, 2.0000e+00]),\n",
       " array([0. , 0.5, 1. , 1.5, 2. , 2.5, 3. , 3.5, 4. , 4.5, 5. ]),\n",
       " <BarContainer object of 10 artists>)"
      ]
     },
     "execution_count": 34,
     "metadata": {},
     "output_type": "execute_result"
    },
    {
     "data": {
      "image/png": "[encoded data removed]",
      "text/plain": [
       "<Figure size 432x288 with 1 Axes>"
      ]
     },
     "metadata": {
      "needs_background": "light"
     },
     "output_type": "display_data"
    }
   ],
   "source": [
    "plt.hist(jets)"
   ]
  },
  {
   "cell_type": "code",
   "execution_count": 35,
   "id": "21bb4aa6",
   "metadata": {},
   "outputs": [
    {
     "name": "stdout",
     "output_type": "stream",
     "text": [
      "64909205.15625\n",
      "64774388.28125\n"
     ]
    },
    {
     "data": {
      "image/png": "[encoded data removed]",
      "text/plain": [
       "<Figure size 432x288 with 1 Axes>"
      ]
     },
     "metadata": {
      "needs_background": "light"
     },
     "output_type": "display_data"
    }
   ],
   "source": [
    "plt.hist(htloose, bins=np.linspace(0,5000,100),  histtype='step', label='loose')\n",
    "plt.hist(httight, bins=np.linspace(0,5000,100), histtype='step', label='tight')\n",
    "plt.yscale('log')\n",
    "plt.legend()\n",
    "print(np.sum(htloose))\n",
    "print(np.sum(httight))"
   ]
  },
  {
   "cell_type": "code",
   "execution_count": null,
   "id": "0733b1fd",
   "metadata": {},
   "outputs": [],
   "source": []
  }
 ],
 "metadata": {
  "kernelspec": {
   "display_name": "dask",
   "language": "python",
   "name": "dask"
  },
  "language_info": {
   "codemirror_mode": {
    "name": "ipython",
    "version": 3
   },
   "file_extension": ".py",
   "mimetype": "text/x-python",
   "name": "python",
   "nbconvert_exporter": "python",
   "pygments_lexer": "ipython3",
   "version": "3.9.13"
  }
 },
 "nbformat": 4,
 "nbformat_minor": 5
}
