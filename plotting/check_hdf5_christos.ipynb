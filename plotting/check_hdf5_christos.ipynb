{
 "cells": [
  {
   "cell_type": "markdown",
   "id": "26c7f632",
   "metadata": {},
   "source": [
    "## Check HDF5 File\n",
    "Utility notebook used when make_plots.py isn't working as expected.<br>\n",
    "Open an HDF5 output of workflows/SUEP_coffea.py and check out its contents."
   ]
  },
  {
   "cell_type": "code",
   "execution_count": 10,
   "id": "8db74d48",
   "metadata": {},
   "outputs": [],
   "source": [
    "import pandas as pd\n",
    "import matplotlib.pyplot as plt\n",
    "import hist\n",
    "import mplhep as hep\n",
    "import numpy as np"
   ]
  },
  {
   "cell_type": "code",
   "execution_count": 11,
   "id": "e7040571",
   "metadata": {},
   "outputs": [],
   "source": [
    "plt.style.use(hep.style.CMS)"
   ]
  },
  {
   "cell_type": "code",
   "execution_count": 12,
   "id": "b1db9d32",
   "metadata": {},
   "outputs": [],
   "source": [
    "def h5load(ifile, label):\n",
    "    with pd.HDFStore(ifile, 'r') as store:\n",
    "        data = store[label] \n",
    "        metadata = store.get_storer(label).attrs.metadata\n",
    "        return data, metadata"
   ]
  },
  {
   "cell_type": "code",
   "execution_count": 15,
   "id": "7f91befb-2ae7-489d-8267-9ac949b3775c",
   "metadata": {},
   "outputs": [],
   "source": [
    "f = '../condor_test_dataset.hdf5'\n",
    "f_old = '../condor_test_dataset_old.hdf5'\n",
    "event_vars, m = h5load(f,'vars')\n",
    "event_vars_old, m_old = h5load(f_old,'vars')"
   ]
  },
  {
   "cell_type": "code",
   "execution_count": 16,
   "id": "3b607264-da52-43a4-97c4-b3653515e3da",
   "metadata": {},
   "outputs": [
    {
     "data": {
      "text/html": [
       "<div>\n",
       "<style scoped>\n",
       "    .dataframe tbody tr th:only-of-type {\n",
       "        vertical-align: middle;\n",
       "    }\n",
       "\n",
       "    .dataframe tbody tr th {\n",
       "        vertical-align: top;\n",
       "    }\n",
       "\n",
       "    .dataframe thead th {\n",
       "        text-align: right;\n",
       "    }\n",
       "</style>\n",
       "<table border=\"1\" class=\"dataframe\">\n",
       "  <thead>\n",
       "    <tr style=\"text-align: right;\">\n",
       "      <th></th>\n",
       "      <th>ntracks</th>\n",
       "      <th>ngood_fastjets</th>\n",
       "      <th>ht</th>\n",
       "      <th>HLT_PFHT1050</th>\n",
       "      <th>ngood_ak4jets</th>\n",
       "      <th>Pileup_nTrueInt</th>\n",
       "      <th>PV_npvs</th>\n",
       "      <th>PV_npvsGood</th>\n",
       "    </tr>\n",
       "  </thead>\n",
       "  <tbody>\n",
       "    <tr>\n",
       "      <th>0</th>\n",
       "      <td>139</td>\n",
       "      <td>2</td>\n",
       "      <td>7126.031250</td>\n",
       "      <td>True</td>\n",
       "      <td>5</td>\n",
       "      <td>41.0</td>\n",
       "      <td>28</td>\n",
       "      <td>26</td>\n",
       "    </tr>\n",
       "    <tr>\n",
       "      <th>1</th>\n",
       "      <td>84</td>\n",
       "      <td>2</td>\n",
       "      <td>6963.125000</td>\n",
       "      <td>True</td>\n",
       "      <td>3</td>\n",
       "      <td>32.0</td>\n",
       "      <td>30</td>\n",
       "      <td>25</td>\n",
       "    </tr>\n",
       "    <tr>\n",
       "      <th>2</th>\n",
       "      <td>15</td>\n",
       "      <td>2</td>\n",
       "      <td>5897.781250</td>\n",
       "      <td>True</td>\n",
       "      <td>4</td>\n",
       "      <td>33.0</td>\n",
       "      <td>23</td>\n",
       "      <td>21</td>\n",
       "    </tr>\n",
       "    <tr>\n",
       "      <th>3</th>\n",
       "      <td>98</td>\n",
       "      <td>2</td>\n",
       "      <td>6773.859375</td>\n",
       "      <td>True</td>\n",
       "      <td>4</td>\n",
       "      <td>36.0</td>\n",
       "      <td>28</td>\n",
       "      <td>23</td>\n",
       "    </tr>\n",
       "    <tr>\n",
       "      <th>4</th>\n",
       "      <td>134</td>\n",
       "      <td>2</td>\n",
       "      <td>6682.468750</td>\n",
       "      <td>True</td>\n",
       "      <td>6</td>\n",
       "      <td>29.0</td>\n",
       "      <td>18</td>\n",
       "      <td>17</td>\n",
       "    </tr>\n",
       "    <tr>\n",
       "      <th>...</th>\n",
       "      <td>...</td>\n",
       "      <td>...</td>\n",
       "      <td>...</td>\n",
       "      <td>...</td>\n",
       "      <td>...</td>\n",
       "      <td>...</td>\n",
       "      <td>...</td>\n",
       "      <td>...</td>\n",
       "    </tr>\n",
       "    <tr>\n",
       "      <th>93</th>\n",
       "      <td>100</td>\n",
       "      <td>2</td>\n",
       "      <td>8807.312500</td>\n",
       "      <td>True</td>\n",
       "      <td>3</td>\n",
       "      <td>36.0</td>\n",
       "      <td>29</td>\n",
       "      <td>27</td>\n",
       "    </tr>\n",
       "    <tr>\n",
       "      <th>94</th>\n",
       "      <td>163</td>\n",
       "      <td>2</td>\n",
       "      <td>6790.093750</td>\n",
       "      <td>True</td>\n",
       "      <td>7</td>\n",
       "      <td>46.0</td>\n",
       "      <td>40</td>\n",
       "      <td>37</td>\n",
       "    </tr>\n",
       "    <tr>\n",
       "      <th>95</th>\n",
       "      <td>153</td>\n",
       "      <td>2</td>\n",
       "      <td>7251.937500</td>\n",
       "      <td>True</td>\n",
       "      <td>9</td>\n",
       "      <td>19.0</td>\n",
       "      <td>12</td>\n",
       "      <td>9</td>\n",
       "    </tr>\n",
       "    <tr>\n",
       "      <th>96</th>\n",
       "      <td>133</td>\n",
       "      <td>2</td>\n",
       "      <td>6880.156250</td>\n",
       "      <td>True</td>\n",
       "      <td>4</td>\n",
       "      <td>24.0</td>\n",
       "      <td>22</td>\n",
       "      <td>21</td>\n",
       "    </tr>\n",
       "    <tr>\n",
       "      <th>97</th>\n",
       "      <td>231</td>\n",
       "      <td>3</td>\n",
       "      <td>7207.906250</td>\n",
       "      <td>True</td>\n",
       "      <td>11</td>\n",
       "      <td>23.0</td>\n",
       "      <td>26</td>\n",
       "      <td>23</td>\n",
       "    </tr>\n",
       "  </tbody>\n",
       "</table>\n",
       "<p>390 rows × 8 columns</p>\n",
       "</div>"
      ],
      "text/plain": [
       "    ntracks  ngood_fastjets           ht  HLT_PFHT1050  ngood_ak4jets   \n",
       "0       139               2  7126.031250          True              5  \\\n",
       "1        84               2  6963.125000          True              3   \n",
       "2        15               2  5897.781250          True              4   \n",
       "3        98               2  6773.859375          True              4   \n",
       "4       134               2  6682.468750          True              6   \n",
       "..      ...             ...          ...           ...            ...   \n",
       "93      100               2  8807.312500          True              3   \n",
       "94      163               2  6790.093750          True              7   \n",
       "95      153               2  7251.937500          True              9   \n",
       "96      133               2  6880.156250          True              4   \n",
       "97      231               3  7207.906250          True             11   \n",
       "\n",
       "    Pileup_nTrueInt  PV_npvs  PV_npvsGood  \n",
       "0              41.0       28           26  \n",
       "1              32.0       30           25  \n",
       "2              33.0       23           21  \n",
       "3              36.0       28           23  \n",
       "4              29.0       18           17  \n",
       "..              ...      ...          ...  \n",
       "93             36.0       29           27  \n",
       "94             46.0       40           37  \n",
       "95             19.0       12            9  \n",
       "96             24.0       22           21  \n",
       "97             23.0       26           23  \n",
       "\n",
       "[390 rows x 8 columns]"
      ]
     },
     "execution_count": 16,
     "metadata": {},
     "output_type": "execute_result"
    }
   ],
   "source": [
    "event_vars"
   ]
  },
  {
   "cell_type": "code",
   "execution_count": 18,
   "id": "8d4ac712",
   "metadata": {},
   "outputs": [
    {
     "data": {
      "text/plain": [
       "Index(['ntracks', 'ngood_fastjets', 'ht', 'HLT_PFHT1050', 'ngood_ak4jets',\n",
       "       'Pileup_nTrueInt', 'PV_npvs', 'PV_npvsGood'],\n",
       "      dtype='object')"
      ]
     },
     "execution_count": 18,
     "metadata": {},
     "output_type": "execute_result"
    }
   ],
   "source": [
    "event_vars_old.columns"
   ]
  },
  {
   "cell_type": "code",
   "execution_count": 27,
   "id": "1cdbc496",
   "metadata": {},
   "outputs": [
    {
     "data": {
      "text/plain": [
       "<matplotlib.legend.Legend at 0x11f8c1d20>"
      ]
     },
     "execution_count": 27,
     "metadata": {},
     "output_type": "execute_result"
    },
    {
     "data": {
      "image/png": "[encoded data removed]",
      "text/plain": [
       "<Figure size 1000x1000 with 1 Axes>"
      ]
     },
     "metadata": {},
     "output_type": "display_data"
    }
   ],
   "source": [
    "plt.hist(event_vars['ngood_fastjets'].to_numpy(), bins=5, range=(0,5), histtype='step', label='new')\n",
    "plt.hist(event_vars_old['ngood_fastjets'].to_numpy(), bins=5, range=(0,5), histtype='step', label='old')\n",
    "plt.xlabel('n_good_fastjets')\n",
    "plt.legend()"
   ]
  },
  {
   "cell_type": "code",
   "execution_count": 7,
   "id": "13b1321c-4427-47f8-a861-3ce5603ba100",
   "metadata": {},
   "outputs": [
    {
     "name": "stdout",
     "output_type": "stream",
     "text": [
      "nMuons\n",
      "nMuons_highPurity\n",
      "nMuons_isPFcand\n",
      "nMuons_looseId\n",
      "nMuons_mediumId\n",
      "nMuons_tightId\n",
      "nMuons_triggerIdLoose\n",
      "nMuons_isTracker\n",
      "nMuons_category1\n",
      "nMuons_category2\n",
      "nMuons_category3\n",
      "muon_pt_mean\n",
      "muon_dxy_mean\n",
      "muon_dz_mean\n",
      "muon_ip3d_mean\n",
      "muon_pt_leading\n",
      "muon_pt_subleading\n",
      "muon_miniPFRelIso_all_leading\n",
      "muon_miniPFRelIso_all_subleading\n",
      "muon_miniPFRelIso_all_mean\n",
      "muon_l_sl_deltaphi\n",
      "muon_l_sl_deltaeta\n",
      "muon_l_sl_deltaR\n",
      "muon_S1\n",
      "muon_interIsolation_leading\n",
      "muon_interIsolation_subleading\n",
      "muon_interIsolation_subsubleading\n",
      "nMuons_eta_ring\n"
     ]
    }
   ],
   "source": [
    "for key in event_vars:\n",
    "    if \"Muon\" in key or \"muon\" in key:\n",
    "        print(key)"
   ]
  },
  {
   "cell_type": "code",
   "execution_count": 54,
   "id": "31f70e94",
   "metadata": {},
   "outputs": [
    {
     "data": {
      "text/html": [
       "<html>\n",
       "<div style=\"display:flex; align-items:center;\">\n",
       "<div style=\"width:290px;\">\n",
       "<svg xmlns=\"http://www.w3.org/2000/svg\" viewBox=\"-10 -105 270 120\">\n",
       "<line x1=\"-5\" y1=\"0\" x2=\"255\" y2=\"0\" style=\"fill:none;stroke-width:2;stroke:currentColor\"/>\n",
       "<text text-anchor=\"middle\" x=\"0\" y=\"15\" style=\"fill:currentColor;\">\n",
       "0\n",
       "</text>\n",
       "<text text-anchor=\"middle\" x=\"250\" y=\"15\" style=\"fill:currentColor;\">\n",
       "3\n",
       "</text>\n",
       "<text text-anchor=\"middle\" x=\"125.0\" y=\"15\" style=\"fill:currentColor;\">\n",
       "muon_interIsolation_leading\n",
       "</text>\n",
       "<polyline points=\"  0,0   0,-100   5,-100   5,-15  10,-15  10,-22.8  15,-22.8  15,-13.5  20,-13.5  20,-14  25,-14  25,-14  30,-14  30,-13  35,-13  35,-8.81  40,-8.81  40,-14  45,-14  45,-9.84  50,-9.84  50,-10.4  55,-10.4  55,-10.9  60,-10.9  60,-8.81  65,-8.81  65,-7.25  70,-7.25  70,-6.74  75,-6.74  75,-7.25  80,-7.25  80,-4.15  85,-4.15  85,-2.59  90,-2.59  90,-2.59  95,-2.59  95,-1.55 100,-1.55 100,-3.63 105,-3.63 105,-1.55 110,-1.55 110,-2.59 115,-2.59 115,-0 120,-0 120,-0.518 125,-0.518 125,-1.04 130,-1.04 130,-1.04 135,-1.04 135,-0.518 140,-0.518 140,-0.518 145,-0.518 145,-2.07 150,-2.07 150,-1.04 155,-1.04 155,-0 160,-0 160,-1.04 165,-1.04 165,-0 170,-0 170,-0 175,-0 175,-0 180,-0 180,-0 185,-0 185,-0 190,-0 190,-0.518 195,-0.518 195,-0.518 200,-0.518 200,-0 205,-0 205,-0 210,-0 210,-0 215,-0 215,-0 220,-0 220,-0.518 225,-0.518 225,-0 230,-0 230,-0 235,-0 235,-0 240,-0 240,-0 245,-0 245,-0 250,-0 250,0\" style=\"fill:none; stroke:currentColor;\"/>\n",
       "</svg>\n",
       "</div>\n",
       "<div style=\"flex=grow:1;\">\n",
       "Regular(50, 0, 3, name='muon_interIsolation_leading')<br/>\n",
       "<hr style=\"margin-top:.2em; margin-bottom:.2em;\"/>\n",
       "Weight() Σ=WeightedSum(value=785.641, variance=1080.16)\n",
       "\n",
       "</div>\n",
       "</div>\n",
       "</html>"
      ],
      "text/plain": [
       "Hist(Regular(50, 0, 3, name='muon_interIsolation_leading'), storage=Weight()) # Sum: WeightedSum(value=785.641, variance=1080.16)"
      ]
     },
     "execution_count": 54,
     "metadata": {},
     "output_type": "execute_result"
    }
   ],
   "source": [
    "column = \"muon_interIsolation_leading\"\n",
    "h = hist.Hist.new.Reg(50, 0, 3, name=column, label=column).Weight()\n",
    "h.fill(event_vars[column].to_numpy(), weight=event_vars['genWeight'].to_numpy())"
   ]
  },
  {
   "cell_type": "code",
   "execution_count": 55,
   "id": "68b920cb",
   "metadata": {},
   "outputs": [],
   "source": [
    "xsec = 1.325\n",
    "lumi = 59817.406\n",
    "weight = xsec * lumi / h.sum().value\n",
    "h *= weight"
   ]
  },
  {
   "cell_type": "code",
   "execution_count": 56,
   "id": "a13db0d9",
   "metadata": {},
   "outputs": [
    {
     "data": {
      "image/png": "[encoded data removed]",
      "text/plain": [
       "<Figure size 1000x1000 with 1 Axes>"
      ]
     },
     "metadata": {},
     "output_type": "display_data"
    }
   ],
   "source": [
    "hep.histplot(h, yerr=np.sqrt(h.variances()), label='ZZTo4L')\n",
    "plt.legend()\n",
    "plt.yscale('log')"
   ]
  },
  {
   "cell_type": "code",
   "execution_count": 35,
   "id": "21bb4aa6",
   "metadata": {},
   "outputs": [
    {
     "name": "stdout",
     "output_type": "stream",
     "text": [
      "64909205.15625\n",
      "64774388.28125\n"
     ]
    },
    {
     "data": {
      "image/png": "[encoded data removed]",
      "text/plain": [
       "<Figure size 432x288 with 1 Axes>"
      ]
     },
     "metadata": {
      "needs_background": "light"
     },
     "output_type": "display_data"
    }
   ],
   "source": [
    "plt.hist(htloose, bins=np.linspace(0,5000,100),  histtype='step', label='loose')\n",
    "plt.hist(httight, bins=np.linspace(0,5000,100), histtype='step', label='tight')\n",
    "plt.yscale('log')\n",
    "plt.legend()\n",
    "print(np.sum(htloose))\n",
    "print(np.sum(httight))"
   ]
  },
  {
   "cell_type": "code",
   "execution_count": null,
   "id": "0733b1fd",
   "metadata": {},
   "outputs": [],
   "source": []
  }
 ],
 "metadata": {
  "kernelspec": {
   "display_name": "testenv",
   "language": "python",
   "name": "testenv"
  },
  "language_info": {
   "codemirror_mode": {
    "name": "ipython",
    "version": 3
   },
   "file_extension": ".py",
   "mimetype": "text/x-python",
   "name": "python",
   "nbconvert_exporter": "python",
   "pygments_lexer": "ipython3",
   "version": "3.10.8"
  }
 },
 "nbformat": 4,
 "nbformat_minor": 5
}
