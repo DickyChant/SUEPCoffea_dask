{
 "cells": [
  {
   "cell_type": "code",
   "execution_count": 90,
   "id": "d08cddaf-6a0f-4879-871b-50c5171228a0",
   "metadata": {},
   "outputs": [],
   "source": [
    "import os, sys, glob, re\n",
    "import coffea.util"
   ]
  },
  {
   "cell_type": "code",
   "execution_count": 12,
   "id": "7323779a-2e17-46d1-a8d8-c43dd240ca52",
   "metadata": {},
   "outputs": [],
   "source": [
    "dataDir = '/data/submit/lavezzo/cutflows2/'\n",
    "subDirs = os.listdir(dataDir)"
   ]
  },
  {
   "cell_type": "code",
   "execution_count": 113,
   "id": "abf1e928-dc22-43d2-9560-1963e2b4ac5a",
   "metadata": {},
   "outputs": [],
   "source": [
    "counts = {}\n",
    "for subDir in subDirs:\n",
    "    files = os.listdir(dataDir + subDir)\n",
    "    \n",
    "    for i, f in enumerate(files):\n",
    "        if i == 0: \n",
    "            cum = coffea.util.load(os.path.join(dataDir, subDir, f))\n",
    "        else:\n",
    "            temp = coffea.util.load(os.path.join(dataDir, subDir, f))\n",
    "            for key in temp:\n",
    "                cum[key] += temp[key]\n",
    "                \n",
    "    counts[subDir.split('+')[0]] = cum"
   ]
  },
  {
   "cell_type": "code",
   "execution_count": 125,
   "id": "8ff88275-9fce-428d-8d14-16d71f193265",
   "metadata": {},
   "outputs": [],
   "source": [
    "counts_generic = {}\n",
    "for k, i in counts.items(): \n",
    "    if 'generic' not in k: continue\n",
    "    # if 'htcut' in k: continue\n",
    "    counts_generic[k] = i"
   ]
  },
  {
   "cell_type": "code",
   "execution_count": 127,
   "id": "457da2e6-b04a-4b7a-ad4d-2c968c480787",
   "metadata": {},
   "outputs": [],
   "source": [
    "columnLabels = ['Selection', r'$M_{\\phi}$ = 125 GeV (htcut)', r'$M_{\\phi}$ = 125 GeV', r'$M_{\\phi}$ = 400 GeV', \n",
    "           r'$M_{\\phi}$ = 750 GeV', r'$M_{\\phi}$ = 1000 GeV']\n",
    "selectionLabels = ['Total', r'$H_T$ > 1200 GeV', \n",
    "             'Trigger (PFHT1050)', 'Two ak15 Jets',\n",
    "             '# Constituents > 80', r'$Sph_1$ > 0.5']\n",
    "\n",
    "selectionKeys = list(counts_generic[list(counts_generic.keys())[0]].keys())[1:]\n",
    "columnKeys = ['SUEP-m125-generic-htcut', 'SUEP-m125-generic', 'SUEP-m400-generic', \n",
    "              'SUEP-m750-generic', 'SUEP-m1000-generic'] "
   ]
  },
  {
   "cell_type": "code",
   "execution_count": 128,
   "id": "dee73056-1609-4938-8953-b1f6f9c3fb24",
   "metadata": {},
   "outputs": [],
   "source": [
    "table = []\n",
    "table.append(columnLabels)\n",
    "\n",
    "for label, selection in zip(selectionLabels, selectionKeys):\n",
    "    columns = []\n",
    "    columns.append(label)\n",
    "    for k in columnKeys: \n",
    "        counts_sample = counts_generic[k][selection]\n",
    "        sumw_sample = counts_generic[k]['sumw']\n",
    "        val = round(counts_sample[list(counts_sample.keys())[0]])\n",
    "        sumw = round(sumw_sample[list(sumw_sample.keys())[0]])\n",
    "        #val /= sumw\n",
    "        columns.append(val)\n",
    "    table.append(columns)"
   ]
  },
  {
   "cell_type": "code",
   "execution_count": 129,
   "id": "aa8e3d55-ec49-46f3-9a88-8d75959478dd",
   "metadata": {},
   "outputs": [
    {
     "data": {
      "text/plain": [
       "[['Selection',\n",
       "  '$M_{\\\\phi}$ = 125 GeV (htcut)',\n",
       "  '$M_{\\\\phi}$ = 125 GeV',\n",
       "  '$M_{\\\\phi}$ = 400 GeV',\n",
       "  '$M_{\\\\phi}$ = 750 GeV',\n",
       "  '$M_{\\\\phi}$ = 1000 GeV'],\n",
       " ['Total', 13420, 9900, 9900, 10000, 10000],\n",
       " ['$H_T$ > 1200 GeV', 6598, 7, 90, 210, 308],\n",
       " ['Trigger (PFHT1050)', 6591, 6, 90, 206, 301],\n",
       " ['Two ak15 Jets', 6286, 6, 88, 199, 276],\n",
       " ['# Constituents > 80', 461, 1, 85, 198, 275],\n",
       " ['$Sph_1$ > 0.5', 238, 0, 79, 189, 264]]"
      ]
     },
     "execution_count": 129,
     "metadata": {},
     "output_type": "execute_result"
    }
   ],
   "source": [
    "table"
   ]
  },
  {
   "cell_type": "code",
   "execution_count": 130,
   "id": "b8b0fc11-9da5-4f51-8e64-86f51f9a25a5",
   "metadata": {},
   "outputs": [
    {
     "data": {
      "text/plain": [
       "'\\\\begin{tabular}{llllll}\\n\\\\hline\\n Selection           & $M_{\\\\phi}$ = 125 GeV (htcut) & $M_{\\\\phi}$ = 125 GeV & $M_{\\\\phi}$ = 400 GeV & $M_{\\\\phi}$ = 750 GeV & $M_{\\\\phi}$ = 1000 GeV \\\\\\\\\\n Total               & 13420                        & 9900                 & 9900                 & 10000                & 10000                 \\\\\\\\\\n $H_T$ \\\\ensuremath{>} 1200 GeV    & 6598                         & 7                    & 90                   & 210                  & 308                   \\\\\\\\\\n Trigger (PFHT1050)  & 6591                         & 6                    & 90                   & 206                  & 301                   \\\\\\\\\\n Two ak15 Jets       & 6286                         & 6                    & 88                   & 199                  & 276                   \\\\\\\\\\n \\\\# Constituents \\\\ensuremath{>} 80 & 461                          & 1                    & 85                   & 198                  & 275                   \\\\\\\\\\n $Sph_1$ \\\\ensuremath{>} 0.5       & 238                          & 0                    & 79                   & 189                  & 264                   \\\\\\\\\\n\\\\hline\\n\\\\end{tabular}'"
      ]
     },
     "execution_count": 130,
     "metadata": {},
     "output_type": "execute_result"
    }
   ],
   "source": [
    "import tabulate\n",
    "t = tabulate.tabulate(table,tablefmt ='latex')\n",
    "\n",
    "def convert2LatexString(s):\n",
    "    r = r'(\\^\\{\\})'; s = re.sub(r, \"^\", s)\n",
    "    s = re.sub(r'\\\\([\\$\\_\\{\\}\\^])', r'\\1', s)\n",
    "    s = re.sub(r'(\\\\textbackslash{})', r'\\\\', s)\n",
    "    return s\n",
    "\n",
    "t = convert2LatexString(t)\n",
    "with open('table.txt', 'w') as f:\n",
    "    f.write(t)\n",
    "t"
   ]
  },
  {
   "cell_type": "code",
   "execution_count": null,
   "id": "358ffc98-5ed3-464b-b69b-98f5eeb25c5d",
   "metadata": {},
   "outputs": [],
   "source": []
  }
 ],
 "metadata": {
  "kernelspec": {
   "display_name": "suep",
   "language": "python",
   "name": "suep"
  },
  "language_info": {
   "codemirror_mode": {
    "name": "ipython",
    "version": 3
   },
   "file_extension": ".py",
   "mimetype": "text/x-python",
   "name": "python",
   "nbconvert_exporter": "python",
   "pygments_lexer": "ipython3",
   "version": "3.9.10"
  }
 },
 "nbformat": 4,
 "nbformat_minor": 5
}
