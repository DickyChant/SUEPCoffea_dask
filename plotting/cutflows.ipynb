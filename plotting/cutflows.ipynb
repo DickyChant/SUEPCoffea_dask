{
 "cells": [
  {
   "cell_type": "code",
   "execution_count": 1,
   "id": "d08cddaf-6a0f-4879-871b-50c5171228a0",
   "metadata": {},
   "outputs": [],
   "source": [
    "import os, sys, glob, re\n",
    "import coffea.util\n",
    "from plot_utils import *"
   ]
  },
  {
   "cell_type": "code",
   "execution_count": 2,
   "id": "7323779a-2e17-46d1-a8d8-c43dd240ca52",
   "metadata": {},
   "outputs": [],
   "source": [
    "dataDir = '/data/submit/lavezzo/cutflows2/'\n",
    "subDirs = os.listdir(dataDir)"
   ]
  },
  {
   "cell_type": "code",
   "execution_count": 3,
   "id": "abf1e928-dc22-43d2-9560-1963e2b4ac5a",
   "metadata": {},
   "outputs": [],
   "source": [
    "counts = {}\n",
    "for subDir in subDirs:\n",
    "    files = os.listdir(dataDir + subDir)\n",
    "    \n",
    "    for i, f in enumerate(files):\n",
    "        if i == 0: \n",
    "            cum = coffea.util.load(os.path.join(dataDir, subDir, f))\n",
    "        else:\n",
    "            temp = coffea.util.load(os.path.join(dataDir, subDir, f))\n",
    "            for key in temp:\n",
    "                cum[key] += temp[key]\n",
    "                \n",
    "    counts[subDir.split('+')[0]] = cum"
   ]
  },
  {
   "cell_type": "code",
   "execution_count": 4,
   "id": "b5dbd602-c394-49ee-a376-899ec392ee14",
   "metadata": {},
   "outputs": [
    {
     "data": {
      "text/plain": [
       "dict_keys(['SUEP-m125-generic', 'SUEP-m400-darkPhoHad', 'SUEP-m750-darkPho', 'SUEP-m750-darkPhoHad', 'QCD_HT300to500_TuneCP5_PSWeights_13TeV-madgraph-pythia8', 'QCD_HT1000to1500_TuneCP5_PSWeights_13TeV-madgraph-pythia8', 'QCD_HT200to300_TuneCP5_PSWeights_13TeV-madgraph-pythia8', 'SUEP-m1000-darkPhoHad', 'QCD_HT2000toInf_TuneCP5_PSWeights_13TeV-madgraph-pythia8', 'SUEP-m125-darkPho', 'QCD_HT500to700_TuneCP5_PSWeights_13TeV-madgraph-pythia8', 'SUEP-m1000-generic', 'SUEP-m400-darkPho', 'SUEP-m400-generic', 'QCD_HT1500to2000_TuneCP5_PSWeights_13TeV-madgraph-pythia8', 'SUEP-m125-generic-htcut', 'QCD_HT50to100_TuneCP5_PSWeights_13TeV-madgraph-pythia8', 'SUEP-m1000-darkPho', 'QCD_HT100to200_TuneCP5_PSWeights_13TeV-madgraph-pythia8', 'SUEP-m750-generic', 'SUEP-m125-darkPhoHad'])"
      ]
     },
     "execution_count": 4,
     "metadata": {},
     "output_type": "execute_result"
    }
   ],
   "source": [
    "counts.keys()"
   ]
  },
  {
   "cell_type": "code",
   "execution_count": 5,
   "id": "8ff88275-9fce-428d-8d14-16d71f193265",
   "metadata": {},
   "outputs": [],
   "source": [
    "counts_generic = {}\n",
    "for k, i in counts.items(): \n",
    "    if 'generic' not in k: continue\n",
    "    if 'htcut' in k: continue\n",
    "    \n",
    "    counts_generic[k] = i\n",
    "    \n",
    "counts_qcd = None\n",
    "for k, i in counts.items(): \n",
    "    if 'QCD_HT' not in k: continue\n",
    "    # if 'htcut' in k: continue\n",
    "    if counts_qcd is None: \n",
    "        counts_qcd = {}\n",
    "        for key in counts[k].keys():\n",
    "            counts_qcd[key] = counts[k][key][list(counts[k][key].keys())[0]]\n",
    "    else:\n",
    "        xsection = getXSection(k+'+RunIISummer20UL18MiniAODv2-106X_upgrade2018_realistic_v16_L1v1-v1+MINIAODSIM', '2018')\n",
    "        for key in counts[k].keys():\n",
    "            if len(list(counts[k][key])) > 0:\n",
    "                val = counts[k][key][list(counts[k][key].keys())[0]]\n",
    "                sumw = counts[k]['sumw'][list(counts[k][key].keys())[0]]\n",
    "                counts_qcd[key] += val * xsection / sumw"
   ]
  },
  {
   "cell_type": "code",
   "execution_count": 6,
   "id": "c0238375-eda5-42f9-ab0b-b4f202481f37",
   "metadata": {},
   "outputs": [
    {
     "data": {
      "text/plain": [
       "dict_keys(['sumw', 'total', 'cut1', 'cut2', 'cut3', 'cut4', 'cut5'])"
      ]
     },
     "execution_count": 6,
     "metadata": {},
     "output_type": "execute_result"
    }
   ],
   "source": [
    "counts_qcd.keys()"
   ]
  },
  {
   "cell_type": "code",
   "execution_count": 7,
   "id": "457da2e6-b04a-4b7a-ad4d-2c968c480787",
   "metadata": {},
   "outputs": [],
   "source": [
    "columnLabels = ['Selection', r'QCD MC ', r'$M_{\\phi}$ = 125 GeV', r'$M_{\\phi}$ = 400 GeV', \n",
    "           r'$M_{\\phi}$ = 750 GeV', r'$M_{\\phi}$ = 1000 GeV']\n",
    "selectionLabels = ['Total', r'$H_T$ > 1200 GeV', \n",
    "             'Trigger (PFHT1050)', 'Two ak15 Jets',\n",
    "             '# Constituents > 80', r'$Sph_1$ > 0.5']\n",
    "\n",
    "selectionKeys = list(counts_generic[list(counts_generic.keys())[0]].keys())[1:]\n",
    "columnKeys = ['QCD', 'SUEP-m125-generic', 'SUEP-m400-generic', \n",
    "              'SUEP-m750-generic', 'SUEP-m1000-generic'] "
   ]
  },
  {
   "cell_type": "code",
   "execution_count": 12,
   "id": "dee73056-1609-4938-8953-b1f6f9c3fb24",
   "metadata": {},
   "outputs": [],
   "source": [
    "table = []\n",
    "table.append(columnLabels)\n",
    "\n",
    "for label, selection in zip(selectionLabels, selectionKeys):\n",
    "    columns = []\n",
    "    columns.append(label)\n",
    "    for k in columnKeys: \n",
    "        if k == 'QCD':\n",
    "            val = counts_qcd[selection]\n",
    "        else:\n",
    "            \n",
    "            # FIXME: standardize things more\n",
    "            mass = k.split(\"SUEP-m\")[1]\n",
    "            mass = mass.split('-')[0]\n",
    "            mass = str(mass)\n",
    "            xsec = getXSection(mass, 2018, SUEP=True)\n",
    "            \n",
    "            counts_sample = counts_generic[k][selection]\n",
    "            sumw_sample = counts_generic[k]['sumw']\n",
    "            val = round(counts_sample[list(counts_sample.keys())[0]]) * xsec\n",
    "            sumw = round(sumw_sample[list(sumw_sample.keys())[0]])\n",
    "            val /= sumw\n",
    "        val *= lumis['2018']\n",
    "        columns.append(round(val))\n",
    "    table.append(columns)"
   ]
  },
  {
   "cell_type": "code",
   "execution_count": 13,
   "id": "aa8e3d55-ec49-46f3-9a88-8d75959478dd",
   "metadata": {},
   "outputs": [
    {
     "data": {
      "text/plain": [
       "[['Selection',\n",
       "  'QCD MC ',\n",
       "  '$M_{\\\\phi}$ = 125 GeV',\n",
       "  '$M_{\\\\phi}$ = 400 GeV',\n",
       "  '$M_{\\\\phi}$ = 750 GeV',\n",
       "  '$M_{\\\\phi}$ = 1000 GeV'],\n",
       " ['Total', 16683981276580, 2123014, 359936, 30506, 10364],\n",
       " ['$H_T$ > 1200 GeV', 31068938, 1501, 3272, 641, 319],\n",
       " ['Trigger (PFHT1050)', 27309295, 1287, 3272, 628, 312],\n",
       " ['Two ak15 Jets', 24722683, 1287, 3199, 607, 286],\n",
       " ['# Constituents > 80', 99889, 214, 3090, 604, 285],\n",
       " ['$Sph_1$ > 0.5', 48667, 0, 2872, 577, 274]]"
      ]
     },
     "execution_count": 13,
     "metadata": {},
     "output_type": "execute_result"
    }
   ],
   "source": [
    "table"
   ]
  },
  {
   "cell_type": "code",
   "execution_count": 10,
   "id": "b8b0fc11-9da5-4f51-8e64-86f51f9a25a5",
   "metadata": {},
   "outputs": [
    {
     "data": {
      "text/plain": [
       "'\\\\begin{tabular}{llllll}\\n\\\\hline\\n Selection           & QCD MC         & $M_{\\\\phi}$ = 125 GeV & $M_{\\\\phi}$ = 400 GeV & $M_{\\\\phi}$ = 750 GeV & $M_{\\\\phi}$ = 1000 GeV \\\\\\\\\\n Total               & 16683981276580 & 2123014              & 359936               & 30506                & 10364                 \\\\\\\\\\n $H_T$ \\\\ensuremath{>} 1200 GeV    & 31068938       & 1501                 & 3272                 & 641                  & 319                   \\\\\\\\\\n Trigger (PFHT1050)  & 27309295       & 1287                 & 3272                 & 628                  & 312                   \\\\\\\\\\n Two ak15 Jets       & 24722683       & 1287                 & 3199                 & 607                  & 286                   \\\\\\\\\\n \\\\# Constituents \\\\ensuremath{>} 80 & 99889          & 214                  & 3090                 & 604                  & 285                   \\\\\\\\\\n $Sph_1$ \\\\ensuremath{>} 0.5       & 48667          & 0                    & 2872                 & 577                  & 274                   \\\\\\\\\\n\\\\hline\\n\\\\end{tabular}'"
      ]
     },
     "execution_count": 10,
     "metadata": {},
     "output_type": "execute_result"
    }
   ],
   "source": [
    "import tabulate\n",
    "t = tabulate.tabulate(table,tablefmt ='latex')\n",
    "\n",
    "def convert2LatexString(s):\n",
    "    r = r'(\\^\\{\\})'; s = re.sub(r, \"^\", s)\n",
    "    s = re.sub(r'\\\\([\\$\\_\\{\\}\\^])', r'\\1', s)\n",
    "    s = re.sub(r'(\\\\textbackslash{})', r'\\\\', s)\n",
    "    return s\n",
    "\n",
    "t = convert2LatexString(t)\n",
    "with open('table.txt', 'w') as f:\n",
    "    f.write(t)\n",
    "t"
   ]
  },
  {
   "cell_type": "code",
   "execution_count": null,
   "id": "358ffc98-5ed3-464b-b69b-98f5eeb25c5d",
   "metadata": {},
   "outputs": [],
   "source": []
  }
 ],
 "metadata": {
  "kernelspec": {
   "display_name": "suep",
   "language": "python",
   "name": "suep"
  },
  "language_info": {
   "codemirror_mode": {
    "name": "ipython",
    "version": 3
   },
   "file_extension": ".py",
   "mimetype": "text/x-python",
   "name": "python",
   "nbconvert_exporter": "python",
   "pygments_lexer": "ipython3",
   "version": "3.9.10"
  }
 },
 "nbformat": 4,
 "nbformat_minor": 5
}
