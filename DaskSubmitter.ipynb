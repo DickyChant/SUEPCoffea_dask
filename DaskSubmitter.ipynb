{
 "cells": [
  {
   "cell_type": "code",
   "execution_count": 1,
   "id": "99caee00-6931-4288-9ebc-099242bbe93c",
   "metadata": {},
   "outputs": [],
   "source": [
    "import os, sys, glob\n",
    "import pandas as pd\n",
    "import json\n",
    "import argparse\n",
    "import time\n",
    "import numpy\n",
    "from tqdm import tqdm\n",
    "\n",
    "# Import coffea specific features\n",
    "from coffea import processor\n",
    "\n",
    "# SUEP Repo Specific\n",
    "import SUEP_coffea\n",
    "from workflows import pandas_utils\n",
    "from workflows import merger"
   ]
  },
  {
   "cell_type": "code",
   "execution_count": 2,
   "id": "63d6cae5-fd19-4d1f-8547-c34704646e90",
   "metadata": {},
   "outputs": [],
   "source": [
    "processor_inst = SUEP_coffea.SUEP_cluster(\n",
    "    isMC=1,\n",
    "    era=2018,\n",
    "    do_syst=1,\n",
    "    syst_var=\"\",\n",
    "    sample=\"QCD_Pt+RunIISummer20UL18\",\n",
    "    weight_syst=\"\",\n",
    "    flag=False,\n",
    "    output_location='/home/cms-jovyan/SUEPCoffea_dask'\n",
    ")"
   ]
  },
  {
   "cell_type": "code",
   "execution_count": 12,
   "id": "07f33231-5aad-469f-88cb-90f71c773ce1",
   "metadata": {},
   "outputs": [
    {
     "data": {
      "text/html": [
       "<div>\n",
       "    <div style=\"width: 24px; height: 24px; background-color: #e1e1e1; border: 3px solid #9D9D9D; border-radius: 5px; position: absolute;\"> </div>\n",
       "    <div style=\"margin-left: 48px;\">\n",
       "        <h3 style=\"margin-bottom: 0px;\">Client</h3>\n",
       "        <p style=\"color: #9D9D9D; margin-bottom: 0px;\">Client-ef25eff4-11b1-11ed-9714-ba3058b7801a</p>\n",
       "        <table style=\"width: 100%; text-align: left;\">\n",
       "\n",
       "        <tr>\n",
       "        \n",
       "            <td style=\"text-align: left;\"><strong>Connection method:</strong> Direct</td>\n",
       "            <td style=\"text-align: left;\"></td>\n",
       "        \n",
       "        </tr>\n",
       "\n",
       "        \n",
       "            <tr>\n",
       "                <td style=\"text-align: left;\">\n",
       "                    <strong>Dashboard: </strong> <a href=\"/user/christos.papageorgakis@cern.ch/proxy/8787/status\" target=\"_blank\">/user/christos.papageorgakis@cern.ch/proxy/8787/status</a>\n",
       "                </td>\n",
       "                <td style=\"text-align: left;\"></td>\n",
       "            </tr>\n",
       "        \n",
       "\n",
       "        </table>\n",
       "\n",
       "        \n",
       "            <details>\n",
       "            <summary style=\"margin-bottom: 20px;\"><h3 style=\"display: inline;\">Scheduler Info</h3></summary>\n",
       "            <div style=\"\">\n",
       "    <div>\n",
       "        <div style=\"width: 24px; height: 24px; background-color: #FFF7E5; border: 3px solid #FF6132; border-radius: 5px; position: absolute;\"> </div>\n",
       "        <div style=\"margin-left: 48px;\">\n",
       "            <h3 style=\"margin-bottom: 0px;\">Scheduler</h3>\n",
       "            <p style=\"color: #9D9D9D; margin-bottom: 0px;\">Scheduler-f3934a42-2fcf-43fb-be98-279376b40ec7</p>\n",
       "            <table style=\"width: 100%; text-align: left;\">\n",
       "                <tr>\n",
       "                    <td style=\"text-align: left;\">\n",
       "                        <strong>Comm:</strong> tls://192.168.150.47:8786\n",
       "                    </td>\n",
       "                    <td style=\"text-align: left;\">\n",
       "                        <strong>Workers:</strong> 0\n",
       "                    </td>\n",
       "                </tr>\n",
       "                <tr>\n",
       "                    <td style=\"text-align: left;\">\n",
       "                        <strong>Dashboard:</strong> <a href=\"/user/christos.papageorgakis@cern.ch/proxy/8787/status\" target=\"_blank\">/user/christos.papageorgakis@cern.ch/proxy/8787/status</a>\n",
       "                    </td>\n",
       "                    <td style=\"text-align: left;\">\n",
       "                        <strong>Total threads:</strong> 0\n",
       "                    </td>\n",
       "                </tr>\n",
       "                <tr>\n",
       "                    <td style=\"text-align: left;\">\n",
       "                        <strong>Started:</strong> Just now\n",
       "                    </td>\n",
       "                    <td style=\"text-align: left;\">\n",
       "                        <strong>Total memory:</strong> 0 B\n",
       "                    </td>\n",
       "                </tr>\n",
       "            </table>\n",
       "        </div>\n",
       "    </div>\n",
       "\n",
       "    <details style=\"margin-left: 48px;\">\n",
       "        <summary style=\"margin-bottom: 20px;\">\n",
       "            <h3 style=\"display: inline;\">Workers</h3>\n",
       "        </summary>\n",
       "\n",
       "        \n",
       "\n",
       "    </details>\n",
       "</div>\n",
       "            </details>\n",
       "        \n",
       "\n",
       "    </div>\n",
       "</div>"
      ],
      "text/plain": [
       "<Client: 'tls://192.168.150.47:8786' processes=0 threads=0, memory=0 B>"
      ]
     },
     "execution_count": 12,
     "metadata": {},
     "output_type": "execute_result"
    }
   ],
   "source": [
    "from dask.distributed import Client\n",
    "\n",
    "client = Client(\"tls://christos-2epapageorgakis-40cern-2ech.dask.cmsaf-prod.flatiron.hollandhpc.org:8786\")\n",
    "client"
   ]
  },
  {
   "cell_type": "code",
   "execution_count": 13,
   "id": "9de8fab9-2afa-443a-a20b-650d78147fe0",
   "metadata": {},
   "outputs": [
    {
     "data": {
      "text/plain": [
       "{}"
      ]
     },
     "execution_count": 13,
     "metadata": {},
     "output_type": "execute_result"
    }
   ],
   "source": [
    "import shutil\n",
    "\n",
    "shutil.make_archive(\"workflows\", \"zip\", base_dir=\"workflows\")\n",
    "client.upload_file(\"workflows.zip\")\n",
    "client.upload_file(\"SUEP_coffea.py\")"
   ]
  },
  {
   "cell_type": "code",
   "execution_count": 14,
   "id": "fd3941a5-4e72-4741-a514-bfa8f30b1402",
   "metadata": {
    "tags": []
   },
   "outputs": [
    {
     "name": "stdout",
     "output_type": "stream",
     "text": [
      "[##########################              ] | 66% Completed |  5min 32.8s\r"
     ]
    },
    {
     "name": "stderr",
     "output_type": "stream",
     "text": [
      "2022-08-01 15:58:42,402 - distributed.comm.tcp - WARNING - Closing dangling stream in <TLS  local=tls://192.168.150.47:42230 remote=tls://christos-2epapageorgakis-40cern-2ech.dask.cmsaf-prod.flatiron.hollandhpc.org:8786>\n",
      "Task was destroyed but it is pending!\n",
      "task: <Task pending name='Task-1409' coro=<ProgressBar.listen() running at /opt/conda/lib/python3.8/site-packages/distributed/diagnostics/progressbar.py:88> wait_for=<Future cancelled> cb=[IOLoop.add_future.<locals>.<lambda>() at /opt/conda/lib/python3.8/site-packages/tornado/ioloop.py:688]>\n"
     ]
    },
    {
     "ename": "Exception",
     "evalue": "Failed processing file: WorkItem(dataset='QCD_Pt_170to300+RunIISummer20UL18', filename='root://xcache//store/user/paus/nanosu/A01/QCD_Pt_170to300_TuneCP5_13TeV_pythia8+RunIISummer20UL18MiniAODv2-106X_upgrade2018_realistic_v16_L1v1-v1+MINIAODSIM//00EDCD66-B0ED-DD4F-9545-E99D582F1898.root', treename='Events', entrystart=38400, entrystop=43200, fileuuid=b'n\\x13\\xa5\\x06/\\x88\\x11\\xec\\x8f\\x89\\x05\\x1b=\\x86\\xbe\\xef', usermeta={})",
     "output_type": "error",
     "traceback": [
      "\u001b[0;31m---------------------------------------------------------------------------\u001b[0m",
      "\u001b[0;31mFileNotFoundError\u001b[0m                         Traceback (most recent call last)",
      "File \u001b[0;32m/opt/conda/lib/python3.8/site-packages/coffea/processor/executor.py:1542\u001b[0m, in \u001b[0;36m_work_function\u001b[0;34m()\u001b[0m\n\u001b[1;32m   1541\u001b[0m \u001b[38;5;28;01mtry\u001b[39;00m:\n\u001b[0;32m-> 1542\u001b[0m     out \u001b[38;5;241m=\u001b[39m processor_instance\u001b[38;5;241m.\u001b[39mprocess(events)\n\u001b[1;32m   1543\u001b[0m \u001b[38;5;28;01mexcept\u001b[39;00m \u001b[38;5;167;01mException\u001b[39;00m \u001b[38;5;28;01mas\u001b[39;00m e:\n",
      "File \u001b[0;32m/var/lib/condor/execute/dir_2924145/dask-worker-space/worker-gwhd6rbm/SUEP_coffea.py:122\u001b[0m, in \u001b[0;36mprocess\u001b[0;34m()\u001b[0m\n",
      "File \u001b[0;32m/opt/conda/lib/python3.8/site-packages/awkward/operations/reducers.py:341\u001b[0m, in \u001b[0;36msum\u001b[0;34m()\u001b[0m\n\u001b[1;32m    338\u001b[0m             \u001b[38;5;28;01mreturn\u001b[39;00m xs[\u001b[38;5;241m0\u001b[39m] \u001b[38;5;241m+\u001b[39m reduce(xs[\u001b[38;5;241m1\u001b[39m:])\n\u001b[1;32m    340\u001b[0m     \u001b[38;5;28;01mreturn\u001b[39;00m reduce(\n\u001b[0;32m--> 341\u001b[0m         [ak\u001b[38;5;241m.\u001b[39mnplike\u001b[38;5;241m.\u001b[39mof(x)\u001b[38;5;241m.\u001b[39msum(x) \u001b[38;5;28;01mfor\u001b[39;00m x \u001b[38;5;129;01min\u001b[39;00m ak\u001b[38;5;241m.\u001b[39m_util\u001b[38;5;241m.\u001b[39mcompletely_flatten(layout)]\n\u001b[1;32m    342\u001b[0m     )\n\u001b[1;32m    343\u001b[0m \u001b[38;5;28;01melse\u001b[39;00m:\n",
      "File \u001b[0;32m/opt/conda/lib/python3.8/site-packages/awkward/_util.py:567\u001b[0m, in \u001b[0;36mcompletely_flatten\u001b[0;34m()\u001b[0m\n\u001b[1;32m    566\u001b[0m \u001b[38;5;28;01melif\u001b[39;00m \u001b[38;5;28misinstance\u001b[39m(array, virtualtypes):\n\u001b[0;32m--> 567\u001b[0m     \u001b[38;5;28;01mreturn\u001b[39;00m completely_flatten(array\u001b[38;5;241m.\u001b[39marray)\n\u001b[1;32m    569\u001b[0m \u001b[38;5;28;01melif\u001b[39;00m \u001b[38;5;28misinstance\u001b[39m(array, unknowntypes):\n",
      "File \u001b[0;32m/opt/conda/lib/python3.8/site-packages/awkward/_util.py:567\u001b[0m, in \u001b[0;36mcompletely_flatten\u001b[0;34m()\u001b[0m\n\u001b[1;32m    566\u001b[0m \u001b[38;5;28;01melif\u001b[39;00m \u001b[38;5;28misinstance\u001b[39m(array, virtualtypes):\n\u001b[0;32m--> 567\u001b[0m     \u001b[38;5;28;01mreturn\u001b[39;00m completely_flatten(array\u001b[38;5;241m.\u001b[39marray)\n\u001b[1;32m    569\u001b[0m \u001b[38;5;28;01melif\u001b[39;00m \u001b[38;5;28misinstance\u001b[39m(array, unknowntypes):\n",
      "File \u001b[0;32m/opt/conda/lib/python3.8/site-packages/awkward/operations/convert.py:4725\u001b[0m, in \u001b[0;36m_form_to_layout\u001b[0;34m()\u001b[0m\n\u001b[1;32m   4723\u001b[0m \u001b[38;5;28;01melif\u001b[39;00m \u001b[38;5;28misinstance\u001b[39m(form, ak\u001b[38;5;241m.\u001b[39mforms\u001b[38;5;241m.\u001b[39mNumpyForm):\n\u001b[1;32m   4724\u001b[0m     raw_array \u001b[38;5;241m=\u001b[39m _asbuf(\n\u001b[0;32m-> 4725\u001b[0m         container[key_format(form_key\u001b[38;5;241m=\u001b[39mfk, attribute\u001b[38;5;241m=\u001b[39m\u001b[38;5;124m\"\u001b[39m\u001b[38;5;124mdata\u001b[39m\u001b[38;5;124m\"\u001b[39m, partition\u001b[38;5;241m=\u001b[39mpartnum)]\n\u001b[1;32m   4726\u001b[0m     )\n\u001b[1;32m   4728\u001b[0m     dtype_inner_shape \u001b[38;5;241m=\u001b[39m form\u001b[38;5;241m.\u001b[39mto_numpy()\n",
      "File \u001b[0;32m/opt/conda/lib/python3.8/site-packages/coffea/nanoevents/mapping/base.py:90\u001b[0m, in \u001b[0;36m__getitem__\u001b[0;34m()\u001b[0m\n\u001b[1;32m     87\u001b[0m     handle \u001b[38;5;241m=\u001b[39m \u001b[38;5;28mself\u001b[39m\u001b[38;5;241m.\u001b[39mget_column_handle(\n\u001b[1;32m     88\u001b[0m         \u001b[38;5;28mself\u001b[39m\u001b[38;5;241m.\u001b[39m_column_source(uuid, treepath), handle_name\n\u001b[1;32m     89\u001b[0m     )\n\u001b[0;32m---> 90\u001b[0m     stack\u001b[38;5;241m.\u001b[39mappend(\u001b[38;5;28mself\u001b[39m\u001b[38;5;241m.\u001b[39mextract_column(handle, start, stop))\n\u001b[1;32m     91\u001b[0m \u001b[38;5;28;01melif\u001b[39;00m node\u001b[38;5;241m.\u001b[39mstartswith(\u001b[38;5;124m\"\u001b[39m\u001b[38;5;124m!\u001b[39m\u001b[38;5;124m\"\u001b[39m):\n",
      "File \u001b[0;32m/opt/conda/lib/python3.8/site-packages/coffea/nanoevents/mapping/uproot.py:138\u001b[0m, in \u001b[0;36mextract_column\u001b[0;34m()\u001b[0m\n\u001b[1;32m    136\u001b[0m \u001b[38;5;28;01mdef\u001b[39;00m \u001b[38;5;21mextract_column\u001b[39m(\u001b[38;5;28mself\u001b[39m, columnhandle, start, stop):\n\u001b[1;32m    137\u001b[0m     \u001b[38;5;66;03m# make sure uproot is single-core since our calling context might not be\u001b[39;00m\n\u001b[0;32m--> 138\u001b[0m     \u001b[38;5;28;01mreturn\u001b[39;00m columnhandle\u001b[38;5;241m.\u001b[39marray(\n\u001b[1;32m    139\u001b[0m         entry_start\u001b[38;5;241m=\u001b[39mstart,\n\u001b[1;32m    140\u001b[0m         entry_stop\u001b[38;5;241m=\u001b[39mstop,\n\u001b[1;32m    141\u001b[0m         decompression_executor\u001b[38;5;241m=\u001b[39muproot\u001b[38;5;241m.\u001b[39msource\u001b[38;5;241m.\u001b[39mfutures\u001b[38;5;241m.\u001b[39mTrivialExecutor(),\n\u001b[1;32m    142\u001b[0m         interpretation_executor\u001b[38;5;241m=\u001b[39muproot\u001b[38;5;241m.\u001b[39msource\u001b[38;5;241m.\u001b[39mfutures\u001b[38;5;241m.\u001b[39mTrivialExecutor(),\n\u001b[1;32m    143\u001b[0m     )\n",
      "File \u001b[0;32m/opt/conda/lib/python3.8/site-packages/uproot/behaviors/TBranch.py:2078\u001b[0m, in \u001b[0;36marray\u001b[0;34m()\u001b[0m\n\u001b[1;32m   2076\u001b[0m                 ranges_or_baskets\u001b[38;5;241m.\u001b[39mappend((branch, basket_num, range_or_basket))\n\u001b[0;32m-> 2078\u001b[0m _ranges_or_baskets_to_arrays(\n\u001b[1;32m   2079\u001b[0m     \u001b[38;5;28mself\u001b[39m,\n\u001b[1;32m   2080\u001b[0m     ranges_or_baskets,\n\u001b[1;32m   2081\u001b[0m     branchid_interpretation,\n\u001b[1;32m   2082\u001b[0m     entry_start,\n\u001b[1;32m   2083\u001b[0m     entry_stop,\n\u001b[1;32m   2084\u001b[0m     decompression_executor,\n\u001b[1;32m   2085\u001b[0m     interpretation_executor,\n\u001b[1;32m   2086\u001b[0m     library,\n\u001b[1;32m   2087\u001b[0m     arrays,\n\u001b[1;32m   2088\u001b[0m     \u001b[38;5;28;01mFalse\u001b[39;00m,\n\u001b[1;32m   2089\u001b[0m )\n\u001b[1;32m   2091\u001b[0m _fix_asgrouped(\n\u001b[1;32m   2092\u001b[0m     arrays, expression_context, branchid_interpretation, library, \u001b[38;5;28;01mNone\u001b[39;00m\n\u001b[1;32m   2093\u001b[0m )\n",
      "File \u001b[0;32m/opt/conda/lib/python3.8/site-packages/uproot/behaviors/TBranch.py:3502\u001b[0m, in \u001b[0;36m_ranges_or_baskets_to_arrays\u001b[0;34m()\u001b[0m\n\u001b[1;32m   3501\u001b[0m \u001b[38;5;28;01melif\u001b[39;00m \u001b[38;5;28misinstance\u001b[39m(obj, \u001b[38;5;28mtuple\u001b[39m) \u001b[38;5;129;01mand\u001b[39;00m \u001b[38;5;28mlen\u001b[39m(obj) \u001b[38;5;241m==\u001b[39m \u001b[38;5;241m3\u001b[39m:\n\u001b[0;32m-> 3502\u001b[0m     uproot\u001b[38;5;241m.\u001b[39msource\u001b[38;5;241m.\u001b[39mfutures\u001b[38;5;241m.\u001b[39mdelayed_raise(\u001b[38;5;241m*\u001b[39mobj)\n\u001b[1;32m   3504\u001b[0m \u001b[38;5;28;01melse\u001b[39;00m:\n",
      "File \u001b[0;32m/opt/conda/lib/python3.8/site-packages/uproot/source/futures.py:36\u001b[0m, in \u001b[0;36mdelayed_raise\u001b[0;34m()\u001b[0m\n\u001b[1;32m     33\u001b[0m \u001b[38;5;124;03m\"\"\"\u001b[39;00m\n\u001b[1;32m     34\u001b[0m \u001b[38;5;124;03mRaise an exception from a background thread on the main thread.\u001b[39;00m\n\u001b[1;32m     35\u001b[0m \u001b[38;5;124;03m\"\"\"\u001b[39;00m\n\u001b[0;32m---> 36\u001b[0m \u001b[38;5;28;01mraise\u001b[39;00m exception_value\u001b[38;5;241m.\u001b[39mwith_traceback(traceback)\n",
      "File \u001b[0;32m/opt/conda/lib/python3.8/site-packages/uproot/behaviors/TBranch.py:3423\u001b[0m, in \u001b[0;36mchunk_to_basket\u001b[0;34m()\u001b[0m\n\u001b[1;32m   3422\u001b[0m cursor \u001b[38;5;241m=\u001b[39m uproot\u001b[38;5;241m.\u001b[39msource\u001b[38;5;241m.\u001b[39mcursor\u001b[38;5;241m.\u001b[39mCursor(chunk\u001b[38;5;241m.\u001b[39mstart)\n\u001b[0;32m-> 3423\u001b[0m basket \u001b[38;5;241m=\u001b[39m uproot\u001b[38;5;241m.\u001b[39mmodels\u001b[38;5;241m.\u001b[39mTBasket\u001b[38;5;241m.\u001b[39mModel_TBasket\u001b[38;5;241m.\u001b[39mread(\n\u001b[1;32m   3424\u001b[0m     chunk,\n\u001b[1;32m   3425\u001b[0m     cursor,\n\u001b[1;32m   3426\u001b[0m     {\u001b[38;5;124m\"\u001b[39m\u001b[38;5;124mbasket_num\u001b[39m\u001b[38;5;124m\"\u001b[39m: basket_num},\n\u001b[1;32m   3427\u001b[0m     hasbranches\u001b[38;5;241m.\u001b[39m_file,\n\u001b[1;32m   3428\u001b[0m     hasbranches\u001b[38;5;241m.\u001b[39m_file,\n\u001b[1;32m   3429\u001b[0m     branch,\n\u001b[1;32m   3430\u001b[0m )\n\u001b[1;32m   3431\u001b[0m original_index \u001b[38;5;241m=\u001b[39m range_original_index[(chunk\u001b[38;5;241m.\u001b[39mstart, chunk\u001b[38;5;241m.\u001b[39mstop)]\n",
      "File \u001b[0;32m/opt/conda/lib/python3.8/site-packages/uproot/model.py:805\u001b[0m, in \u001b[0;36mread\u001b[0;34m()\u001b[0m\n\u001b[1;32m    801\u001b[0m \u001b[38;5;28mself\u001b[39m\u001b[38;5;241m.\u001b[39mhook_before_read_members(\n\u001b[1;32m    802\u001b[0m     chunk\u001b[38;5;241m=\u001b[39mchunk, cursor\u001b[38;5;241m=\u001b[39mcursor, context\u001b[38;5;241m=\u001b[39mcontext, file\u001b[38;5;241m=\u001b[39mfile\n\u001b[1;32m    803\u001b[0m )\n\u001b[0;32m--> 805\u001b[0m \u001b[38;5;28mself\u001b[39m\u001b[38;5;241m.\u001b[39mread_members(chunk, cursor, context, file)\n\u001b[1;32m    807\u001b[0m \u001b[38;5;28mself\u001b[39m\u001b[38;5;241m.\u001b[39mhook_after_read_members(\n\u001b[1;32m    808\u001b[0m     chunk\u001b[38;5;241m=\u001b[39mchunk, cursor\u001b[38;5;241m=\u001b[39mcursor, context\u001b[38;5;241m=\u001b[39mcontext, file\u001b[38;5;241m=\u001b[39mfile\n\u001b[1;32m    809\u001b[0m )\n",
      "File \u001b[0;32m/opt/conda/lib/python3.8/site-packages/uproot/models/TBasket.py:223\u001b[0m, in \u001b[0;36mread_members\u001b[0;34m()\u001b[0m\n\u001b[1;32m    214\u001b[0m \u001b[38;5;28mself\u001b[39m\u001b[38;5;241m.\u001b[39m_basket_num \u001b[38;5;241m=\u001b[39m context\u001b[38;5;241m.\u001b[39mget(\u001b[38;5;124m\"\u001b[39m\u001b[38;5;124mbasket_num\u001b[39m\u001b[38;5;124m\"\u001b[39m)\n\u001b[1;32m    216\u001b[0m (\n\u001b[1;32m    217\u001b[0m     \u001b[38;5;28mself\u001b[39m\u001b[38;5;241m.\u001b[39m_members[\u001b[38;5;124m\"\u001b[39m\u001b[38;5;124mfNbytes\u001b[39m\u001b[38;5;124m\"\u001b[39m],\n\u001b[1;32m    218\u001b[0m     \u001b[38;5;28mself\u001b[39m\u001b[38;5;241m.\u001b[39m_key_version,\n\u001b[1;32m    219\u001b[0m     \u001b[38;5;28mself\u001b[39m\u001b[38;5;241m.\u001b[39m_members[\u001b[38;5;124m\"\u001b[39m\u001b[38;5;124mfObjlen\u001b[39m\u001b[38;5;124m\"\u001b[39m],\n\u001b[1;32m    220\u001b[0m     \u001b[38;5;28mself\u001b[39m\u001b[38;5;241m.\u001b[39m_members[\u001b[38;5;124m\"\u001b[39m\u001b[38;5;124mfDatime\u001b[39m\u001b[38;5;124m\"\u001b[39m],\n\u001b[1;32m    221\u001b[0m     \u001b[38;5;28mself\u001b[39m\u001b[38;5;241m.\u001b[39m_members[\u001b[38;5;124m\"\u001b[39m\u001b[38;5;124mfKeylen\u001b[39m\u001b[38;5;124m\"\u001b[39m],\n\u001b[1;32m    222\u001b[0m     \u001b[38;5;28mself\u001b[39m\u001b[38;5;241m.\u001b[39m_members[\u001b[38;5;124m\"\u001b[39m\u001b[38;5;124mfCycle\u001b[39m\u001b[38;5;124m\"\u001b[39m],\n\u001b[0;32m--> 223\u001b[0m ) \u001b[38;5;241m=\u001b[39m cursor\u001b[38;5;241m.\u001b[39mfields(chunk, _tbasket_format1, context)\n\u001b[1;32m    225\u001b[0m \u001b[38;5;66;03m# skip the class name, name, and title\u001b[39;00m\n",
      "File \u001b[0;32m/opt/conda/lib/python3.8/site-packages/uproot/source/cursor.py:197\u001b[0m, in \u001b[0;36mfields\u001b[0;34m()\u001b[0m\n\u001b[1;32m    196\u001b[0m     \u001b[38;5;28mself\u001b[39m\u001b[38;5;241m.\u001b[39m_index \u001b[38;5;241m=\u001b[39m stop\n\u001b[0;32m--> 197\u001b[0m \u001b[38;5;28;01mreturn\u001b[39;00m \u001b[38;5;28mformat\u001b[39m\u001b[38;5;241m.\u001b[39munpack(chunk\u001b[38;5;241m.\u001b[39mget(start, stop, \u001b[38;5;28mself\u001b[39m, context))\n",
      "File \u001b[0;32m/opt/conda/lib/python3.8/site-packages/uproot/source/chunk.py:419\u001b[0m, in \u001b[0;36mget\u001b[0;34m()\u001b[0m\n\u001b[1;32m    418\u001b[0m \u001b[38;5;28;01mif\u001b[39;00m (start, stop) \u001b[38;5;129;01min\u001b[39;00m \u001b[38;5;28mself\u001b[39m:\n\u001b[0;32m--> 419\u001b[0m     \u001b[38;5;28mself\u001b[39m\u001b[38;5;241m.\u001b[39mwait(insist\u001b[38;5;241m=\u001b[39mstop)\n\u001b[1;32m    420\u001b[0m     local_start \u001b[38;5;241m=\u001b[39m start \u001b[38;5;241m-\u001b[39m \u001b[38;5;28mself\u001b[39m\u001b[38;5;241m.\u001b[39m_start\n",
      "File \u001b[0;32m/opt/conda/lib/python3.8/site-packages/uproot/source/chunk.py:356\u001b[0m, in \u001b[0;36mwait\u001b[0;34m()\u001b[0m\n\u001b[1;32m    355\u001b[0m \u001b[38;5;28;01mif\u001b[39;00m \u001b[38;5;28mself\u001b[39m\u001b[38;5;241m.\u001b[39m_raw_data \u001b[38;5;129;01mis\u001b[39;00m \u001b[38;5;28;01mNone\u001b[39;00m:\n\u001b[0;32m--> 356\u001b[0m     \u001b[38;5;28mself\u001b[39m\u001b[38;5;241m.\u001b[39m_raw_data \u001b[38;5;241m=\u001b[39m numpy\u001b[38;5;241m.\u001b[39mfrombuffer(\u001b[38;5;28mself\u001b[39m\u001b[38;5;241m.\u001b[39m_future\u001b[38;5;241m.\u001b[39mresult(), dtype\u001b[38;5;241m=\u001b[39m\u001b[38;5;28mself\u001b[39m\u001b[38;5;241m.\u001b[39m_dtype)\n\u001b[1;32m    357\u001b[0m     \u001b[38;5;28;01mif\u001b[39;00m insist \u001b[38;5;129;01mis\u001b[39;00m \u001b[38;5;28;01mTrue\u001b[39;00m:\n",
      "File \u001b[0;32m/opt/conda/lib/python3.8/site-packages/uproot/source/futures.py:116\u001b[0m, in \u001b[0;36mresult\u001b[0;34m()\u001b[0m\n\u001b[1;32m    115\u001b[0m \u001b[38;5;28;01melse\u001b[39;00m:\n\u001b[0;32m--> 116\u001b[0m     delayed_raise(\u001b[38;5;241m*\u001b[39m\u001b[38;5;28mself\u001b[39m\u001b[38;5;241m.\u001b[39m_excinfo)\n",
      "File \u001b[0;32m/opt/conda/lib/python3.8/site-packages/uproot/source/futures.py:36\u001b[0m, in \u001b[0;36mdelayed_raise\u001b[0;34m()\u001b[0m\n\u001b[1;32m     33\u001b[0m \u001b[38;5;124;03m\"\"\"\u001b[39;00m\n\u001b[1;32m     34\u001b[0m \u001b[38;5;124;03mRaise an exception from a background thread on the main thread.\u001b[39;00m\n\u001b[1;32m     35\u001b[0m \u001b[38;5;124;03m\"\"\"\u001b[39;00m\n\u001b[0;32m---> 36\u001b[0m \u001b[38;5;28;01mraise\u001b[39;00m exception_value\u001b[38;5;241m.\u001b[39mwith_traceback(traceback)\n",
      "File \u001b[0;32m/opt/conda/lib/python3.8/site-packages/uproot/source/futures.py:278\u001b[0m, in \u001b[0;36m_run\u001b[0;34m()\u001b[0m\n\u001b[1;32m    277\u001b[0m \u001b[38;5;28;01mtry\u001b[39;00m:\n\u001b[0;32m--> 278\u001b[0m     \u001b[38;5;28mself\u001b[39m\u001b[38;5;241m.\u001b[39m_result \u001b[38;5;241m=\u001b[39m \u001b[38;5;28mself\u001b[39m\u001b[38;5;241m.\u001b[39m_task(resource)\n\u001b[1;32m    279\u001b[0m \u001b[38;5;28;01mexcept\u001b[39;00m \u001b[38;5;167;01mException\u001b[39;00m:\n",
      "File \u001b[0;32m/opt/conda/lib/python3.8/site-packages/uproot/source/xrootd.py:188\u001b[0m, in \u001b[0;36mtask\u001b[0;34m()\u001b[0m\n\u001b[1;32m    187\u001b[0m \u001b[38;5;28;01mdef\u001b[39;00m \u001b[38;5;21mtask\u001b[39m(resource):\n\u001b[0;32m--> 188\u001b[0m     \u001b[38;5;28;01mreturn\u001b[39;00m resource\u001b[38;5;241m.\u001b[39mget(start, stop)\n",
      "File \u001b[0;32m/opt/conda/lib/python3.8/site-packages/uproot/source/xrootd.py:169\u001b[0m, in \u001b[0;36mget\u001b[0;34m()\u001b[0m\n\u001b[1;32m    168\u001b[0m \u001b[38;5;28;01mif\u001b[39;00m status\u001b[38;5;241m.\u001b[39merror:\n\u001b[0;32m--> 169\u001b[0m     \u001b[38;5;28mself\u001b[39m\u001b[38;5;241m.\u001b[39m_xrd_error(status)\n\u001b[1;32m    170\u001b[0m \u001b[38;5;28;01mreturn\u001b[39;00m data\n",
      "File \u001b[0;32m/opt/conda/lib/python3.8/site-packages/uproot/source/xrootd.py:115\u001b[0m, in \u001b[0;36m_xrd_error\u001b[0;34m()\u001b[0m\n\u001b[1;32m    114\u001b[0m \u001b[38;5;28;01mif\u001b[39;00m status\u001b[38;5;241m.\u001b[39mcode \u001b[38;5;241m==\u001b[39m \u001b[38;5;241m101\u001b[39m \u001b[38;5;129;01mor\u001b[39;00m status\u001b[38;5;241m.\u001b[39mcode \u001b[38;5;241m==\u001b[39m \u001b[38;5;241m304\u001b[39m \u001b[38;5;129;01mor\u001b[39;00m status\u001b[38;5;241m.\u001b[39mcode \u001b[38;5;241m==\u001b[39m \u001b[38;5;241m400\u001b[39m:\n\u001b[0;32m--> 115\u001b[0m     \u001b[38;5;28;01mraise\u001b[39;00m uproot\u001b[38;5;241m.\u001b[39m_util\u001b[38;5;241m.\u001b[39m_file_not_found(\u001b[38;5;28mself\u001b[39m\u001b[38;5;241m.\u001b[39m_file_path, status\u001b[38;5;241m.\u001b[39mmessage)\n\u001b[1;32m    117\u001b[0m \u001b[38;5;28;01melse\u001b[39;00m:\n",
      "\u001b[0;31mFileNotFoundError\u001b[0m: file not found ([ERROR] Server responded with an error: [3005] Unable to read /store/user/paus/nanosu/A01/QCD_Pt_170to300_TuneCP5_13TeV_pythia8+RunIISummer20UL18MiniAODv2-106X_upgrade2018_realistic_v16_L1v1-v1+MINIAODSIM/00EDCD66-B0ED-DD4F-9545-E99D582F1898.root; no such device\n)\n\n    'root://xcache//store/user/paus/nanosu/A01/QCD_Pt_170to300_TuneCP5_13TeV_pythia8+RunIISummer20UL18MiniAODv2-106X_upgrade2018_realistic_v16_L1v1-v1+MINIAODSIM//00EDCD66-B0ED-DD4F-9545-E99D582F1898.root'\n\nFiles may be specified as:\n   * str/bytes: relative or absolute filesystem path or URL, without any colons\n         other than Windows drive letter or URL schema.\n         Examples: \"rel/file.root\", \"C:\\abs\\file.root\", \"http://where/what.root\"\n   * str/bytes: same with an object-within-ROOT path, separated by a colon.\n         Example: \"rel/file.root:tdirectory/ttree\"\n   * pathlib.Path: always interpreted as a filesystem path or URL only (no\n         object-within-ROOT path), regardless of whether there are any colons.\n         Examples: Path(\"rel:/file.root\"), Path(\"/abs/path:stuff.root\")\n\nFunctions that accept many files (uproot.iterate, etc.) also allow:\n   * glob syntax in str/bytes and pathlib.Path.\n         Examples: Path(\"rel/*.root\"), \"/abs/*.root:tdirectory/ttree\"\n   * dict: keys are filesystem paths, values are objects-within-ROOT paths.\n         Example: {\"/data_v1/*.root\": \"ttree_v1\", \"/data_v2/*.root\": \"ttree_v2\"}\n   * already-open TTree objects.\n   * iterables of the above.\n",
      "\nThe above exception was the direct cause of the following exception:\n",
      "\u001b[0;31mException\u001b[0m                                 Traceback (most recent call last)",
      "Input \u001b[0;32mIn [14]\u001b[0m, in \u001b[0;36m<cell line: 1>\u001b[0;34m()\u001b[0m\n\u001b[0;32m----> 1\u001b[0m result \u001b[38;5;241m=\u001b[39m \u001b[43mprocessor\u001b[49m\u001b[38;5;241;43m.\u001b[39;49m\u001b[43mrun_uproot_job\u001b[49m\u001b[43m(\u001b[49m\n\u001b[1;32m      2\u001b[0m \u001b[43m    \u001b[49m\u001b[43mfileset\u001b[49m\u001b[38;5;241;43m=\u001b[39;49m\u001b[38;5;124;43m\"\u001b[39;49m\u001b[38;5;124;43mfilelist/json_mit/QCD_Pt_slimmed10_xcache.json\u001b[39;49m\u001b[38;5;124;43m\"\u001b[39;49m\u001b[43m,\u001b[49m\n\u001b[1;32m      3\u001b[0m \u001b[43m    \u001b[49m\u001b[43mtreename\u001b[49m\u001b[38;5;241;43m=\u001b[39;49m\u001b[38;5;124;43m\"\u001b[39;49m\u001b[38;5;124;43mEvents\u001b[39;49m\u001b[38;5;124;43m\"\u001b[39;49m\u001b[43m,\u001b[49m\n\u001b[1;32m      4\u001b[0m \u001b[43m    \u001b[49m\u001b[43mprocessor_instance\u001b[49m\u001b[38;5;241;43m=\u001b[39;49m\u001b[43mprocessor_inst\u001b[49m\u001b[43m,\u001b[49m\n\u001b[1;32m      5\u001b[0m \u001b[43m    \u001b[49m\u001b[43mexecutor\u001b[49m\u001b[38;5;241;43m=\u001b[39;49m\u001b[43mprocessor\u001b[49m\u001b[38;5;241;43m.\u001b[39;49m\u001b[43mdask_executor\u001b[49m\u001b[43m,\u001b[49m\n\u001b[1;32m      6\u001b[0m \u001b[43m    \u001b[49m\u001b[43mexecutor_args\u001b[49m\u001b[38;5;241;43m=\u001b[39;49m\u001b[43m{\u001b[49m\n\u001b[1;32m      7\u001b[0m \u001b[43m        \u001b[49m\u001b[38;5;124;43m\"\u001b[39;49m\u001b[38;5;124;43mschema\u001b[39;49m\u001b[38;5;124;43m\"\u001b[39;49m\u001b[43m:\u001b[49m\u001b[43m \u001b[49m\u001b[43mprocessor\u001b[49m\u001b[38;5;241;43m.\u001b[39;49m\u001b[43mNanoAODSchema\u001b[49m\u001b[43m,\u001b[49m\n\u001b[1;32m      8\u001b[0m \u001b[43m        \u001b[49m\u001b[38;5;124;43m\"\u001b[39;49m\u001b[38;5;124;43mclient\u001b[39;49m\u001b[38;5;124;43m\"\u001b[39;49m\u001b[43m:\u001b[49m\u001b[43m \u001b[49m\u001b[43mclient\u001b[49m\u001b[43m,\u001b[49m\n\u001b[1;32m      9\u001b[0m \u001b[43m    \u001b[49m\u001b[43m}\u001b[49m\u001b[43m,\u001b[49m\n\u001b[1;32m     10\u001b[0m \u001b[43m    \u001b[49m\u001b[43mchunksize\u001b[49m\u001b[38;5;241;43m=\u001b[39;49m\u001b[38;5;241;43m5000\u001b[39;49m\u001b[43m,\u001b[49m\n\u001b[1;32m     11\u001b[0m \u001b[43m)\u001b[49m\n",
      "File \u001b[0;32m/opt/conda/lib/python3.8/site-packages/coffea/processor/__init__.py:104\u001b[0m, in \u001b[0;36m_run_x_job\u001b[0;34m(fileset, treename, processor_instance, executor, executor_args, pre_executor, pre_args, chunksize, maxchunks, metadata_cache, dynamic_chunksize, format)\u001b[0m\n\u001b[1;32m     93\u001b[0m \u001b[38;5;66;03m# make Runner instance, assume other args are for _work_function & co.\u001b[39;00m\n\u001b[1;32m     94\u001b[0m run \u001b[38;5;241m=\u001b[39m Runner(\n\u001b[1;32m     95\u001b[0m     executor\u001b[38;5;241m=\u001b[39mexecutor,\n\u001b[1;32m     96\u001b[0m     chunksize\u001b[38;5;241m=\u001b[39mchunksize,\n\u001b[0;32m   (...)\u001b[0m\n\u001b[1;32m    101\u001b[0m     \u001b[38;5;241m*\u001b[39m\u001b[38;5;241m*\u001b[39mexecutor_args,\n\u001b[1;32m    102\u001b[0m )\n\u001b[0;32m--> 104\u001b[0m \u001b[38;5;28;01mreturn\u001b[39;00m \u001b[43mrun\u001b[49m\u001b[43m(\u001b[49m\n\u001b[1;32m    105\u001b[0m \u001b[43m    \u001b[49m\u001b[43mfileset\u001b[49m\u001b[43m,\u001b[49m\n\u001b[1;32m    106\u001b[0m \u001b[43m    \u001b[49m\u001b[43mtreename\u001b[49m\u001b[43m,\u001b[49m\n\u001b[1;32m    107\u001b[0m \u001b[43m    \u001b[49m\u001b[43mprocessor_instance\u001b[49m\u001b[38;5;241;43m=\u001b[39;49m\u001b[43mprocessor_instance\u001b[49m\u001b[43m,\u001b[49m\n\u001b[1;32m    108\u001b[0m \u001b[43m\u001b[49m\u001b[43m)\u001b[49m\n",
      "File \u001b[0;32m/opt/conda/lib/python3.8/site-packages/coffea/processor/executor.py:1588\u001b[0m, in \u001b[0;36mRunner.__call__\u001b[0;34m(self, fileset, treename, processor_instance)\u001b[0m\n\u001b[1;32m   1567\u001b[0m \u001b[38;5;28;01mdef\u001b[39;00m \u001b[38;5;21m__call__\u001b[39m(\n\u001b[1;32m   1568\u001b[0m     \u001b[38;5;28mself\u001b[39m,\n\u001b[1;32m   1569\u001b[0m     fileset: Dict,\n\u001b[1;32m   1570\u001b[0m     treename: \u001b[38;5;28mstr\u001b[39m,\n\u001b[1;32m   1571\u001b[0m     processor_instance: ProcessorABC,\n\u001b[1;32m   1572\u001b[0m ) \u001b[38;5;241m-\u001b[39m\u001b[38;5;241m>\u001b[39m Accumulatable:\n\u001b[1;32m   1573\u001b[0m     \u001b[38;5;124;03m\"\"\"Run the processor_instance on a given fileset\u001b[39;00m\n\u001b[1;32m   1574\u001b[0m \n\u001b[1;32m   1575\u001b[0m \u001b[38;5;124;03m    Parameters\u001b[39;00m\n\u001b[0;32m   (...)\u001b[0m\n\u001b[1;32m   1585\u001b[0m \u001b[38;5;124;03m            An instance of a class deriving from ProcessorABC\u001b[39;00m\n\u001b[1;32m   1586\u001b[0m \u001b[38;5;124;03m    \"\"\"\u001b[39;00m\n\u001b[0;32m-> 1588\u001b[0m     wrapped_out \u001b[38;5;241m=\u001b[39m \u001b[38;5;28;43mself\u001b[39;49m\u001b[38;5;241;43m.\u001b[39;49m\u001b[43mrun\u001b[49m\u001b[43m(\u001b[49m\u001b[43mfileset\u001b[49m\u001b[43m,\u001b[49m\u001b[43m \u001b[49m\u001b[43mprocessor_instance\u001b[49m\u001b[43m,\u001b[49m\u001b[43m \u001b[49m\u001b[43mtreename\u001b[49m\u001b[43m)\u001b[49m\n\u001b[1;32m   1589\u001b[0m     \u001b[38;5;28;01mif\u001b[39;00m \u001b[38;5;28mself\u001b[39m\u001b[38;5;241m.\u001b[39muse_dataframes:\n\u001b[1;32m   1590\u001b[0m         \u001b[38;5;28;01mreturn\u001b[39;00m wrapped_out  \u001b[38;5;66;03m# not wrapped anymore\u001b[39;00m\n",
      "File \u001b[0;32m/opt/conda/lib/python3.8/site-packages/coffea/processor/executor.py:1738\u001b[0m, in \u001b[0;36mRunner.run\u001b[0;34m(self, fileset, processor_instance, treename)\u001b[0m\n\u001b[1;32m   1732\u001b[0m closure \u001b[38;5;241m=\u001b[39m partial(\n\u001b[1;32m   1733\u001b[0m     \u001b[38;5;28mself\u001b[39m\u001b[38;5;241m.\u001b[39mautomatic_retries, \u001b[38;5;28mself\u001b[39m\u001b[38;5;241m.\u001b[39mretries, \u001b[38;5;28mself\u001b[39m\u001b[38;5;241m.\u001b[39mskipbadfiles, closure\n\u001b[1;32m   1734\u001b[0m )\n\u001b[1;32m   1736\u001b[0m executor \u001b[38;5;241m=\u001b[39m \u001b[38;5;28mself\u001b[39m\u001b[38;5;241m.\u001b[39mexecutor\u001b[38;5;241m.\u001b[39mcopy(\u001b[38;5;241m*\u001b[39m\u001b[38;5;241m*\u001b[39mexe_args)\n\u001b[0;32m-> 1738\u001b[0m wrapped_out, e \u001b[38;5;241m=\u001b[39m \u001b[43mexecutor\u001b[49m\u001b[43m(\u001b[49m\u001b[43mchunks\u001b[49m\u001b[43m,\u001b[49m\u001b[43m \u001b[49m\u001b[43mclosure\u001b[49m\u001b[43m,\u001b[49m\u001b[43m \u001b[49m\u001b[38;5;28;43;01mNone\u001b[39;49;00m\u001b[43m)\u001b[49m\n\u001b[1;32m   1739\u001b[0m \u001b[38;5;28;01mif\u001b[39;00m wrapped_out \u001b[38;5;129;01mis\u001b[39;00m \u001b[38;5;28;01mNone\u001b[39;00m:\n\u001b[1;32m   1740\u001b[0m     \u001b[38;5;28;01mraise\u001b[39;00m \u001b[38;5;167;01mValueError\u001b[39;00m(\n\u001b[1;32m   1741\u001b[0m         \u001b[38;5;124m\"\u001b[39m\u001b[38;5;124mNo chunks returned results, verify ``processor`` instance structure.\u001b[39m\u001b[38;5;124m\"\u001b[39m\n\u001b[1;32m   1742\u001b[0m     )\n",
      "File \u001b[0;32m/opt/conda/lib/python3.8/site-packages/coffea/processor/executor.py:970\u001b[0m, in \u001b[0;36mDaskExecutor.__call__\u001b[0;34m(self, items, function, accumulator)\u001b[0m\n\u001b[1;32m    963\u001b[0m         \u001b[38;5;66;03m# FIXME: fancy widget doesn't appear, have to live with boring pbar\u001b[39;00m\n\u001b[1;32m    964\u001b[0m         progress(work, multi\u001b[38;5;241m=\u001b[39m\u001b[38;5;28;01mTrue\u001b[39;00m, notebook\u001b[38;5;241m=\u001b[39m\u001b[38;5;28;01mFalse\u001b[39;00m)\n\u001b[1;32m    965\u001b[0m     \u001b[38;5;28;01mreturn\u001b[39;00m (\n\u001b[1;32m    966\u001b[0m         accumulate(\n\u001b[1;32m    967\u001b[0m             [\n\u001b[1;32m    968\u001b[0m                 work\u001b[38;5;241m.\u001b[39mresult()\n\u001b[1;32m    969\u001b[0m                 \u001b[38;5;28;01mif\u001b[39;00m \u001b[38;5;28mself\u001b[39m\u001b[38;5;241m.\u001b[39mcompression \u001b[38;5;129;01mis\u001b[39;00m \u001b[38;5;28;01mNone\u001b[39;00m\n\u001b[0;32m--> 970\u001b[0m                 \u001b[38;5;28;01melse\u001b[39;00m _decompress(\u001b[43mwork\u001b[49m\u001b[38;5;241;43m.\u001b[39;49m\u001b[43mresult\u001b[49m\u001b[43m(\u001b[49m\u001b[43m)\u001b[49m)\n\u001b[1;32m    971\u001b[0m             ],\n\u001b[1;32m    972\u001b[0m             accumulator,\n\u001b[1;32m    973\u001b[0m         ),\n\u001b[1;32m    974\u001b[0m         \u001b[38;5;241m0\u001b[39m,\n\u001b[1;32m    975\u001b[0m     )\n\u001b[1;32m    976\u001b[0m \u001b[38;5;28;01mexcept\u001b[39;00m KilledWorker \u001b[38;5;28;01mas\u001b[39;00m ex:\n\u001b[1;32m    977\u001b[0m     baditem \u001b[38;5;241m=\u001b[39m key_to_item[ex\u001b[38;5;241m.\u001b[39mtask]\n",
      "File \u001b[0;32m/opt/conda/lib/python3.8/site-packages/distributed/client.py:282\u001b[0m, in \u001b[0;36mFuture.result\u001b[0;34m(self, timeout)\u001b[0m\n\u001b[1;32m    280\u001b[0m \u001b[38;5;28;01mif\u001b[39;00m \u001b[38;5;28mself\u001b[39m\u001b[38;5;241m.\u001b[39mstatus \u001b[38;5;241m==\u001b[39m \u001b[38;5;124m\"\u001b[39m\u001b[38;5;124merror\u001b[39m\u001b[38;5;124m\"\u001b[39m:\n\u001b[1;32m    281\u001b[0m     typ, exc, tb \u001b[38;5;241m=\u001b[39m result\n\u001b[0;32m--> 282\u001b[0m     \u001b[38;5;28;01mraise\u001b[39;00m exc\u001b[38;5;241m.\u001b[39mwith_traceback(tb)\n\u001b[1;32m    283\u001b[0m \u001b[38;5;28;01melif\u001b[39;00m \u001b[38;5;28mself\u001b[39m\u001b[38;5;241m.\u001b[39mstatus \u001b[38;5;241m==\u001b[39m \u001b[38;5;124m\"\u001b[39m\u001b[38;5;124mcancelled\u001b[39m\u001b[38;5;124m\"\u001b[39m:\n\u001b[1;32m    284\u001b[0m     \u001b[38;5;28;01mraise\u001b[39;00m result\n",
      "File \u001b[0;32m/opt/conda/lib/python3.8/site-packages/coffea/processor/executor.py:220\u001b[0m, in \u001b[0;36m__call__\u001b[0;34m()\u001b[0m\n\u001b[1;32m    219\u001b[0m \u001b[38;5;28;01mdef\u001b[39;00m \u001b[38;5;21m__call__\u001b[39m(\u001b[38;5;28mself\u001b[39m, \u001b[38;5;241m*\u001b[39margs, \u001b[38;5;241m*\u001b[39m\u001b[38;5;241m*\u001b[39mkwargs):\n\u001b[0;32m--> 220\u001b[0m     out \u001b[38;5;241m=\u001b[39m \u001b[38;5;28mself\u001b[39m\u001b[38;5;241m.\u001b[39mfunction(\u001b[38;5;241m*\u001b[39margs, \u001b[38;5;241m*\u001b[39m\u001b[38;5;241m*\u001b[39mkwargs)\n\u001b[1;32m    221\u001b[0m     \u001b[38;5;28;01mreturn\u001b[39;00m _compress(out, \u001b[38;5;28mself\u001b[39m\u001b[38;5;241m.\u001b[39mlevel)\n",
      "File \u001b[0;32m/opt/conda/lib/python3.8/site-packages/coffea/processor/executor.py:1292\u001b[0m, in \u001b[0;36mautomatic_retries\u001b[0;34m()\u001b[0m\n\u001b[1;32m   1286\u001b[0m         \u001b[38;5;28;01mbreak\u001b[39;00m\n\u001b[1;32m   1287\u001b[0m     \u001b[38;5;28;01mif\u001b[39;00m (\n\u001b[1;32m   1288\u001b[0m         \u001b[38;5;129;01mnot\u001b[39;00m skipbadfiles\n\u001b[1;32m   1289\u001b[0m         \u001b[38;5;129;01mor\u001b[39;00m \u001b[38;5;28many\u001b[39m(\u001b[38;5;124m\"\u001b[39m\u001b[38;5;124mAuth failed\u001b[39m\u001b[38;5;124m\"\u001b[39m \u001b[38;5;129;01min\u001b[39;00m \u001b[38;5;28mstr\u001b[39m(c) \u001b[38;5;28;01mfor\u001b[39;00m c \u001b[38;5;129;01min\u001b[39;00m chain)\n\u001b[1;32m   1290\u001b[0m         \u001b[38;5;129;01mor\u001b[39;00m retries \u001b[38;5;241m==\u001b[39m retry_count\n\u001b[1;32m   1291\u001b[0m     ):\n\u001b[0;32m-> 1292\u001b[0m         \u001b[38;5;28;01mraise\u001b[39;00m e\n\u001b[1;32m   1293\u001b[0m     warnings\u001b[38;5;241m.\u001b[39mwarn(\u001b[38;5;124m\"\u001b[39m\u001b[38;5;124mAttempt \u001b[39m\u001b[38;5;132;01m%d\u001b[39;00m\u001b[38;5;124m of \u001b[39m\u001b[38;5;132;01m%d\u001b[39;00m\u001b[38;5;124m.\u001b[39m\u001b[38;5;124m\"\u001b[39m \u001b[38;5;241m%\u001b[39m (retry_count \u001b[38;5;241m+\u001b[39m \u001b[38;5;241m1\u001b[39m, retries \u001b[38;5;241m+\u001b[39m \u001b[38;5;241m1\u001b[39m))\n\u001b[1;32m   1294\u001b[0m retry_count \u001b[38;5;241m+\u001b[39m\u001b[38;5;241m=\u001b[39m \u001b[38;5;241m1\u001b[39m\n",
      "File \u001b[0;32m/opt/conda/lib/python3.8/site-packages/coffea/processor/executor.py:1277\u001b[0m, in \u001b[0;36mautomatic_retries\u001b[0;34m()\u001b[0m\n\u001b[1;32m   1275\u001b[0m \u001b[38;5;28;01mwhile\u001b[39;00m retry_count \u001b[38;5;241m<\u001b[39m\u001b[38;5;241m=\u001b[39m retries:\n\u001b[1;32m   1276\u001b[0m     \u001b[38;5;28;01mtry\u001b[39;00m:\n\u001b[0;32m-> 1277\u001b[0m         \u001b[38;5;28;01mreturn\u001b[39;00m func(\u001b[38;5;241m*\u001b[39margs, \u001b[38;5;241m*\u001b[39m\u001b[38;5;241m*\u001b[39mkwargs)\n\u001b[1;32m   1278\u001b[0m     \u001b[38;5;66;03m# catch xrootd errors and optionally skip\u001b[39;00m\n\u001b[1;32m   1279\u001b[0m     \u001b[38;5;66;03m# or retry to read the file\u001b[39;00m\n\u001b[1;32m   1280\u001b[0m     \u001b[38;5;28;01mexcept\u001b[39;00m \u001b[38;5;167;01mException\u001b[39;00m \u001b[38;5;28;01mas\u001b[39;00m e:\n",
      "File \u001b[0;32m/opt/conda/lib/python3.8/site-packages/coffea/processor/executor.py:1544\u001b[0m, in \u001b[0;36m_work_function\u001b[0;34m()\u001b[0m\n\u001b[1;32m   1542\u001b[0m     out \u001b[38;5;241m=\u001b[39m processor_instance\u001b[38;5;241m.\u001b[39mprocess(events)\n\u001b[1;32m   1543\u001b[0m \u001b[38;5;28;01mexcept\u001b[39;00m \u001b[38;5;167;01mException\u001b[39;00m \u001b[38;5;28;01mas\u001b[39;00m e:\n\u001b[0;32m-> 1544\u001b[0m     \u001b[38;5;28;01mraise\u001b[39;00m \u001b[38;5;167;01mException\u001b[39;00m(\u001b[38;5;124mf\u001b[39m\u001b[38;5;124m\"\u001b[39m\u001b[38;5;124mFailed processing file: \u001b[39m\u001b[38;5;132;01m{\u001b[39;00mitem\u001b[38;5;132;01m!r}\u001b[39;00m\u001b[38;5;124m\"\u001b[39m) \u001b[38;5;28;01mfrom\u001b[39;00m \u001b[38;5;21;01me\u001b[39;00m\n\u001b[1;32m   1545\u001b[0m \u001b[38;5;28;01mif\u001b[39;00m out \u001b[38;5;129;01mis\u001b[39;00m \u001b[38;5;28;01mNone\u001b[39;00m:\n\u001b[1;32m   1546\u001b[0m     \u001b[38;5;28;01mraise\u001b[39;00m \u001b[38;5;167;01mValueError\u001b[39;00m(\n\u001b[1;32m   1547\u001b[0m         \u001b[38;5;124m\"\u001b[39m\u001b[38;5;124mOutput of process() should not be None. Make sure your processor\u001b[39m\u001b[38;5;124m'\u001b[39m\u001b[38;5;124ms process() function returns an accumulator.\u001b[39m\u001b[38;5;124m\"\u001b[39m\n\u001b[1;32m   1548\u001b[0m     )\n",
      "\u001b[0;31mException\u001b[0m: Failed processing file: WorkItem(dataset='QCD_Pt_170to300+RunIISummer20UL18', filename='root://xcache//store/user/paus/nanosu/A01/QCD_Pt_170to300_TuneCP5_13TeV_pythia8+RunIISummer20UL18MiniAODv2-106X_upgrade2018_realistic_v16_L1v1-v1+MINIAODSIM//00EDCD66-B0ED-DD4F-9545-E99D582F1898.root', treename='Events', entrystart=38400, entrystop=43200, fileuuid=b'n\\x13\\xa5\\x06/\\x88\\x11\\xec\\x8f\\x89\\x05\\x1b=\\x86\\xbe\\xef', usermeta={})"
     ]
    }
   ],
   "source": [
    "result = processor.run_uproot_job(\n",
    "    fileset=\"filelist/json_mit/QCD_Pt_slimmed10_xcache.json\",\n",
    "    treename=\"Events\",\n",
    "    processor_instance=processor_inst,\n",
    "    executor=processor.dask_executor,\n",
    "    executor_args={\n",
    "        \"schema\": processor.NanoAODSchema,\n",
    "        \"client\": client,\n",
    "    },\n",
    "    chunksize=5000,\n",
    ")"
   ]
  },
  {
   "cell_type": "code",
   "execution_count": 7,
   "id": "1994dd56-5250-4e50-961a-7399be77bf54",
   "metadata": {},
   "outputs": [],
   "source": [
    "rslt_pd = {}\n",
    "for dataset in result:\n",
    "    rslt_pd[dataset] = {}\n",
    "    rslt_pd[dataset]['gensum'] = result[dataset]['out_weight'].value\n",
    "    del result[dataset]['out_weight']\n",
    "    rslt_pd[dataset]['dataframe'] = pd.DataFrame.from_dict(result[dataset])"
   ]
  },
  {
   "cell_type": "code",
   "execution_count": 7,
   "id": "e9bea8d4-2147-44e2-922b-5a847c56e547",
   "metadata": {},
   "outputs": [],
   "source": [
    "for key in rslt_pd:\n",
    "    processor_inst.gensumweight = rslt_pd[dataset]['gensum']\n",
    "    pandas_utils.save_dfs(\n",
    "        processor_inst, \n",
    "        dfs=[rslt_pd[key]['dataframe']], \n",
    "        df_names=[\"vars\"], \n",
    "        fname=f\"{key}.hdf5\"\n",
    "    )"
   ]
  },
  {
   "cell_type": "code",
   "execution_count": null,
   "id": "1b5f4b4e-fdf8-4ab2-94b9-79f64d98609c",
   "metadata": {},
   "outputs": [],
   "source": []
  }
 ],
 "metadata": {
  "kernelspec": {
   "display_name": "Python 3 (ipykernel)",
   "language": "python",
   "name": "python3"
  },
  "language_info": {
   "codemirror_mode": {
    "name": "ipython",
    "version": 3
   },
   "file_extension": ".py",
   "mimetype": "text/x-python",
   "name": "python",
   "nbconvert_exporter": "python",
   "pygments_lexer": "ipython3",
   "version": "3.8.13"
  }
 },
 "nbformat": 4,
 "nbformat_minor": 5
}
