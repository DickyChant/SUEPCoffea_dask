{
 "cells": [
  {
   "cell_type": "markdown",
   "id": "42122d96-7cc1-46e7-b2ba-2aac194586a7",
   "metadata": {},
   "source": [
    "# Trigger explanation"
   ]
  },
  {
   "cell_type": "markdown",
   "id": "a134d344-e082-4911-b774-80ee7b600547",
   "metadata": {},
   "source": [
    "In CMS we have two HLT triple μ configurations: `HLT_TripleMu_5_3_3_Mass3p8_DZ` and `HLT_TripleMu_5_3_3_Mass3p8_DCA`.\n",
    "First let's have a look at the HLT configurations:"
   ]
  },
  {
   "cell_type": "code",
   "execution_count": null,
   "id": "89c2d01e-dc3d-4d2c-a350-15ae4a626eb2",
   "metadata": {},
   "outputs": [],
   "source": [
    "process.HLT_TripleMu_5_3_3_Mass3p8_DZ_v8 = cms.Path( \n",
    "    process.HLTBeginSequence \n",
    "    + process.hltL1sTripleMu0IorTripleMu553 \n",
    "    \n",
    "    + process.hltPreTripleMu533Mass3p8DZ \n",
    "    \n",
    "    + process.hltL1TripleMu553L1TriMuFiltered3 \n",
    "    + process.HLTL2muonrecoSequence \n",
    "    + cms.ignore(process.hltL1TripleMu553L2TriMuFiltered3) \n",
    "    + process.HLTL3muonrecoSequence \n",
    "    + cms.ignore(process.hltL1fForIterL3L1TripleMu553L1TriMuFiltered3) \n",
    "    + process.hltL3fL1TripleMu553f0PreFiltered333 \n",
    "    + process.hltL3fL1TripleMu553f0Filtered533 \n",
    "    \n",
    "    + process.hltTripleMu533TripleDZ0p2 \n",
    "    + process.hltTripleMu533Mass3p8toInfFilter \n",
    "    \n",
    "    + process.HLTEndSequence \n",
    ")\n",
    "\n",
    "process.HLT_TripleMu_5_3_3_Mass3p8_DCA_v3 = cms.Path( \n",
    "    process.HLTBeginSequence \n",
    "    + process.hltL1sTripleMu0IorTripleMu553 \n",
    "    \n",
    "    + process.hltPreTripleMu533Mass3p8DCA \n",
    "    \n",
    "    + process.hltL1TripleMu553L1TriMuFiltered3 \n",
    "    + process.HLTL2muonrecoSequence \n",
    "    + cms.ignore(process.hltL1TripleMu553L2TriMuFiltered3) \n",
    "    + process.HLTL3muonrecoSequence \n",
    "    + cms.ignore(process.hltL1fForIterL3L1TripleMu553L1TriMuFiltered3) \n",
    "    + process.hltL3fL1TripleMu553f0PreFiltered333 \n",
    "    + process.hltL3fL1TripleMu553f0Filtered533 \n",
    "    \n",
    "    + process.hltTripleMu533Mass3p8DCAFilter \n",
    "    \n",
    "    + process.HLTEndSequence \n",
    ")"
   ]
  },
  {
   "cell_type": "markdown",
   "id": "24b06787-344c-4186-8c05-5e8fa70e1122",
   "metadata": {},
   "source": [
    "Note the following:\n",
    " - DCA: the three-dimensional (3D) distance of closest approach (DCA) between the two μ. (maxDCA = 0.5 cm)\n",
    " - DZ: max DZ between μ pairs. (maxDZ = 0.2 cm)\n",
    " - Mass3p8: invariant mass of any μμ pair > 3.8 GeV (to avoid peaks by J/ψ and ψ' mesons)"
   ]
  },
  {
   "cell_type": "code",
   "execution_count": null,
   "id": "d13c2e3d-421d-4843-9850-f21042101506",
   "metadata": {},
   "outputs": [],
   "source": []
  }
 ],
 "metadata": {
  "kernelspec": {
   "display_name": "Python 3 (ipykernel)",
   "language": "python",
   "name": "python3"
  },
  "language_info": {
   "codemirror_mode": {
    "name": "ipython",
    "version": 3
   },
   "file_extension": ".py",
   "mimetype": "text/x-python",
   "name": "python",
   "nbconvert_exporter": "python",
   "pygments_lexer": "ipython3",
   "version": "3.8.13"
  }
 },
 "nbformat": 4,
 "nbformat_minor": 5
}
