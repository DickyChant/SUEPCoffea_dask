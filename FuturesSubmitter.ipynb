{
 "cells": [
  {
   "cell_type": "code",
   "execution_count": 1,
   "id": "99caee00-6931-4288-9ebc-099242bbe93c",
   "metadata": {},
   "outputs": [],
   "source": [
    "import os, sys, glob\n",
    "import pandas as pd\n",
    "import json\n",
    "import argparse\n",
    "import time\n",
    "import numpy\n",
    "from tqdm import tqdm\n",
    "\n",
    "# Import coffea specific features\n",
    "from coffea import processor\n",
    "\n",
    "# SUEP Repo Specific\n",
    "from workflows import SUEP_coffea\n",
    "from workflows import merger"
   ]
  },
  {
   "cell_type": "code",
   "execution_count": 2,
   "id": "63d6cae5-fd19-4d1f-8547-c34704646e90",
   "metadata": {},
   "outputs": [],
   "source": [
    "out_dir = os.getcwd()\n",
    "modules_era = []\n",
    "\n",
    "modules_era.append(\n",
    "    SUEP_coffea.SUEP_cluster(\n",
    "        isMC=1,\n",
    "        era=2018,\n",
    "        do_syst=1,\n",
    "        syst_var=\"\",\n",
    "        sample=\"SUEP_m400_darkPhoHad\",\n",
    "        weight_syst=\"\",\n",
    "        flag=False,\n",
    "        output_location=out_dir,\n",
    "    )\n",
    ")"
   ]
  },
  {
   "cell_type": "code",
   "execution_count": 3,
   "id": "fd3941a5-4e72-4741-a514-bfa8f30b1402",
   "metadata": {},
   "outputs": [
    {
     "data": {
      "application/vnd.jupyter.widget-view+json": {
       "model_id": "5c9463c2a9a24c4e9d95c0d621e1a6ce",
       "version_major": 2,
       "version_minor": 0
      },
      "text/plain": [
       "Output()"
      ]
     },
     "metadata": {},
     "output_type": "display_data"
    },
    {
     "data": {
      "text/html": [
       "<pre style=\"white-space:pre;overflow-x:auto;line-height:normal;font-family:Menlo,'DejaVu Sans Mono',consolas,'Courier New',monospace\"></pre>\n"
      ],
      "text/plain": []
     },
     "metadata": {},
     "output_type": "display_data"
    },
    {
     "data": {
      "text/html": [
       "<pre style=\"white-space:pre;overflow-x:auto;line-height:normal;font-family:Menlo,'DejaVu Sans Mono',consolas,'Courier New',monospace\">\n",
       "</pre>\n"
      ],
      "text/plain": [
       "\n"
      ]
     },
     "metadata": {},
     "output_type": "display_data"
    },
    {
     "data": {
      "application/vnd.jupyter.widget-view+json": {
       "model_id": "c9518641482a4bc989069cca30e6bf99",
       "version_major": 2,
       "version_minor": 0
      },
      "text/plain": [
       "Output()"
      ]
     },
     "metadata": {},
     "output_type": "display_data"
    },
    {
     "name": "stdout",
     "output_type": "stream",
     "text": [
      "#--------------------------------------------------------------------------\n",
      "#                         FastJet release 3.3.4\n",
      "#                 M. Cacciari, G.P. Salam and G. Soyez                  \n",
      "#     A software package for jet finding and analysis at colliders      \n",
      "#                           http://fastjet.fr                           \n",
      "#\t                                                                      \n",
      "# Please cite EPJC72(2012)1896 [arXiv:1111.6097] if you use this package\n",
      "# for scientific work and optionally PLB641(2006)57 [hep-ph/0512210].   \n",
      "#                                                                       \n",
      "# FastJet is provided without warranty under the GNU GPL v2 or higher.  \n",
      "# It uses T. Chan's closest pair algorithm, S. Fortune's Voronoi code\n",
      "# and 3rd party plugin jet algorithms. See COPYING file for details.\n",
      "#--------------------------------------------------------------------------\n"
     ]
    },
    {
     "data": {
      "text/html": [
       "<pre style=\"white-space:pre;overflow-x:auto;line-height:normal;font-family:Menlo,'DejaVu Sans Mono',consolas,'Courier New',monospace\"></pre>\n"
      ],
      "text/plain": []
     },
     "metadata": {},
     "output_type": "display_data"
    },
    {
     "data": {
      "text/html": [
       "<pre style=\"white-space:pre;overflow-x:auto;line-height:normal;font-family:Menlo,'DejaVu Sans Mono',consolas,'Courier New',monospace\">\n",
       "</pre>\n"
      ],
      "text/plain": [
       "\n"
      ]
     },
     "metadata": {},
     "output_type": "display_data"
    }
   ],
   "source": [
    "redirector = \"root://xcache/\"\n",
    "path = (\n",
    "    \"/store/user/chpapage/SUEPnano/\"\n",
    ")\n",
    "\n",
    "for instance in modules_era:\n",
    "    executor = processor.FuturesExecutor(\n",
    "        workers = 2\n",
    "    )\n",
    "    run = processor.Runner(\n",
    "        executor = executor,\n",
    "        schema = processor.NanoAODSchema,\n",
    "    )    \n",
    "    output = run(\n",
    "        {instance.sample: [redirector + path + \"SUEP-m400-darkPhoHad.root\"]},\n",
    "        treename = \"Events\",\n",
    "        processor_instance = instance,\n",
    "    )"
   ]
  },
  {
   "cell_type": "code",
   "execution_count": 4,
   "id": "bc35de8a-1626-4413-b593-3b3aba4ca296",
   "metadata": {},
   "outputs": [],
   "source": [
    "merger.merge(1)"
   ]
  },
  {
   "cell_type": "code",
   "execution_count": null,
   "id": "d8769228-24bd-4ad7-a98d-965da319da09",
   "metadata": {},
   "outputs": [],
   "source": []
  }
 ],
 "metadata": {
  "kernelspec": {
   "display_name": "Python 3 (ipykernel)",
   "language": "python",
   "name": "python3"
  },
  "language_info": {
   "codemirror_mode": {
    "name": "ipython",
    "version": 3
   },
   "file_extension": ".py",
   "mimetype": "text/x-python",
   "name": "python",
   "nbconvert_exporter": "python",
   "pygments_lexer": "ipython3",
   "version": "3.8.13"
  }
 },
 "nbformat": 4,
 "nbformat_minor": 5
}
