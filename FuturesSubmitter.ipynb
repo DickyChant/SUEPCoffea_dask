{
 "cells": [
  {
   "cell_type": "code",
   "execution_count": 1,
   "id": "99caee00-6931-4288-9ebc-099242bbe93c",
   "metadata": {},
   "outputs": [],
   "source": [
    "import os, sys, glob\n",
    "import pandas as pd\n",
    "import json\n",
    "import argparse\n",
    "import time\n",
    "import numpy\n",
    "from tqdm import tqdm\n",
    "\n",
    "# Import coffea specific features\n",
    "from coffea import processor\n",
    "\n",
    "# SUEP Repo Specific\n",
    "import SUEP_coffea"
   ]
  },
  {
   "cell_type": "code",
   "execution_count": 2,
   "id": "63d6cae5-fd19-4d1f-8547-c34704646e90",
   "metadata": {},
   "outputs": [],
   "source": [
    "processor_inst = SUEP_coffea.SUEP_cluster(\n",
    "    isMC=1,\n",
    "    era=2018,\n",
    "    do_syst=1,\n",
    "    syst_var=\"\",\n",
    "    sample=\"QCD_Pt+RunIISummer20UL18\",\n",
    "    weight_syst=\"\",\n",
    "    flag=False,\n",
    "    output_location='/home/cms-jovyan/SUEPCoffea_dask'\n",
    ")"
   ]
  },
  {
   "cell_type": "code",
   "execution_count": 3,
   "id": "8cafbeeb-3454-42b8-bdbe-1c8de4c61353",
   "metadata": {},
   "outputs": [
    {
     "data": {
      "application/vnd.jupyter.widget-view+json": {
       "model_id": "f18e3fbbff25477db6f3b7f1be06a47b",
       "version_major": 2,
       "version_minor": 0
      },
      "text/plain": [
       "Output()"
      ]
     },
     "metadata": {},
     "output_type": "display_data"
    },
    {
     "data": {
      "text/html": [
       "<pre style=\"white-space:pre;overflow-x:auto;line-height:normal;font-family:Menlo,'DejaVu Sans Mono',consolas,'Courier New',monospace\"></pre>\n"
      ],
      "text/plain": []
     },
     "metadata": {},
     "output_type": "display_data"
    },
    {
     "data": {
      "text/html": [
       "<pre style=\"white-space:pre;overflow-x:auto;line-height:normal;font-family:Menlo,'DejaVu Sans Mono',consolas,'Courier New',monospace\">\n",
       "</pre>\n"
      ],
      "text/plain": [
       "\n"
      ]
     },
     "metadata": {},
     "output_type": "display_data"
    },
    {
     "data": {
      "application/vnd.jupyter.widget-view+json": {
       "model_id": "19da9e64a6fa439aba383ef45eb644df",
       "version_major": 2,
       "version_minor": 0
      },
      "text/plain": [
       "Output()"
      ]
     },
     "metadata": {},
     "output_type": "display_data"
    },
    {
     "name": "stdout",
     "output_type": "stream",
     "text": [
      "[QCD_Pt_80to120+RunIISummer20UL18]: No events passed trigger. Saving empty outputs.\n",
      "[QCD_Pt_80to120+RunIISummer20UL18]: No events passed trigger. Saving empty outputs.\n",
      "[QCD_Pt_80to120+RunIISummer20UL18]: No events passed trigger. Saving empty outputs.\n",
      "[QCD_Pt_80to120+RunIISummer20UL18]: No events passed trigger. Saving empty outputs.\n",
      "[QCD_Pt_80to120+RunIISummer20UL18]: No events passed trigger. Saving empty outputs.\n",
      "[QCD_Pt_80to120+RunIISummer20UL18]: No events passed trigger. Saving empty outputs.\n",
      "[QCD_Pt_80to120+RunIISummer20UL18]: No events passed trigger. Saving empty outputs.\n",
      "[QCD_Pt_80to120+RunIISummer20UL18]: No events passed trigger. Saving empty outputs.\n",
      "[QCD_Pt_80to120+RunIISummer20UL18]: No events passed trigger. Saving empty outputs.\n",
      "[QCD_Pt_80to120+RunIISummer20UL18]: No events passed trigger. Saving empty outputs.\n",
      "[QCD_Pt_80to120+RunIISummer20UL18]: No events passed trigger. Saving empty outputs.\n",
      "[QCD_Pt_80to120+RunIISummer20UL18]: No events passed trigger. Saving empty outputs.\n",
      "[QCD_Pt_80to120+RunIISummer20UL18]: No events passed trigger. Saving empty outputs.\n",
      "[QCD_Pt_80to120+RunIISummer20UL18]: No events passed trigger. Saving empty outputs.\n",
      "[QCD_Pt_80to120+RunIISummer20UL18]: No events passed trigger. Saving empty outputs.\n",
      "[QCD_Pt_80to120+RunIISummer20UL18]: No events passed trigger. Saving empty outputs.\n",
      "[QCD_Pt_80to120+RunIISummer20UL18]: No events passed trigger. Saving empty outputs.\n",
      "[QCD_Pt_80to120+RunIISummer20UL18]: No events passed trigger. Saving empty outputs.\n",
      "[QCD_Pt_80to120+RunIISummer20UL18]: No events pass clusterCut.\n",
      "#--------------------------------------------------------------------------\n",
      "#                         FastJet release 3.3.4\n",
      "#                 M. Cacciari, G.P. Salam and G. Soyez                  \n",
      "#     A software package for jet finding and analysis at colliders      \n",
      "#                           http://fastjet.fr                           \n",
      "#\t                                                                      \n",
      "# Please cite EPJC72(2012)1896 [arXiv:1111.6097] if you use this package\n",
      "# for scientific work and optionally PLB641(2006)57 [hep-ph/0512210].   \n",
      "#                                                                       \n",
      "# FastJet is provided without warranty under the GNU GPL v2 or higher.  \n",
      "# It uses T. Chan's closest pair algorithm, S. Fortune's Voronoi code\n",
      "# and 3rd party plugin jet algorithms. See COPYING file for details.\n",
      "#--------------------------------------------------------------------------\n",
      "#--------------------------------------------------------------------------\n",
      "#                         FastJet release 3.3.4\n",
      "#                 M. Cacciari, G.P. Salam and G. Soyez                  \n",
      "#     A software package for jet finding and analysis at colliders      \n",
      "#                           http://fastjet.fr                           \n",
      "#\t                                                                      \n",
      "# Please cite EPJC72(2012)1896 [arXiv:1111.6097] if you use this package\n",
      "# for scientific work and optionally PLB641(2006)57 [hep-ph/0512210].   \n",
      "#                                                                       \n",
      "# FastJet is provided without warranty under the GNU GPL v2 or higher.  \n",
      "# It uses T. Chan's closest pair algorithm, S. Fortune's Voronoi code\n",
      "# and 3rd party plugin jet algorithms. See COPYING file for details.\n",
      "#--------------------------------------------------------------------------\n",
      "#--------------------------------------------------------------------------\n",
      "#                         FastJet release 3.3.4\n",
      "#                 M. Cacciari, G.P. Salam and G. Soyez                  \n",
      "#     A software package for jet finding and analysis at colliders      \n",
      "#                           http://fastjet.fr                           \n",
      "#\t                                                                      \n",
      "# Please cite EPJC72(2012)1896 [arXiv:1111.6097] if you use this package\n",
      "# for scientific work and optionally PLB641(2006)57 [hep-ph/0512210].   \n",
      "#                                                                       \n",
      "# FastJet is provided without warranty under the GNU GPL v2 or higher.  \n",
      "# It uses T. Chan's closest pair algorithm, S. Fortune's Voronoi code\n",
      "# and 3rd party plugin jet algorithms. See COPYING file for details.\n",
      "#--------------------------------------------------------------------------\n",
      "#--------------------------------------------------------------------------\n",
      "#                         FastJet release 3.3.4\n",
      "#                 M. Cacciari, G.P. Salam and G. Soyez                  \n",
      "#     A software package for jet finding and analysis at colliders      \n",
      "#                           http://fastjet.fr                           \n",
      "#\t                                                                      \n",
      "# Please cite EPJC72(2012)1896 [arXiv:1111.6097] if you use this package\n",
      "# for scientific work and optionally PLB641(2006)57 [hep-ph/0512210].   \n",
      "#                                                                       \n",
      "# FastJet is provided without warranty under the GNU GPL v2 or higher.  \n",
      "# It uses T. Chan's closest pair algorithm, S. Fortune's Voronoi code\n",
      "# and 3rd party plugin jet algorithms. See COPYING file for details.\n",
      "#--------------------------------------------------------------------------\n",
      "[QCD_Pt_800to1000+RunIISummer20UL18]: No events pass clusterCut.\n",
      "[QCD_Pt_800to1000+RunIISummer20UL18]: No events passed trigger. Saving empty outputs.\n",
      "[QCD_Pt_800to1000+RunIISummer20UL18]: No events passed trigger. Saving empty outputs.\n",
      "[QCD_Pt_600to800+RunIISummer20UL18]: No events passed trigger. Saving empty outputs.\n",
      "[QCD_Pt_600to800+RunIISummer20UL18]: No events passed trigger. Saving empty outputs.\n",
      "[QCD_Pt_600to800+RunIISummer20UL18]: No events passed trigger. Saving empty outputs.\n",
      "[QCD_Pt_600to800+RunIISummer20UL18]: No events passed trigger. Saving empty outputs.\n",
      "[QCD_Pt_50to80+RunIISummer20UL18]: No events passed trigger. Saving empty outputs.\n",
      "[QCD_Pt_50to80+RunIISummer20UL18]: No events passed trigger. Saving empty outputs.\n",
      "[QCD_Pt_50to80+RunIISummer20UL18]: No events passed trigger. Saving empty outputs.\n",
      "[QCD_Pt_50to80+RunIISummer20UL18]: No events passed trigger. Saving empty outputs.\n",
      "[QCD_Pt_50to80+RunIISummer20UL18]: No events passed trigger. Saving empty outputs.\n",
      "[QCD_Pt_50to80+RunIISummer20UL18]: No events passed trigger. Saving empty outputs.\n",
      "[QCD_Pt_50to80+RunIISummer20UL18]: No events passed trigger. Saving empty outputs.\n",
      "[QCD_Pt_50to80+RunIISummer20UL18]: No events passed trigger. Saving empty outputs.\n",
      "[QCD_Pt_50to80+RunIISummer20UL18]: No events passed trigger. Saving empty outputs.\n",
      "[QCD_Pt_50to80+RunIISummer20UL18]: No events passed trigger. Saving empty outputs.\n",
      "[QCD_Pt_50to80+RunIISummer20UL18]: No events passed trigger. Saving empty outputs.\n",
      "[QCD_Pt_50to80+RunIISummer20UL18]: No events passed trigger. Saving empty outputs.\n",
      "[QCD_Pt_50to80+RunIISummer20UL18]: No events passed trigger. Saving empty outputs.\n",
      "[QCD_Pt_50to80+RunIISummer20UL18]: No events pass clusterCut.\n",
      "[QCD_Pt_50to80+RunIISummer20UL18]: No events passed trigger. Saving empty outputs.\n",
      "[QCD_Pt_50to80+RunIISummer20UL18]: No events passed trigger. Saving empty outputs.\n",
      "[QCD_Pt_50to80+RunIISummer20UL18]: No events passed trigger. Saving empty outputs.\n",
      "[QCD_Pt_50to80+RunIISummer20UL18]: No events passed trigger. Saving empty outputs.\n",
      "[QCD_Pt_50to80+RunIISummer20UL18]: No events passed trigger. Saving empty outputs.\n",
      "[QCD_Pt_470to600+RunIISummer20UL18]: No events passed trigger. Saving empty outputs.\n",
      "[QCD_Pt_30to50+RunIISummer20UL18]: No events passed trigger. Saving empty outputs.\n",
      "[QCD_Pt_30to50+RunIISummer20UL18]: No events passed trigger. Saving empty outputs.\n",
      "[QCD_Pt_30to50+RunIISummer20UL18]: No events passed trigger. Saving empty outputs.\n",
      "[QCD_Pt_30to50+RunIISummer20UL18]: No events passed trigger. Saving empty outputs.\n",
      "[QCD_Pt_30to50+RunIISummer20UL18]: No events passed trigger. Saving empty outputs.\n",
      "[QCD_Pt_30to50+RunIISummer20UL18]: No events passed trigger. Saving empty outputs.\n",
      "[QCD_Pt_30to50+RunIISummer20UL18]: No events passed trigger. Saving empty outputs.\n",
      "[QCD_Pt_30to50+RunIISummer20UL18]: No events passed trigger. Saving empty outputs.\n",
      "[QCD_Pt_30to50+RunIISummer20UL18]: No events passed trigger. Saving empty outputs.\n",
      "[QCD_Pt_30to50+RunIISummer20UL18]: No events passed trigger. Saving empty outputs.\n",
      "[QCD_Pt_30to50+RunIISummer20UL18]: No events passed trigger. Saving empty outputs.\n",
      "[QCD_Pt_30to50+RunIISummer20UL18]: No events passed trigger. Saving empty outputs.\n",
      "[QCD_Pt_30to50+RunIISummer20UL18]: No events passed trigger. Saving empty outputs.\n",
      "[QCD_Pt_30to50+RunIISummer20UL18]: No events passed trigger. Saving empty outputs.\n",
      "[QCD_Pt_30to50+RunIISummer20UL18]: No events passed trigger. Saving empty outputs.\n",
      "[QCD_Pt_30to50+RunIISummer20UL18]: No events passed trigger. Saving empty outputs.\n",
      "[QCD_Pt_30to50+RunIISummer20UL18]: No events passed trigger. Saving empty outputs.\n",
      "[QCD_Pt_30to50+RunIISummer20UL18]: No events passed trigger. Saving empty outputs.\n",
      "[QCD_Pt_300to470+RunIISummer20UL18]: No events passed trigger. Saving empty outputs.\n",
      "[QCD_Pt_30to50+RunIISummer20UL18]: No events passed trigger. Saving empty outputs.\n",
      "[QCD_Pt_300to470+RunIISummer20UL18]: No events passed trigger. Saving empty outputs.\n",
      "[QCD_Pt_300to470+RunIISummer20UL18]: No events passed trigger. Saving empty outputs.\n",
      "[QCD_Pt_300to470+RunIISummer20UL18]: No events passed trigger. Saving empty outputs.\n",
      "[QCD_Pt_300to470+RunIISummer20UL18]: No events passed trigger. Saving empty outputs.\n",
      "[QCD_Pt_300to470+RunIISummer20UL18]: No events pass clusterCut.\n",
      "[QCD_Pt_300to470+RunIISummer20UL18]: No events pass clusterCut.\n",
      "[QCD_Pt_300to470+RunIISummer20UL18]: No events passed trigger. Saving empty outputs.\n",
      "[QCD_Pt_300to470+RunIISummer20UL18]: No events pass clusterCut.\n",
      "[QCD_Pt_1800to2400+RunIISummer20UL18]: No events passed trigger. Saving empty outputs.\n",
      "[QCD_Pt_170to300+RunIISummer20UL18]: No events passed trigger. Saving empty outputs.\n",
      "[QCD_Pt_170to300+RunIISummer20UL18]: No events passed trigger. Saving empty outputs.\n",
      "[QCD_Pt_170to300+RunIISummer20UL18]: No events passed trigger. Saving empty outputs.\n",
      "[QCD_Pt_170to300+RunIISummer20UL18]: No events pass clusterCut.\n",
      "[QCD_Pt_170to300+RunIISummer20UL18]: No events passed trigger. Saving empty outputs.\n",
      "[QCD_Pt_170to300+RunIISummer20UL18]: No events passed trigger. Saving empty outputs.\n",
      "[QCD_Pt_170to300+RunIISummer20UL18]: No events passed trigger. Saving empty outputs.\n",
      "[QCD_Pt_170to300+RunIISummer20UL18]: No events passed trigger. Saving empty outputs.\n",
      "[QCD_Pt_15to30+RunIISummer20UL18]: No events passed trigger. Saving empty outputs.\n",
      "[QCD_Pt_15to30+RunIISummer20UL18]: No events passed trigger. Saving empty outputs.\n",
      "[QCD_Pt_15to30+RunIISummer20UL18]: No events passed trigger. Saving empty outputs.\n",
      "[QCD_Pt_170to300+RunIISummer20UL18]: No events pass clusterCut.\n",
      "[QCD_Pt_15to30+RunIISummer20UL18]: No events passed trigger. Saving empty outputs.\n",
      "[QCD_Pt_15to30+RunIISummer20UL18]: No events passed trigger. Saving empty outputs.\n",
      "[QCD_Pt_15to30+RunIISummer20UL18]: No events passed trigger. Saving empty outputs.\n",
      "[QCD_Pt_15to30+RunIISummer20UL18]: No events passed trigger. Saving empty outputs.\n",
      "[QCD_Pt_15to30+RunIISummer20UL18]: No events passed trigger. Saving empty outputs.\n",
      "[QCD_Pt_15to30+RunIISummer20UL18]: No events passed trigger. Saving empty outputs.\n",
      "[QCD_Pt_15to30+RunIISummer20UL18]: No events passed trigger. Saving empty outputs.\n",
      "[QCD_Pt_15to30+RunIISummer20UL18]: No events passed trigger. Saving empty outputs.\n",
      "[QCD_Pt_15to30+RunIISummer20UL18]: No events passed trigger. Saving empty outputs.\n",
      "[QCD_Pt_15to30+RunIISummer20UL18]: No events passed trigger. Saving empty outputs.\n",
      "[QCD_Pt_15to30+RunIISummer20UL18]: No events passed trigger. Saving empty outputs.\n",
      "[QCD_Pt_15to30+RunIISummer20UL18]: No events passed trigger. Saving empty outputs.\n",
      "[QCD_Pt_15to30+RunIISummer20UL18]: No events passed trigger. Saving empty outputs.\n",
      "[QCD_Pt_15to30+RunIISummer20UL18]: No events passed trigger. Saving empty outputs.\n",
      "[QCD_Pt_15to30+RunIISummer20UL18]: No events passed trigger. Saving empty outputs.\n",
      "[QCD_Pt_15to30+RunIISummer20UL18]: No events passed trigger. Saving empty outputs.\n",
      "[QCD_Pt_1400to1800+RunIISummer20UL18]: No events passed trigger. Saving empty outputs.\n",
      "[QCD_Pt_1400to1800+RunIISummer20UL18]: No events passed trigger. Saving empty outputs.\n",
      "[QCD_Pt_1400to1800+RunIISummer20UL18]: No events pass clusterCut.\n",
      "[QCD_Pt_120to170+RunIISummer20UL18]: No events passed trigger. Saving empty outputs.\n",
      "[QCD_Pt_120to170+RunIISummer20UL18]: No events passed trigger. Saving empty outputs.\n",
      "[QCD_Pt_120to170+RunIISummer20UL18]: No events passed trigger. Saving empty outputs.\n",
      "[QCD_Pt_120to170+RunIISummer20UL18]: No events passed trigger. Saving empty outputs.\n",
      "[QCD_Pt_120to170+RunIISummer20UL18]: No events passed trigger. Saving empty outputs.\n",
      "[QCD_Pt_120to170+RunIISummer20UL18]: No events passed trigger. Saving empty outputs.\n",
      "[QCD_Pt_120to170+RunIISummer20UL18]: No events passed trigger. Saving empty outputs.\n",
      "[QCD_Pt_120to170+RunIISummer20UL18]: No events passed trigger. Saving empty outputs.\n",
      "[QCD_Pt_120to170+RunIISummer20UL18]: No events passed trigger. Saving empty outputs.\n",
      "[QCD_Pt_120to170+RunIISummer20UL18]: No events pass clusterCut.\n",
      "[QCD_Pt_120to170+RunIISummer20UL18]: No events passed trigger. Saving empty outputs.\n",
      "[QCD_Pt_120to170+RunIISummer20UL18]: No events passed trigger. Saving empty outputs.\n",
      "[QCD_Pt_120to170+RunIISummer20UL18]: No events passed trigger. Saving empty outputs.\n",
      "[QCD_Pt_120to170+RunIISummer20UL18]: No events passed trigger. Saving empty outputs.\n",
      "[QCD_Pt_120to170+RunIISummer20UL18]: No events passed trigger. Saving empty outputs.\n",
      "[QCD_Pt_120to170+RunIISummer20UL18]: No events passed trigger. Saving empty outputs.\n",
      "[QCD_Pt_120to170+RunIISummer20UL18]: No events passed trigger. Saving empty outputs.\n",
      "[QCD_Pt_120to170+RunIISummer20UL18]: No events passed trigger. Saving empty outputs.\n",
      "[QCD_Pt_120to170+RunIISummer20UL18]: No events passed trigger. Saving empty outputs.\n",
      "[QCD_Pt_1000to1400+RunIISummer20UL18]: No events passed trigger. Saving empty outputs.\n",
      "[QCD_Pt_1000to1400+RunIISummer20UL18]: No events passed trigger. Saving empty outputs.\n",
      "[QCD_Pt_1000to1400+RunIISummer20UL18]: No events passed trigger. Saving empty outputs.\n"
     ]
    },
    {
     "data": {
      "text/html": [
       "<pre style=\"white-space:pre;overflow-x:auto;line-height:normal;font-family:Menlo,'DejaVu Sans Mono',consolas,'Courier New',monospace\"></pre>\n"
      ],
      "text/plain": []
     },
     "metadata": {},
     "output_type": "display_data"
    },
    {
     "data": {
      "text/html": [
       "<pre style=\"white-space:pre;overflow-x:auto;line-height:normal;font-family:Menlo,'DejaVu Sans Mono',consolas,'Courier New',monospace\">\n",
       "</pre>\n"
      ],
      "text/plain": [
       "\n"
      ]
     },
     "metadata": {},
     "output_type": "display_data"
    }
   ],
   "source": [
    "result = processor.run_uproot_job(\n",
    "    fileset = \"filelist/json_lpc/QCD_Pt_slimmed1_xcache.json\",\n",
    "    treename = \"Events\",\n",
    "    processor_instance = processor_inst,\n",
    "    executor = processor.futures_executor,\n",
    "    executor_args = {\n",
    "        \"schema\": processor.NanoAODSchema,\n",
    "        \"workers\": 4,\n",
    "    },\n",
    "    chunksize = 5000\n",
    ")"
   ]
  },
  {
   "cell_type": "code",
   "execution_count": 12,
   "id": "dade3b7b-e0c2-4f2f-a410-10a2dce93348",
   "metadata": {},
   "outputs": [],
   "source": [
    "rslt_pd = {}\n",
    "for dataset in result:\n",
    "    rslt_pd[dataset] = {}\n",
    "    rslt_pd[dataset]['gensum'] = result[dataset]['out_weight'].value\n",
    "    del result[dataset]['out_weight']\n",
    "    rslt_pd[dataset]['dataframe'] = pd.DataFrame.from_dict(result[dataset])"
   ]
  },
  {
   "cell_type": "code",
   "execution_count": null,
   "id": "ec8d3925-4a3b-4c9f-9c15-4ef3e5347a2f",
   "metadata": {},
   "outputs": [],
   "source": []
  }
 ],
 "metadata": {
  "kernelspec": {
   "display_name": "Python 3 (ipykernel)",
   "language": "python",
   "name": "python3"
  },
  "language_info": {
   "codemirror_mode": {
    "name": "ipython",
    "version": 3
   },
   "file_extension": ".py",
   "mimetype": "text/x-python",
   "name": "python",
   "nbconvert_exporter": "python",
   "pygments_lexer": "ipython3",
   "version": "3.8.13"
  }
 },
 "nbformat": 4,
 "nbformat_minor": 5
}
