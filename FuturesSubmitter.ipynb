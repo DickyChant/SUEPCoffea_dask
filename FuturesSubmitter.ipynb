{
 "cells": [
  {
   "cell_type": "code",
   "execution_count": 1,
   "id": "99caee00-6931-4288-9ebc-099242bbe93c",
   "metadata": {},
   "outputs": [],
   "source": [
    "import os, sys, glob\n",
    "import pandas as pd\n",
    "import json\n",
    "import argparse\n",
    "import time\n",
    "import numpy\n",
    "from tqdm import tqdm\n",
    "\n",
    "# Import coffea specific features\n",
    "from coffea import processor\n",
    "\n",
    "# SUEP Repo Specific\n",
    "from workflows import DummyProcessor\n",
    "from workflows import merger"
   ]
  },
  {
   "cell_type": "code",
   "execution_count": 2,
   "id": "63d6cae5-fd19-4d1f-8547-c34704646e90",
   "metadata": {},
   "outputs": [],
   "source": [
    "out_dir = os.getcwd()\n",
    "modules_era = []\n",
    "\n",
    "modules_era.append(\n",
    "    DummyProcessor.DummyProcessor(\n",
    "        isMC=1,\n",
    "        era=2018,\n",
    "        do_syst=1,\n",
    "        syst_var=\"\",\n",
    "        sample=\"QCD_Pt+RunIISummer20UL18\",\n",
    "        weight_syst=\"\",\n",
    "        flag=False,\n",
    "        output_location=out_dir,\n",
    "    )\n",
    ")"
   ]
  },
  {
   "cell_type": "code",
   "execution_count": 3,
   "id": "8cafbeeb-3454-42b8-bdbe-1c8de4c61353",
   "metadata": {},
   "outputs": [
    {
     "data": {
      "application/vnd.jupyter.widget-view+json": {
       "model_id": "30c08f90a8fb4b5d885108c1f4ddc888",
       "version_major": 2,
       "version_minor": 0
      },
      "text/plain": [
       "Output()"
      ]
     },
     "metadata": {},
     "output_type": "display_data"
    },
    {
     "data": {
      "text/html": [
       "<pre style=\"white-space:pre;overflow-x:auto;line-height:normal;font-family:Menlo,'DejaVu Sans Mono',consolas,'Courier New',monospace\"></pre>\n"
      ],
      "text/plain": []
     },
     "metadata": {},
     "output_type": "display_data"
    },
    {
     "data": {
      "text/html": [
       "<pre style=\"white-space:pre;overflow-x:auto;line-height:normal;font-family:Menlo,'DejaVu Sans Mono',consolas,'Courier New',monospace\">\n",
       "</pre>\n"
      ],
      "text/plain": [
       "\n"
      ]
     },
     "metadata": {},
     "output_type": "display_data"
    },
    {
     "data": {
      "application/vnd.jupyter.widget-view+json": {
       "model_id": "3df3b0afbf5247709d51f55ee0f8d991",
       "version_major": 2,
       "version_minor": 0
      },
      "text/plain": [
       "Output()"
      ]
     },
     "metadata": {},
     "output_type": "display_data"
    },
    {
     "name": "stdout",
     "output_type": "stream",
     "text": [
      "processing: QCD_Pt_50to80+RunIISummer20UL18\n",
      "processing: QCD_Pt_600to800+RunIISummer20UL18\n",
      "processing: QCD_Pt_80to120+RunIISummer20UL18\n",
      "processing: QCD_Pt_800to1000+RunIISummer20UL18\n",
      "processing: QCD_Pt_470to600+RunIISummer20UL18\n",
      "processing: QCD_Pt_3200toInf+RunIISummer20UL18\n",
      "processing: QCD_Pt_30to50+RunIISummer20UL18\n",
      "[QCD_Pt_30to50+RunIISummer20UL18]: No events passed trigger. Saving empty outputs.\n",
      "processing: QCD_Pt_300to470+RunIISummer20UL18\n",
      "processing: QCD_Pt_2400to3200+RunIISummer20UL18\n",
      "processing: QCD_Pt_1800to2400+RunIISummer20UL18\n",
      "processing: QCD_Pt_170to300+RunIISummer20UL18\n",
      "processing: QCD_Pt_15to30+RunIISummer20UL18\n",
      "[QCD_Pt_15to30+RunIISummer20UL18]: No events passed trigger. Saving empty outputs.\n",
      "processing: QCD_Pt_1400to1800+RunIISummer20UL18\n",
      "processing: QCD_Pt_120to170+RunIISummer20UL18\n",
      "processing: QCD_Pt_1000to1400+RunIISummer20UL18\n"
     ]
    },
    {
     "data": {
      "text/html": [
       "<pre style=\"white-space:pre;overflow-x:auto;line-height:normal;font-family:Menlo,'DejaVu Sans Mono',consolas,'Courier New',monospace\"></pre>\n"
      ],
      "text/plain": []
     },
     "metadata": {},
     "output_type": "display_data"
    },
    {
     "data": {
      "text/html": [
       "<pre style=\"white-space:pre;overflow-x:auto;line-height:normal;font-family:Menlo,'DejaVu Sans Mono',consolas,'Courier New',monospace\">\n",
       "</pre>\n"
      ],
      "text/plain": [
       "\n"
      ]
     },
     "metadata": {},
     "output_type": "display_data"
    }
   ],
   "source": [
    "for instance in modules_era:\n",
    "    result = processor.run_uproot_job(\n",
    "        fileset = 'filelist/QCD_Pt_slimmed1.json',\n",
    "        treename = \"Events\",\n",
    "        processor_instance = instance,\n",
    "        executor = processor.futures_executor,\n",
    "        executor_args = {\n",
    "            \"schema\": processor.NanoAODSchema,\n",
    "            \"workers\": 4,\n",
    "        },\n",
    "    )"
   ]
  },
  {
   "cell_type": "code",
   "execution_count": 4,
   "id": "9f7fe67e-cb90-4fae-b101-325eeaba0469",
   "metadata": {},
   "outputs": [],
   "source": [
    "import awkward as ak"
   ]
  },
  {
   "cell_type": "code",
   "execution_count": 6,
   "id": "b5893211-f984-4b81-93b8-577906defa05",
   "metadata": {},
   "outputs": [],
   "source": [
    "a1 = ak.Array([])"
   ]
  },
  {
   "cell_type": "code",
   "execution_count": 7,
   "id": "f80ac6a3-e025-4136-8629-abdafdf6af02",
   "metadata": {},
   "outputs": [],
   "source": [
    "a2 = ak.Array([])"
   ]
  },
  {
   "cell_type": "code",
   "execution_count": 9,
   "id": "c5ddea01-9e5f-4fad-9a74-88dd1da82124",
   "metadata": {},
   "outputs": [
    {
     "data": {
      "text/plain": [
       "<Array [] type='0 * bool'>"
      ]
     },
     "execution_count": 9,
     "metadata": {},
     "output_type": "execute_result"
    }
   ],
   "source": [
    "(a1 > 1) & (a2 > 9)"
   ]
  },
  {
   "cell_type": "code",
   "execution_count": null,
   "id": "3cc32e90-d611-4bcf-bc5d-c0800cee0ddf",
   "metadata": {},
   "outputs": [],
   "source": []
  }
 ],
 "metadata": {
  "kernelspec": {
   "display_name": "Python 3 (ipykernel)",
   "language": "python",
   "name": "python3"
  },
  "language_info": {
   "codemirror_mode": {
    "name": "ipython",
    "version": 3
   },
   "file_extension": ".py",
   "mimetype": "text/x-python",
   "name": "python",
   "nbconvert_exporter": "python",
   "pygments_lexer": "ipython3",
   "version": "3.8.13"
  }
 },
 "nbformat": 4,
 "nbformat_minor": 5
}
