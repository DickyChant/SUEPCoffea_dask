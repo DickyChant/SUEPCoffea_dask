{
 "cells": [
  {
   "cell_type": "code",
   "execution_count": 1,
   "metadata": {},
   "outputs": [],
   "source": [
    "import json"
   ]
  },
  {
   "cell_type": "code",
   "execution_count": 7,
   "metadata": {},
   "outputs": [],
   "source": [
    "qcd_pt_bins = [\n",
    "    '1000to1400',\n",
    "    '120to170',\n",
    "    '1400to1800',\n",
    "    '15to30',\n",
    "    '170to300',\n",
    "    '1800to2400',\n",
    "    '2400to3200',\n",
    "    '300to470',\n",
    "    '30to50',\n",
    "    '3200toInf',\n",
    "    '470to600',\n",
    "    '50to80',\n",
    "    '600to800',\n",
    "    '800to1000',\n",
    "    '80to120',\n",
    "]"
   ]
  },
  {
   "cell_type": "code",
   "execution_count": 25,
   "metadata": {},
   "outputs": [],
   "source": [
    "doAll = False\n",
    "nFiles = 100"
   ]
  },
  {
   "cell_type": "code",
   "execution_count": 26,
   "metadata": {},
   "outputs": [],
   "source": [
    "dictionary = {}\n",
    "for qcdbin in qcd_pt_bins:\n",
    "    with open(f\"filelist/QCD_Pt_bins/QCD_Pt_{qcdbin}.txt\", \"r\") as f:\n",
    "        dictionary[f'QCD_Pt_{qcdbin}+RunIISummer20UL18'] = []\n",
    "        for i, line in enumerate(f):\n",
    "            if i > (nFiles - 1) and not doAll:\n",
    "                break\n",
    "            stripped_line = line.strip()\n",
    "            dictionary[f'QCD_Pt_{qcdbin}+RunIISummer20UL18'].append(stripped_line)\n",
    "outTag = ''\n",
    "if doAll:\n",
    "    outTag = 'full'\n",
    "else:\n",
    "    outTag = f'slimmed{nFiles}'\n",
    "with open(f'filelist/QCD_Pt_{outTag}.json', 'w') as fp:\n",
    "    json.dump(dictionary, fp, indent=4)"
   ]
  },
  {
   "cell_type": "code",
   "execution_count": null,
   "metadata": {},
   "outputs": [],
   "source": []
  }
 ],
 "metadata": {
  "kernelspec": {
   "display_name": "suepenv",
   "language": "python",
   "name": "suepenv"
  },
  "language_info": {
   "codemirror_mode": {
    "name": "ipython",
    "version": 3
   },
   "file_extension": ".py",
   "mimetype": "text/x-python",
   "name": "python",
   "nbconvert_exporter": "python",
   "pygments_lexer": "ipython3",
   "version": "3.6.5"
  }
 },
 "nbformat": 4,
 "nbformat_minor": 2
}
