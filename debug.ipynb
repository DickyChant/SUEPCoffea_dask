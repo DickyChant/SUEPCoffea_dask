{
 "cells": [
  {
   "cell_type": "code",
   "execution_count": 1,
   "id": "6c4947b2-2faf-4079-a936-84e85623b8ea",
   "metadata": {},
   "outputs": [],
   "source": [
    "import awkward as ak\n",
    "import pandas as pd\n",
    "import numpy as np\n",
    "import fastjet\n",
    "import uproot\n",
    "import vector\n",
    "vector.register_awkward()"
   ]
  },
  {
   "cell_type": "markdown",
   "id": "ae8330f7-9fe0-4936-a2a5-982b770c4a31",
   "metadata": {},
   "source": [
    "Read in stuff"
   ]
  },
  {
   "cell_type": "code",
   "execution_count": 2,
   "id": "4d5b5901-e4ee-44aa-9662-2dad760a8f04",
   "metadata": {},
   "outputs": [],
   "source": [
    "f = uproot.open(\"filelist/badFromLuca/miniaod_1032.root\")\n",
    "events = f['Events']\n",
    "arrays = events.arrays()"
   ]
  },
  {
   "cell_type": "code",
   "execution_count": 3,
   "id": "23875380-3c51-4ea9-8f76-d6bf2bd06f6d",
   "metadata": {},
   "outputs": [],
   "source": [
    "Cands = ak.zip({\n",
    "    \"pt\": arrays['PFCands_trkPt'],\n",
    "    \"eta\": arrays['PFCands_trkEta'],\n",
    "    \"phi\": arrays['PFCands_trkPhi'],\n",
    "    \"mass\": arrays['PFCands_mass']\n",
    "}, with_name=\"Momentum4D\")\n",
    "cut = (arrays['PFCands_fromPV'] > 1) & \\\n",
    "         (arrays['PFCands_trkPt'] >= 0.7) & \\\n",
    "         (abs(arrays['PFCands_trkEta']) <= 2.5) & \\\n",
    "         (abs(arrays['PFCands_dz']) < 10) & \\\n",
    "         (arrays['PFCands_dzErr'] < 0.05)\n",
    "Cleaned_cands = Cands[cut]\n",
    "Cleaned_cands = ak.packed(Cleaned_cands)\n",
    "\n",
    "tracks = Cleaned_cands"
   ]
  },
  {
   "cell_type": "code",
   "execution_count": 4,
   "id": "80a9119b-1325-4dae-8ab4-9f6ff3057014",
   "metadata": {},
   "outputs": [],
   "source": [
    "Jets = ak.zip({\n",
    "        \"pt\": arrays['Jet_pt'],\n",
    "        \"eta\": arrays['Jet_eta'],\n",
    "        \"phi\": arrays['Jet_phi'],\n",
    "        \"mass\": arrays['Jet_mass'],\n",
    "        \"jetId\": arrays['Jet_jetId']\n",
    "    })\n",
    "jetCut = (Jets.pt > 30) & (abs(Jets.eta)<2.4)\n",
    "ak4jets = Jets[jetCut]\n",
    "ht = ak.sum(ak4jets.pt,axis=-1)\n",
    "trigger = arrays['HLT_PFHT1050']\n",
    "tracks = tracks[trigger]"
   ]
  },
  {
   "cell_type": "markdown",
   "id": "159c64c0-a593-4450-9545-fcebc48f08a9",
   "metadata": {},
   "source": [
    "Define FastJets with anti-kt 1.5"
   ]
  },
  {
   "cell_type": "code",
   "execution_count": 5,
   "id": "48535c47-012f-4b03-9305-fe642af2e682",
   "metadata": {},
   "outputs": [],
   "source": [
    "jetdef = fastjet.JetDefinition(fastjet.antikt_algorithm, 1.5)        "
   ]
  },
  {
   "cell_type": "code",
   "execution_count": 19,
   "id": "f57ec956-eaf5-4cff-a49c-37adc2856515",
   "metadata": {},
   "outputs": [
    {
     "name": "stdout",
     "output_type": "stream",
     "text": [
      "[[0.757, 0.741, 0.786, 0.881, 0.828, 0.895, ... 3.46, 2.86, 0.922, 1.48, 1.84, 1.86]]\n"
     ]
    }
   ],
   "source": [
    "print(tracks.pt)"
   ]
  },
  {
   "cell_type": "markdown",
   "id": "3e2dd21f-317b-404d-be68-1bb45f17f357",
   "metadata": {},
   "source": [
    "This will fail<br>\n",
    "min_pt = 0 and = 150 both fail"
   ]
  },
  {
   "cell_type": "code",
   "execution_count": 13,
   "id": "f0302fd9-e6d2-45cd-a36c-68b0a1f5c41f",
   "metadata": {},
   "outputs": [],
   "source": [
    "cluster = fastjet.ClusterSequence(tracks, jetdef)\n",
    "ak_inclusive_jets = ak.with_name(cluster.inclusive_jets(min_pt=150),\"Momentum4D\") \n",
    "#ak_inclusive_cluster = ak.with_name(cluster.constituents(),\"Momentum4D\")"
   ]
  },
  {
   "cell_type": "code",
   "execution_count": 17,
   "id": "1ba5da85-57fb-46ee-bfdf-43fff67985f4",
   "metadata": {},
   "outputs": [
    {
     "data": {
      "text/plain": [
       "103 * float32"
      ]
     },
     "execution_count": 17,
     "metadata": {},
     "output_type": "execute_result"
    }
   ],
   "source": [
    "tracks[0].pt.type"
   ]
  },
  {
   "cell_type": "code",
   "execution_count": 16,
   "id": "0f7f47fc-65b4-4aaf-a969-58e7fa77840d",
   "metadata": {},
   "outputs": [
    {
     "data": {
      "text/plain": [
       "<Array [292, 504, 511] type='3 * float64'>"
      ]
     },
     "execution_count": 16,
     "metadata": {},
     "output_type": "execute_result"
    }
   ],
   "source": [
    "ak_inclusive_jets[0].pt"
   ]
  },
  {
   "cell_type": "markdown",
   "id": "e715355b-e214-48aa-8ab1-dbeeaa256d85",
   "metadata": {},
   "source": [
    "This works<br>"
   ]
  },
  {
   "cell_type": "code",
   "execution_count": 9,
   "id": "e7a8c7d2-c7fd-46ea-a9d2-8a19099e48e6",
   "metadata": {},
   "outputs": [],
   "source": [
    "test = []\n",
    "for event in tracks:\n",
    "    test.append([track for track in event])\n",
    "a = ak.Array(test, with_name='Momentum4D')\n",
    "cluster = fastjet.ClusterSequence(a, jetdef)\n",
    "ak_inclusive_jets = ak.with_name(cluster.inclusive_jets(min_pt=150),\"Momentum4D\") \n",
    "ak_inclusive_cluster = ak.with_name(cluster.constituents(min_pt=150),\"Momentum4D\")"
   ]
  },
  {
   "cell_type": "markdown",
   "id": "3474c1b4-e14c-4f07-8f1a-602d94977819",
   "metadata": {},
   "source": [
    "All these types seem the same, so what's going on?"
   ]
  },
  {
   "cell_type": "code",
   "execution_count": 36,
   "id": "08cede3d-acf9-4adb-80ee-8e475c9cfb0d",
   "metadata": {},
   "outputs": [
    {
     "name": "stdout",
     "output_type": "stream",
     "text": [
      "[{pt: 0.757, eta: 2, phi: 0.438, mass: 0.14}, ... phi: -0.557, mass: 0.14}]\n",
      "<class 'vector._backends.awkward_.MomentumArray4D'>\n",
      "<class 'vector._backends.awkward_.MomentumArray4D'>\n"
     ]
    }
   ],
   "source": [
    "print(tracks[0])\n",
    "print(type(tracks[0]))\n",
    "print(type(tracks))"
   ]
  },
  {
   "cell_type": "code",
   "execution_count": 37,
   "id": "1fecd842-873a-4418-b15d-feb8c71f0cc7",
   "metadata": {},
   "outputs": [
    {
     "name": "stdout",
     "output_type": "stream",
     "text": [
      "[{pt: 0.757, eta: 2, phi: 0.438, mass: 0.14}, ... phi: -0.557, mass: 0.14}]\n",
      "<class 'vector._backends.awkward_.MomentumArray4D'>\n",
      "<class 'vector._backends.awkward_.MomentumArray4D'>\n"
     ]
    }
   ],
   "source": [
    "print(a[0])\n",
    "print(type(a[0]))\n",
    "print(type(a))"
   ]
  },
  {
   "cell_type": "markdown",
   "id": "ee2c6441-613b-4720-95b3-3f43b945cdc0",
   "metadata": {},
   "source": [
    "The elements are identical"
   ]
  },
  {
   "cell_type": "code",
   "execution_count": 42,
   "id": "3f65741e-33a0-412c-ab20-8773f9463bc7",
   "metadata": {},
   "outputs": [
    {
     "data": {
      "text/plain": [
       "True"
      ]
     },
     "execution_count": 42,
     "metadata": {},
     "output_type": "execute_result"
    }
   ],
   "source": [
    "ak.all(a == tracks)"
   ]
  },
  {
   "cell_type": "code",
   "execution_count": null,
   "id": "07e5ed6c-a9b0-43f4-a52c-337e40b0c2ae",
   "metadata": {},
   "outputs": [],
   "source": []
  }
 ],
 "metadata": {
  "kernelspec": {
   "display_name": "Python 3 (ipykernel)",
   "language": "python",
   "name": "python3"
  },
  "language_info": {
   "codemirror_mode": {
    "name": "ipython",
    "version": 3
   },
   "file_extension": ".py",
   "mimetype": "text/x-python",
   "name": "python",
   "nbconvert_exporter": "python",
   "pygments_lexer": "ipython3",
   "version": "3.8.13"
  }
 },
 "nbformat": 4,
 "nbformat_minor": 5
}
