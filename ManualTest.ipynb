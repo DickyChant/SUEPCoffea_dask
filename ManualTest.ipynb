{
 "cells": [
  {
   "cell_type": "code",
   "execution_count": 64,
   "id": "87d28194-1113-4364-93a5-8c88bccd9f01",
   "metadata": {},
   "outputs": [],
   "source": [
    "import uproot\n",
    "import awkward as ak\n",
    "import numpy as np\n",
    "import pandas as pd\n",
    "from coffea import nanoevents\n",
    "import vector\n",
    "import fastjet"
   ]
  },
  {
   "cell_type": "code",
   "execution_count": 65,
   "id": "505f023f-e4ed-4341-b57b-b2f1c68fdda0",
   "metadata": {},
   "outputs": [],
   "source": [
    "vector.register_awkward()"
   ]
  },
  {
   "cell_type": "code",
   "execution_count": 66,
   "id": "95dc0b56-1ba0-4646-b9b3-bfa50069df01",
   "metadata": {},
   "outputs": [],
   "source": [
    "file = nanoevents.NanoEventsFactory.from_root(\n",
    "    \"filelist/badFromLuca/miniaod_1032.root\",\n",
    "    schemaclass=nanoevents.NanoAODSchema,\n",
    "    #entry_stop=10000\n",
    ")"
   ]
  },
  {
   "cell_type": "code",
   "execution_count": 67,
   "id": "00a2456a-e17d-4675-ba3e-f0483c582050",
   "metadata": {},
   "outputs": [],
   "source": [
    "events = file.events()"
   ]
  },
  {
   "cell_type": "code",
   "execution_count": 68,
   "id": "2b1e4758-26a6-47f5-ade5-56dfccb77d32",
   "metadata": {},
   "outputs": [],
   "source": [
    "Jets = ak.zip(\n",
    "    {\n",
    "        \"pt\": events.Jet.pt,\n",
    "        \"eta\": events.Jet.eta,\n",
    "        \"phi\": events.Jet.phi,\n",
    "        \"mass\": events.Jet.mass,\n",
    "        \"jetId\": events.Jet.jetId,\n",
    "    }\n",
    ")"
   ]
  },
  {
   "cell_type": "code",
   "execution_count": 69,
   "id": "c0ae27ae-4934-4b37-9bdd-6ee1228f37d3",
   "metadata": {},
   "outputs": [],
   "source": [
    "jetCut = (Jets.pt > 30) & (abs(Jets.eta) < 4.7)\n",
    "ak4jets = Jets[jetCut]\n",
    "ht = ak.sum(ak4jets.pt, axis=-1)"
   ]
  },
  {
   "cell_type": "code",
   "execution_count": 70,
   "id": "ab5942ac-876e-47f1-880c-4bda62ad8668",
   "metadata": {},
   "outputs": [],
   "source": [
    "trigger_TripleMu = events.HLT.PFHT1050\n",
    "events = events[trigger_TripleMu]\n",
    "ak4jets = ak4jets[trigger_TripleMu]"
   ]
  },
  {
   "cell_type": "code",
   "execution_count": 71,
   "id": "42a6427e-ae70-4d89-baed-be89c6e623dd",
   "metadata": {},
   "outputs": [
    {
     "data": {
      "text/plain": [
       "<NanoEventsArray [<event 1032:1:118>, ... ] type='33 * event'>"
      ]
     },
     "execution_count": 71,
     "metadata": {},
     "output_type": "execute_result"
    }
   ],
   "source": [
    "events"
   ]
  },
  {
   "cell_type": "code",
   "execution_count": 72,
   "id": "64001a9f-86ea-4bfc-b35d-76e386ad16e4",
   "metadata": {},
   "outputs": [],
   "source": [
    "Cands = ak.zip(\n",
    "    {\n",
    "        \"pt\": events.PFCands.trkPt,\n",
    "        \"eta\": events.PFCands.trkEta,\n",
    "        \"phi\": events.PFCands.trkPhi,\n",
    "        \"mass\": events.PFCands.mass,\n",
    "    },\n",
    "    with_name=\"Momentum4D\",\n",
    ")"
   ]
  },
  {
   "cell_type": "code",
   "execution_count": 73,
   "id": "54696832-3072-415f-93df-909369d6fc88",
   "metadata": {},
   "outputs": [],
   "source": [
    "cut = (\n",
    "    (events.PFCands.fromPV > 1)\n",
    "    & (events.PFCands.trkPt >= 0.7)\n",
    "    & (abs(events.PFCands.trkEta) <= 2.5)\n",
    "    & (abs(events.PFCands.dz) < 10)\n",
    "    & (events.PFCands.dzErr < 0.05)\n",
    ")"
   ]
  },
  {
   "cell_type": "code",
   "execution_count": 74,
   "id": "656ae0e5-d28c-49d8-9e9b-034d3c7dd5a0",
   "metadata": {},
   "outputs": [],
   "source": [
    "Cleaned_cands = Cands[cut]\n",
    "Cleaned_cands = ak.packed(Cleaned_cands)"
   ]
  },
  {
   "cell_type": "code",
   "execution_count": 75,
   "id": "148f9258-0778-4d4d-8454-a12730e93008",
   "metadata": {},
   "outputs": [],
   "source": [
    "LostTracks = ak.zip(\n",
    "    {\n",
    "        \"pt\": events.lostTracks.pt,\n",
    "        \"eta\": events.lostTracks.eta,\n",
    "        \"phi\": events.lostTracks.phi,\n",
    "        \"mass\": 0.0,\n",
    "    },\n",
    "    with_name=\"Momentum4D\",\n",
    ")"
   ]
  },
  {
   "cell_type": "code",
   "execution_count": 76,
   "id": "fffb19ed-01b1-4165-a914-f1d550ca3b86",
   "metadata": {},
   "outputs": [],
   "source": [
    "cut = (\n",
    "    (events.lostTracks.fromPV > 1)\n",
    "    & (events.lostTracks.pt >= 0.7)\n",
    "    & (abs(events.lostTracks.eta) <= 1.0)\n",
    "    & (abs(events.lostTracks.dz) < 10)\n",
    "    & (events.lostTracks.dzErr < 0.05)\n",
    ")\n",
    "Lost_Tracks_cands = LostTracks[cut]\n",
    "Lost_Tracks_cands = ak.packed(Lost_Tracks_cands)"
   ]
  },
  {
   "cell_type": "code",
   "execution_count": 77,
   "id": "a1bb81ca-4ccc-48d0-bb11-aa6a53cd2813",
   "metadata": {},
   "outputs": [],
   "source": [
    "tracks = ak.concatenate([Cleaned_cands, Lost_Tracks_cands], axis=1)"
   ]
  },
  {
   "cell_type": "code",
   "execution_count": 78,
   "id": "c0be9f30-3206-45e9-88a0-93f4dc2fc1a3",
   "metadata": {},
   "outputs": [
    {
     "name": "stdout",
     "output_type": "stream",
     "text": [
      "[[0.757, 0.741, 0.786, 0.881, 0.828, 0.895, ... 2.86, 0.922, 1.48, 1.84, 1.86, 12.6]]\n"
     ]
    }
   ],
   "source": [
    "print(tracks.pt)"
   ]
  },
  {
   "cell_type": "code",
   "execution_count": 79,
   "id": "f3364860-f923-4d18-af08-3bd3a886e390",
   "metadata": {},
   "outputs": [],
   "source": [
    "minPt = 150"
   ]
  },
  {
   "cell_type": "code",
   "execution_count": 80,
   "id": "638b6989-c597-4e44-9de0-36e931388f67",
   "metadata": {},
   "outputs": [],
   "source": [
    "jetdef = fastjet.JetDefinition(fastjet.antikt_algorithm, 1.5)"
   ]
  },
  {
   "cell_type": "code",
   "execution_count": 81,
   "id": "e91b26a3-3fee-4c20-b32f-ce32fb80b4f1",
   "metadata": {},
   "outputs": [],
   "source": [
    "cluster = fastjet.ClusterSequence(Cleaned_cands, jetdef)"
   ]
  },
  {
   "cell_type": "code",
   "execution_count": 82,
   "id": "33deec3c-7ed6-4517-8479-0c5cfbec2a1b",
   "metadata": {},
   "outputs": [],
   "source": [
    "ak_inclusive_jets = ak.with_name(cluster.inclusive_jets(min_pt=150), \"Momentum4D\")"
   ]
  },
  {
   "cell_type": "code",
   "execution_count": 83,
   "id": "c2396d25-2e3a-4256-a78c-fd0ed1700e5d",
   "metadata": {},
   "outputs": [],
   "source": [
    "ak_inclusive_cluster = ak.with_name(cluster.constituents(min_pt=150),\"Momentum4D\")"
   ]
  },
  {
   "cell_type": "code",
   "execution_count": 84,
   "id": "b9248282-b245-435a-a285-410938890019",
   "metadata": {},
   "outputs": [
    {
     "name": "stdout",
     "output_type": "stream",
     "text": [
      "[0.757, 0.741, 0.786, 0.881, 0.828, 0.895, ... 3.39, 1.02, 1.63, 0.964, 1.85, 1.22]\n"
     ]
    }
   ],
   "source": [
    "print(Cleaned_cands[0].pt)"
   ]
  },
  {
   "cell_type": "code",
   "execution_count": 85,
   "id": "6eeaefd7-e8a7-4dbf-be6a-62e56e1939e9",
   "metadata": {},
   "outputs": [
    {
     "data": {
      "text/plain": [
       "<Array [363, 506] type='2 * float64'>"
      ]
     },
     "execution_count": 85,
     "metadata": {},
     "output_type": "execute_result"
    }
   ],
   "source": [
    "ak_inclusive_jets[0].pt"
   ]
  },
  {
   "cell_type": "code",
   "execution_count": 86,
   "id": "19f69de4-29b5-4265-996e-1028d1c07dbe",
   "metadata": {},
   "outputs": [],
   "source": [
    "minPtCut = ak_inclusive_jets.pt > minPt\n",
    "ak_inclusive_jets = ak_inclusive_jets[minPtCut]\n",
    "ak_inclusive_cluster = ak_inclusive_cluster[minPtCut]"
   ]
  },
  {
   "cell_type": "code",
   "execution_count": 87,
   "id": "18c65439-607e-4176-96fa-0ad4ba1d297d",
   "metadata": {},
   "outputs": [],
   "source": [
    "tightJetId = ak4jets.jetId > 2\n",
    "tight_ak4jets = ak4jets[tightJetId]\n",
    "looseJetId = ak4jets.jetId >= 2\n",
    "loose_ak4jets = ak4jets[looseJetId]"
   ]
  },
  {
   "cell_type": "code",
   "execution_count": 88,
   "id": "d968275f-26ce-4d7f-8899-9dc556eaf248",
   "metadata": {},
   "outputs": [],
   "source": [
    "trackerCut = abs(ak4jets.eta) < 2.4\n",
    "tracker_ak4jets = ak4jets[trackerCut]"
   ]
  },
  {
   "cell_type": "code",
   "execution_count": 89,
   "id": "af23e4fa-b476-488c-8c00-0e54f15f2726",
   "metadata": {},
   "outputs": [],
   "source": [
    "from workflows import math_utils"
   ]
  },
  {
   "cell_type": "code",
   "execution_count": 90,
   "id": "20bd9cfc-c6fc-46b9-8a52-6dbaf859f44b",
   "metadata": {},
   "outputs": [],
   "source": [
    "indices = np.arange(0, len(tracks))\n",
    "clusterCut = ak.num(ak_inclusive_jets, axis=1) > 1\n",
    "ak_inclusive_cluster = ak_inclusive_cluster[clusterCut]\n",
    "ak_inclusive_jets = ak_inclusive_jets[clusterCut]\n",
    "tracks = tracks[clusterCut]\n",
    "indices = indices[clusterCut]"
   ]
  },
  {
   "cell_type": "code",
   "execution_count": 94,
   "id": "55f21a15-a80e-4ac7-8c8d-565e76495518",
   "metadata": {},
   "outputs": [
    {
     "data": {
      "text/plain": [
       "30"
      ]
     },
     "execution_count": 94,
     "metadata": {},
     "output_type": "execute_result"
    }
   ],
   "source": [
    "len(tracks)"
   ]
  },
  {
   "cell_type": "code",
   "execution_count": 97,
   "id": "0c68d541-f591-4375-8f8b-33e70828965b",
   "metadata": {},
   "outputs": [
    {
     "data": {
      "text/plain": [
       "30"
      ]
     },
     "execution_count": 97,
     "metadata": {},
     "output_type": "execute_result"
    }
   ],
   "source": [
    "len(ak.num(tracks).to_list())"
   ]
  },
  {
   "cell_type": "code",
   "execution_count": 31,
   "id": "a162de79-6bc5-404b-a22f-fda5a06db106",
   "metadata": {},
   "outputs": [],
   "source": [
    "highpt_jet = ak.argsort(\n",
    "    ak_inclusive_jets.pt, axis=1, ascending=False, stable=True\n",
    ")\n",
    "jets_pTsorted = ak_inclusive_jets[highpt_jet]\n",
    "clusters_pTsorted = ak_inclusive_cluster[highpt_jet]"
   ]
  },
  {
   "cell_type": "code",
   "execution_count": 32,
   "id": "74c653d1-56f5-497f-97e5-f5ade9fcc0d3",
   "metadata": {},
   "outputs": [],
   "source": [
    "highpt_cands = clusters_pTsorted[:, 0]  # tracks for highest pt jet\n",
    "singletrackCut = ak.num(highpt_cands) > 1\n",
    "jets_pTsorted = jets_pTsorted[singletrackCut]\n",
    "clusters_pTsorted = clusters_pTsorted[singletrackCut]\n",
    "tracks = tracks[singletrackCut]\n",
    "indices = indices[singletrackCut]"
   ]
  },
  {
   "cell_type": "code",
   "execution_count": 33,
   "id": "16179fbf-30ba-4629-aa59-fdfe1d72d6b3",
   "metadata": {},
   "outputs": [],
   "source": [
    "nconst_pTsorted = ak.num(clusters_pTsorted, axis=-1)"
   ]
  },
  {
   "cell_type": "code",
   "execution_count": 44,
   "id": "03fcfae7-90f6-4d93-ac8b-2b5d9e29e42f",
   "metadata": {},
   "outputs": [],
   "source": [
    "SUEP_cand = ak.where(\n",
    "    nconst_pTsorted[:, 1] <= nconst_pTsorted[:, 0],\n",
    "    jets_pTsorted[:, 0],\n",
    "    jets_pTsorted[:, 1],\n",
    ")\n",
    "ISR_cand = ak.where(\n",
    "    nconst_pTsorted[:, 1] > nconst_pTsorted[:, 0],\n",
    "    jets_pTsorted[:, 0],\n",
    "    jets_pTsorted[:, 1],\n",
    ")\n",
    "SUEP_cluster_tracks = ak.where(\n",
    "    nconst_pTsorted[:, 1] <= nconst_pTsorted[:, 0],\n",
    "    clusters_pTsorted[:, 0],\n",
    "    clusters_pTsorted[:, 1],\n",
    ")\n",
    "ISR_cluster_tracks = ak.where(\n",
    "    nconst_pTsorted[:, 1] > nconst_pTsorted[:, 0],\n",
    "    clusters_pTsorted[:, 0],\n",
    "    clusters_pTsorted[:, 1],\n",
    ")"
   ]
  },
  {
   "cell_type": "code",
   "execution_count": 46,
   "id": "b0be201d-2971-4e36-813c-ce862cb35ed5",
   "metadata": {},
   "outputs": [],
   "source": [
    "indices_CL = indices\n",
    "SUEP_cand_CL = SUEP_cand\n",
    "ISR_cand_CL = ISR_cand"
   ]
  },
  {
   "cell_type": "code",
   "execution_count": 48,
   "id": "94891cf0-57b0-45f3-9448-d85b84aa2649",
   "metadata": {},
   "outputs": [],
   "source": [
    "boost_ISR = ak.zip(\n",
    "    {\n",
    "        \"px\": ISR_cand_CL.px * -1,\n",
    "        \"py\": ISR_cand_CL.py * -1,\n",
    "        \"pz\": ISR_cand_CL.pz * -1,\n",
    "        \"mass\": ISR_cand_CL.mass,\n",
    "    },\n",
    "    with_name=\"Momentum4D\",\n",
    ")"
   ]
  },
  {
   "cell_type": "code",
   "execution_count": 50,
   "id": "c4742218-a19a-4eab-a9e4-b2657f616cd7",
   "metadata": {},
   "outputs": [],
   "source": [
    "ISR_tracks_b_CL = ISR_cluster_tracks.boost_p4(boost_ISR)"
   ]
  },
  {
   "cell_type": "code",
   "execution_count": 56,
   "id": "afa0371c-0dd1-4c4e-9588-f60c0d7d7815",
   "metadata": {},
   "outputs": [],
   "source": [
    "oneISRtrackCut = ak.num(ISR_tracks_b_CL) > 1"
   ]
  },
  {
   "cell_type": "code",
   "execution_count": 58,
   "id": "ceec1673-668e-4cc1-b8b5-9f2695fd47d1",
   "metadata": {},
   "outputs": [
    {
     "ename": "NameError",
     "evalue": "name 'oneIRMtrackCut' is not defined",
     "output_type": "error",
     "traceback": [
      "\u001b[0;31m---------------------------------------------------------------------------\u001b[0m",
      "\u001b[0;31mNameError\u001b[0m                                 Traceback (most recent call last)",
      "Input \u001b[0;32mIn [58]\u001b[0m, in \u001b[0;36m<cell line: 1>\u001b[0;34m()\u001b[0m\n\u001b[0;32m----> 1\u001b[0m \u001b[38;5;28many\u001b[39m(\u001b[43moneIRMtrackCut\u001b[49m)\n",
      "\u001b[0;31mNameError\u001b[0m: name 'oneIRMtrackCut' is not defined"
     ]
    }
   ],
   "source": [
    "any(oneIRMtrackCut)"
   ]
  },
  {
   "cell_type": "code",
   "execution_count": 35,
   "id": "0f609dbc-d41d-46be-878e-450e538b2a56",
   "metadata": {},
   "outputs": [
    {
     "data": {
      "text/plain": [
       "<MomentumArray4D [[[{pt: 0.713, ... mass: 0}]]] type='33 * var * var * Momentum4...'>"
      ]
     },
     "execution_count": 35,
     "metadata": {},
     "output_type": "execute_result"
    }
   ],
   "source": [
    "cluster.constituents()"
   ]
  },
  {
   "cell_type": "code",
   "execution_count": 39,
   "id": "433bb0b6-95cf-4ffd-9a12-3fa2dc681d88",
   "metadata": {},
   "outputs": [
    {
     "data": {
      "text/plain": [
       "'0.8.5'"
      ]
     },
     "execution_count": 39,
     "metadata": {},
     "output_type": "execute_result"
    }
   ],
   "source": []
  },
  {
   "cell_type": "code",
   "execution_count": null,
   "id": "6f315756-f3a6-4a4d-bbc5-4ac61df8ab8f",
   "metadata": {},
   "outputs": [],
   "source": []
  }
 ],
 "metadata": {
  "kernelspec": {
   "display_name": "Python 3 (ipykernel)",
   "language": "python",
   "name": "python3"
  },
  "language_info": {
   "codemirror_mode": {
    "name": "ipython",
    "version": 3
   },
   "file_extension": ".py",
   "mimetype": "text/x-python",
   "name": "python",
   "nbconvert_exporter": "python",
   "pygments_lexer": "ipython3",
   "version": "3.8.13"
  }
 },
 "nbformat": 4,
 "nbformat_minor": 5
}
