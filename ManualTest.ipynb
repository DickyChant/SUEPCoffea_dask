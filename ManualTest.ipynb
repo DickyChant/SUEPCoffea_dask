{
 "cells": [
  {
   "cell_type": "code",
   "execution_count": 1,
   "id": "87d28194-1113-4364-93a5-8c88bccd9f01",
   "metadata": {},
   "outputs": [],
   "source": [
    "import uproot\n",
    "import awkward as ak"
   ]
  },
  {
   "cell_type": "code",
   "execution_count": 2,
   "id": "af84533e-989e-4e85-afc6-39794a42f5d9",
   "metadata": {},
   "outputs": [],
   "source": [
    "file = uproot.open(\"root://xcache//store/user/paus/nanosu/A01/QCD_Pt_80to120_TuneCP5_13TeV_pythia8+RunIISummer20UL18MiniAODv2-106X_upgrade2018_realistic_v16_L1v1-v1+MINIAODSIM//011FFC64-48D6-ED41-9A65-E2815CDD94BA.root\")"
   ]
  },
  {
   "cell_type": "code",
   "execution_count": 3,
   "id": "d4eab9bf-93f9-43df-81c3-53358c48814f",
   "metadata": {},
   "outputs": [],
   "source": [
    "events = file['Events']"
   ]
  },
  {
   "cell_type": "code",
   "execution_count": 4,
   "id": "27a6bab5-b4c2-45b0-83c6-77e514dd1f6b",
   "metadata": {},
   "outputs": [],
   "source": [
    "Jets = ak.zip(\n",
    "    {\n",
    "        \"pt\": events['Jet_pt'].array(),\n",
    "        \"eta\": events['Jet_eta'].array(),\n",
    "        \"phi\": events['Jet_phi'].array(),\n",
    "        \"mass\": events['Jet_mass'].array(),\n",
    "        \"jetId\": events['Jet_jetId'].array(),\n",
    "    }\n",
    ")\n",
    "jetCut = (Jets.pt > 30) & (abs(Jets.eta) < 4.7)\n",
    "ak4jets = Jets[jetCut]\n",
    "ht = ak.sum(ak4jets.pt, axis=-1)"
   ]
  },
  {
   "cell_type": "code",
   "execution_count": 5,
   "id": "ead8d6e5-b14c-453f-8bf5-bedf7d489617",
   "metadata": {},
   "outputs": [
    {
     "data": {
      "text/plain": [
       "1"
      ]
     },
     "execution_count": 5,
     "metadata": {},
     "output_type": "execute_result"
    }
   ],
   "source": [
    "trigger = events['HLT_TripleMu_5_3_3_Mass3p8_DCA'].array()\n",
    "ak.sum(trigger)"
   ]
  },
  {
   "cell_type": "code",
   "execution_count": 6,
   "id": "8116c60f-54f0-4731-9cda-70c1c8cef378",
   "metadata": {},
   "outputs": [],
   "source": [
    "Cands = ak.zip(\n",
    "    {\n",
    "        \"pt\": events['PFCands_trkPt'].array()[trigger],\n",
    "        \"eta\": events['PFCands_trkEta'].array()[trigger],\n",
    "        \"phi\": events['PFCands_trkPhi'].array()[trigger],\n",
    "        \"mass\": events['PFCands_mass'].array()[trigger],\n",
    "    },\n",
    "    with_name=\"Momentum4D\",\n",
    ")"
   ]
  },
  {
   "cell_type": "code",
   "execution_count": null,
   "id": "b82d4b90-6fcd-4f14-a23b-0782176d8eb3",
   "metadata": {
    "tags": []
   },
   "outputs": [],
   "source": [
    "cut = (\n",
    "    (events['PFCands_fromPV'].array()[trigger] > 1) &\n",
    "    (events['PFCands_trkPt'].array()[trigger] >= 0.7) &\n",
    "    (abs(events['PFCands_trkEta'].array()[trigger]) <= 2.5) &\n",
    "    (abs(events['PFCands_dz'].array()[trigger]) < 10) &\n",
    "    (events['PFCands_dzErr'].array()[trigger] < 0.05)\n",
    ")"
   ]
  },
  {
   "cell_type": "code",
   "execution_count": null,
   "id": "4bd1c1e7-dd50-4a68-a92b-804a22c5bebd",
   "metadata": {},
   "outputs": [],
   "source": [
    "cut"
   ]
  },
  {
   "cell_type": "code",
   "execution_count": null,
   "id": "859ef07d-aaf3-45cb-97cf-a82e9947313e",
   "metadata": {},
   "outputs": [],
   "source": []
  }
 ],
 "metadata": {
  "kernelspec": {
   "display_name": "Python 3 (ipykernel)",
   "language": "python",
   "name": "python3"
  },
  "language_info": {
   "codemirror_mode": {
    "name": "ipython",
    "version": 3
   },
   "file_extension": ".py",
   "mimetype": "text/x-python",
   "name": "python",
   "nbconvert_exporter": "python",
   "pygments_lexer": "ipython3",
   "version": "3.8.13"
  }
 },
 "nbformat": 4,
 "nbformat_minor": 5
}
